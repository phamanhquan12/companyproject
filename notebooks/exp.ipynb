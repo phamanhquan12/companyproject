{
 "cells": [
  {
   "cell_type": "code",
   "execution_count": 10,
   "id": "a0addbc8",
   "metadata": {},
   "outputs": [
    {
     "data": {
      "text/markdown": [
       "Công thức: Lương tháng = Khoản cố định tháng/ số ngày làm việc theo lịch x (Số ngày đi học x 85% + Số ngày đi làm bình thường không đi học x 100%) **(2) Công tác** Lương trong thời gian đi công tác: hưởng 100% tiền lương làm việc thông thường **(3) Phái cử:** Là trường hợp Công ty cử đi làm việc tại một cứ điểm khác trong cùng tập đoàn. Lương và BHXH: theo quy định của tập đoàn _(Quy định điều chuyển công tác quốc tế)_ Bảo hiểm bắt buộc ở Việt Nam: Theo quy định của luật Bảo hiểm xã hội Việt Nam như chi tiết ở Điều 16. **Điều 12. Tiền lương trong thời gian nghỉ** **(1) Nghỉ hưởng lương** Nếu nhân viên nghỉ một trong các loại nghỉ sau: Nghỉ phép, nghỉ hiếu/ hỉ, nghỉ tai nạn lao động, nghỉ bù, nghỉ chu kỳ, nghỉ chế độ con nhỏ, nghỉ trước/ sau khi đi phái cử, sau khi đi công tác, đào tạo, nghỉ làm hộ chiếu theo yêu cầu công tác của Công ty, nghỉ khám nghĩa vụ quân sự, nhân viên vẫn được hưởng nguyên lương những ngày nghỉ này. **(2) Nghỉ hưởng lương từ cơ quan BHXH** Nghỉ hưởng lương từ cơ quan BHXH theo luật Bảo hiểm bao gồm các loại nghỉ sau: nghỉ bản thân ốm, nghỉ con ốm, nghỉ khám thai, nghỉ thai sản, nghỉ dưỡng sức…Những loại nghỉ này được ghi nhận khi có giấy chứng nhận nghỉ việc hưởng Bảo hiểm Xã hội và được tính dựa trên lương đóng BHXH theo Luật Bảo hiểm. **(3) Nghỉ không hưởng lương** Nghỉ không hưởng lương của Công ty bao gồm các loại nghỉ: nghỉ hưởng lương từ BHXH, nghỉ việc riêng, nghỉ việc riêng không lý do. Số tiền bị trừ cho loại nghỉ không hưởng lương = Tiền lương/ số ngày làm việc theo lịch x số ngày nghỉ không hương lương. Trong đó: Tiền lương = Khoản cố định tháng + phụ cấp lương. **Điều 13. Tiền lương đối với các trường hợp nghỉ việc** Đối với trường hợp nghỉ việc, lương của tháng làm việc cuối cùng sẽ được tính dựa trên công thức sau: Lương tháng = Tiền lương / số ngày làm việc theo lịch của tháng x Số ngày làm việc thực tế được tính cho đến ngày làm việc cuối cùng tại Công ty. Ngoài ra, khi người lao động chấm dứt Hợp đồng lao động đúng luật và có thời gian làm việc thường xuyên đủ 12 tháng trở lên thì sẽ được hưởng Trợ cấp thôi việc theo quy định của Luật lao động, mỗi năm được nửa tháng tiền lương Tiền trợ cấp thôi việc = Thời gian làm việc để tính trợ cấp thôi việc x Tiền lương x ½ Trong đó: 7/21"
      ],
      "text/plain": [
       "<IPython.core.display.Markdown object>"
      ]
     },
     "metadata": {},
     "output_type": "display_data"
    },
    {
     "name": "stdout",
     "output_type": "stream",
     "text": [
      "None\n"
     ]
    }
   ],
   "source": [
    "import pickle\n",
    "import os\n",
    "from IPython.display import display, Markdown\n",
    "path = os.path.join(os.path.dirname(os.path.abspath(__vsc_ipynb_file__)), 'processed', 'luong.pkl')\n",
    "with open('/Users/chungnn/companyproject/processed/luong.pkl', 'rb+') as f:\n",
    "    content = pickle.load(f)\n",
    "\n",
    "\n",
    "print(display(Markdown(content[6].page_content)))\n"
   ]
  },
  {
   "cell_type": "code",
   "execution_count": 2,
   "id": "92b6619f",
   "metadata": {},
   "outputs": [
    {
     "data": {
      "text/plain": [
       "'/Users/chungnn/companyproject/notebooks/exp.ipynb'"
      ]
     },
     "execution_count": 2,
     "metadata": {},
     "output_type": "execute_result"
    }
   ],
   "source": [
    "os.path.abspath(__vsc_ipynb_file__)"
   ]
  },
  {
   "cell_type": "code",
   "execution_count": 61,
   "id": "87ab3fe5",
   "metadata": {},
   "outputs": [
    {
     "name": "stdout",
     "output_type": "stream",
     "text": [
      "import completed\n"
     ]
    }
   ],
   "source": [
    "import os\n",
    "import pickle\n",
    "import faiss\n",
    "import re\n",
    "from pathlib import Path\n",
    "from typing import List\n",
    "from langchain.docstore.document import Document\n",
    "from langchain.text_splitter import RecursiveCharacterTextSplitter\n",
    "from langchain.vectorstores import FAISS\n",
    "from langchain_huggingface import HuggingFaceEmbeddings\n",
    "from langchain_ollama import OllamaEmbeddings\n",
    "from langchain_ollama import ChatOllama\n",
    "from langchain_core.prompts import PromptTemplate, ChatPromptTemplate, HumanMessagePromptTemplate\n",
    "from langchain.retrievers import EnsembleRetriever\n",
    "from langchain_core.output_parsers import StrOutputParser\n",
    "from langchain_pymupdf4llm import PyMuPDF4LLMLoader\n",
    "from langchain_community.retrievers import BM25Retriever\n",
    "from langchain.docstore import InMemoryDocstore \n",
    "from langchain_community.document_loaders.parsers.images import TesseractBlobParser\n",
    "from langdetect import detect, LangDetectException\n",
    "from langchain.retrievers.multi_query import MultiQueryRetriever    \n",
    "from langchain_core.output_parsers import BaseOutputParser\n",
    "from pydantic import BaseModel, Field\n",
    "from langgraph.graph import START, END\n",
    "from uuid import uuid4\n",
    "import logging\n",
    "from IPython.display import Markdown, display\n",
    "from underthesea import word_tokenize\n",
    "print('import completed')\n",
    "\n",
    "PDF_PATH = 'true_test.pdf'\n",
    "FAISS_INDEX_PATH =  'faiss_index'\n",
    "IMAGE_DIR = 'extracted_images'\n",
    "EMBEDDING_MODEL_NAME = 'mxbai-embed-large:335m'\n",
    "EMBEDDING_MODEL2 = 'vinai/phobert-base-v2'\n",
    "MODEL_NAME = 'llama3.1:8b'\n",
    "CHUNKS_CACHE_PATH = \"chunks_cache2.pkl\""
   ]
  },
  {
   "cell_type": "code",
   "execution_count": 12,
   "id": "79dbf7d6",
   "metadata": {},
   "outputs": [
    {
     "name": "stdout",
     "output_type": "stream",
     "text": [
      "loader created\n"
     ]
    }
   ],
   "source": [
    "loader = PyMuPDF4LLMLoader(PDF_PATH, mode = 'page' , extract_images=True, images_parser=TesseractBlobParser(langs=['vie', 'jpn']), table_strategy='lines')\n",
    "print('loader created')"
   ]
  },
  {
   "cell_type": "code",
   "execution_count": 7,
   "id": "ba76afe9",
   "metadata": {},
   "outputs": [],
   "source": [
    "import pytesseract\n",
    "pytesseract.pytesseract.tesseract_cmd = r'C:\\Program Files\\Tesseract-OCR\\tesseract.exe'"
   ]
  },
  {
   "cell_type": "code",
   "execution_count": 3,
   "id": "1b5aaa85",
   "metadata": {},
   "outputs": [],
   "source": [
    "VIET_PATTERN = re.compile(r'[\\w\\sÀ-ỹ\\u0300-\\u036F.,;:!?()“”‘’\\-–—]+', re.UNICODE)\n",
    "JAP_PATTERN = re.compile(r\"[\\u3040-\\u309F\\u30A0-\\u30FF\\u4E00-\\u9FFF]+\") #Hiragana, Katakana, Kanji"
   ]
  },
  {
   "cell_type": "code",
   "execution_count": 70,
   "id": "9296ed51",
   "metadata": {},
   "outputs": [],
   "source": [
    "def detect_language_with_fallback(text, fallback='vi'):\n",
    "    if len(text.strip()) < 50:  # Too short → unreliable detection\n",
    "        return fallback\n",
    "    try:\n",
    "        lang = detect(text)\n",
    "        if lang in ['vi', 'ja']:\n",
    "            return lang\n",
    "        else:\n",
    "            return fallback\n",
    "    except LangDetectException:\n",
    "        return fallback\n",
    "def preprocess_vie(text):\n",
    "    text = JAP_PATTERN.sub('', text)\n",
    "    vie_chars = \"ạảãàáâậầấẩẫăắằặẳẵèéẹẻẽêềếệểễìíịỉĩòóọỏõôồốộổỗơờớợởỡùúụủũưừứựửữỳýỵỷỹđ\"\n",
    "    pattern = re.compile(f\"([{vie_chars}]) ([{vie_chars}])\")\n",
    "    while True:\n",
    "        new_text = pattern.sub(r\"\\1\\2\", text)  \n",
    "        if new_text == text:\n",
    "            break\n",
    "        text = new_text\n",
    "    try:\n",
    "        tokens = word_tokenize(text)\n",
    "        text = \" \".join(tokens)\n",
    "    except:\n",
    "        pass\n",
    "    text = re.sub(r\"\\s+\", ' ', text).strip()\n",
    "    return text\n",
    "def preprocess_jpn(text):\n",
    "    VIET_LATIN_PATTERN = re.compile(r'[a-zA-ZÀ-ỹ\\u0300-\\u036F]+')\n",
    "    text = VIET_LATIN_PATTERN.sub('', text)\n",
    "    JP_KEEP_PATTERN = re.compile(r'[\\u3040-\\u309F\\u30A0-\\u30FF\\u4E00-\\u9FFF。、・「」『』（）！？…―\\s]')\n",
    "    text = ''.join(char for char in text if JP_KEEP_PATTERN.match(char))\n",
    "    text = re.sub(r'\\s+', ' ', text).strip()\n",
    "\n",
    "    return text\n",
    "\n",
    "def load_and_chunk_from_document(path):\n",
    "    loader = PyMuPDF4LLMLoader(\n",
    "        path, \n",
    "        mode='page', \n",
    "        extract_images=True,\n",
    "        images_parser=TesseractBlobParser(langs=['vie', 'jpn']),\n",
    "        table_strategy='lines'\n",
    "    )\n",
    "\n",
    "    docs = loader.lazy_load()\n",
    "    vietnamese_docs, japanese_docs = [], []\n",
    "\n",
    "    for doc in docs:\n",
    "        print(f'Processing document: {doc.metadata.get(\"source\", \"unknown source\")}, page {doc.metadata.get(\"page\", \"N/A\")}')\n",
    "        content = doc.page_content\n",
    "        lang = detect_language_with_fallback(content, fallback='vi')\n",
    "\n",
    "        if lang == 'vi':\n",
    "            cleaned = preprocess_vie(content)\n",
    "            if len(cleaned) > 10:  \n",
    "                vietnamese_docs.append(\n",
    "                    Document(\n",
    "                        page_content=cleaned,\n",
    "                        metadata={**doc.metadata, 'language': 'vi'}\n",
    "                    )\n",
    "                )\n",
    "        elif lang == 'ja':\n",
    "            cleaned = preprocess_jpn(content)\n",
    "            if len(cleaned) > 10:\n",
    "                japanese_docs.append(\n",
    "                    Document(\n",
    "                        page_content=cleaned,\n",
    "                        metadata={**doc.metadata, 'language': 'ja'}\n",
    "                    )\n",
    "                )\n",
    "\n",
    "    return vietnamese_docs, japanese_docs\n",
    "\n"
   ]
  },
  {
   "cell_type": "code",
   "execution_count": null,
   "id": "0046eb3b",
   "metadata": {},
   "outputs": [],
   "source": [
    "class HierarichicalChunker:\n",
    "    def __init__(self, vector_store, embedding_fn):\n",
    "        self.vector_store = vector_store\n",
    "        self.embedding_fn = embedding_fn\n",
    "        self.parent_splitter = RecursiveCharacterTextSplitter(\n",
    "            chunk_size = 1200,\n",
    "            chunk_overlap = 200,\n",
    "            separators = ['\\n', '.', ' ', ''],\n",
    "            keep_separator = True\n",
    "        )\n",
    "        self.child_splitter = RecursiveCharacterTextSplitter(\n",
    "            chunk_size = 500,\n",
    "            chunk_overlap = 50,\n",
    "            separators = ['\\n', '.', ' ', ''],\n",
    "            keep_separator = True\n",
    "        )\n",
    "    def chunk(self, documents: List[Document]) -> List[Document]:\n",
    "        parent_chunks, child_chunks = [], []\n",
    "\n",
    "        for doc in documents:\n",
    "            p_docs = self.parent_splitter.split_documents([doc])\n",
    "            for p_doc in p_docs:\n",
    "                parent_id = str(uuid4())\n",
    "                p_doc.metadata['chunk_level'] = 'parent'\n",
    "                parent_chunks.append(p_doc)\n",
    "\n",
    "                child_docs = self.child_splitter.split_documents([p_doc])\n",
    "                for c_doc in child_docs:\n",
    "                    c_doc.metadata['chunk_level'] = 'child'\n",
    "                    c_doc.metadata['parent_id'] = parent_id\n",
    "                    child_chunks.append(c_doc)\n",
    "        return {\n",
    "            'parent_chunks': parent_chunks,\n",
    "            'child_chunks': child_chunks\n",
    "        }\n",
    "    def add_to_vector_store(self, chunks: List[Document]):\n",
    "        for chunk in chunks['parent_chunks']:\n",
    "            self.vector_store.add_documents([chunk])\n",
    "        for chunk in chunks['child_chunks']:\n",
    "            self.vector_store.add_documents([chunk])\n",
    "    \n"
   ]
  },
  {
   "cell_type": "code",
   "execution_count": 77,
   "id": "ed359d26",
   "metadata": {},
   "outputs": [
    {
     "name": "stdout",
     "output_type": "stream",
     "text": [
      "Processing document: true_test.pdf, page 0\n",
      "Processing document: true_test.pdf, page 1\n",
      "Processing document: true_test.pdf, page 2\n",
      "Processing document: true_test.pdf, page 3\n",
      "Processing document: true_test.pdf, page 4\n",
      "Processing document: true_test.pdf, page 5\n",
      "Processing document: true_test.pdf, page 6\n",
      "Processing document: true_test.pdf, page 7\n",
      "Processing document: true_test.pdf, page 8\n",
      "Processing document: true_test.pdf, page 9\n",
      "Processing document: true_test.pdf, page 10\n",
      "Processing document: true_test.pdf, page 11\n",
      "Processing document: true_test.pdf, page 12\n",
      "Processing document: true_test.pdf, page 13\n",
      "Processing document: true_test.pdf, page 14\n",
      "Processing document: true_test.pdf, page 15\n",
      "Processing document: true_test.pdf, page 16\n",
      "Processing document: true_test.pdf, page 17\n",
      "Processing document: true_test.pdf, page 18\n",
      "Processing document: true_test.pdf, page 19\n",
      "Processing document: true_test.pdf, page 20\n",
      "Processing document: true_test.pdf, page 21\n",
      "Processing document: true_test.pdf, page 22\n",
      "Processing document: true_test.pdf, page 23\n",
      "Processing document: true_test.pdf, page 24\n",
      "Processing document: true_test.pdf, page 25\n",
      "Processing document: true_test.pdf, page 26\n",
      "Processing document: true_test.pdf, page 27\n",
      "Processing document: true_test.pdf, page 28\n",
      "Processing document: true_test.pdf, page 29\n",
      "Processing document: true_test.pdf, page 30\n",
      "Processing document: true_test.pdf, page 31\n",
      "Processing document: true_test.pdf, page 32\n",
      "Processing document: true_test.pdf, page 33\n",
      "Processing document: true_test.pdf, page 34\n",
      "Processing document: true_test.pdf, page 35\n",
      "Processing document: true_test.pdf, page 36\n",
      "Processing document: true_test.pdf, page 37\n",
      "Processing document: true_test.pdf, page 38\n",
      "Processing document: true_test.pdf, page 39\n",
      "Processing document: true_test.pdf, page 40\n",
      "Processing document: true_test.pdf, page 41\n",
      "Processing document: true_test.pdf, page 42\n",
      "Processing document: true_test.pdf, page 43\n",
      "Processing document: true_test.pdf, page 44\n",
      "Processing document: true_test.pdf, page 45\n",
      "Processing document: true_test.pdf, page 46\n",
      "Processing document: true_test.pdf, page 47\n"
     ]
    }
   ],
   "source": [
    "vietnames_documents, japanese_documents = load_and_chunk_from_document(PDF_PATH)\n"
   ]
  },
  {
   "cell_type": "code",
   "execution_count": 30,
   "id": "6fa8f49c",
   "metadata": {},
   "outputs": [
    {
     "name": "stderr",
     "output_type": "stream",
     "text": [
      "C:\\Users\\vnintern02\\AppData\\Local\\Packages\\PythonSoftwareFoundation.Python.3.11_qbz5n2kfra8p0\\LocalCache\\local-packages\\Python311\\site-packages\\huggingface_hub\\file_download.py:143: UserWarning: `huggingface_hub` cache-system uses symlinks by default to efficiently store duplicated files but your machine does not support them in C:\\Users\\vnintern02\\.cache\\huggingface\\hub\\models--intfloat--multilingual-e5-large. Caching files will still work but in a degraded version that might require more space on your disk. This warning can be disabled by setting the `HF_HUB_DISABLE_SYMLINKS_WARNING` environment variable. For more details, see https://huggingface.co/docs/huggingface_hub/how-to-cache#limitations.\n",
      "To support symlinks on Windows, you either need to activate Developer Mode or to run Python as an administrator. In order to activate developer mode, see this article: https://docs.microsoft.com/en-us/windows/apps/get-started/enable-your-device-for-development\n",
      "  warnings.warn(message)\n",
      "Xet Storage is enabled for this repo, but the 'hf_xet' package is not installed. Falling back to regular HTTP download. For better performance, install the package with: `pip install huggingface_hub[hf_xet]` or `pip install hf_xet`\n",
      "Xet Storage is enabled for this repo, but the 'hf_xet' package is not installed. Falling back to regular HTTP download. For better performance, install the package with: `pip install huggingface_hub[hf_xet]` or `pip install hf_xet`\n",
      "Xet Storage is enabled for this repo, but the 'hf_xet' package is not installed. Falling back to regular HTTP download. For better performance, install the package with: `pip install huggingface_hub[hf_xet]` or `pip install hf_xet`\n"
     ]
    },
    {
     "name": "stdout",
     "output_type": "stream",
     "text": [
      "embedding functions created\n"
     ]
    }
   ],
   "source": [
    "vn_embedding_fn = HuggingFaceEmbeddings(\n",
    "    model_name='intfloat/multilingual-e5-large',\n",
    "    model_kwargs={'device': 'cpu'},\n",
    "    encode_kwargs={'normalize_embeddings': True}\n",
    ")\n",
    "jp_embedding_fn = HuggingFaceEmbeddings(\n",
    "    model_name = 'intfloat/multilingual-e5-small',\n",
    "    model_kwargs={'device': 'cpu'},\n",
    "    encode_kwargs={'normalize_embeddings': True}\n",
    ")\n",
    "print('embedding functions created')"
   ]
  },
  {
   "cell_type": "code",
   "execution_count": null,
   "id": "15fa9b63",
   "metadata": {},
   "outputs": [
    {
     "ename": "TypeError",
     "evalue": "FAISS.__init__() missing 3 required positional arguments: 'index', 'docstore', and 'index_to_docstore_id'",
     "output_type": "error",
     "traceback": [
      "\u001b[31m---------------------------------------------------------------------------\u001b[39m",
      "\u001b[31mTypeError\u001b[39m                                 Traceback (most recent call last)",
      "\u001b[36mCell\u001b[39m\u001b[36m \u001b[39m\u001b[32mIn[79]\u001b[39m\u001b[32m, line 1\u001b[39m\n\u001b[32m----> \u001b[39m\u001b[32m1\u001b[39m vector_database_vn = \u001b[43mFAISS\u001b[49m\u001b[43m(\u001b[49m\u001b[43membedding_function\u001b[49m\u001b[43m=\u001b[49m\u001b[43mvn_embedding_fn\u001b[49m\u001b[43m)\u001b[49m\n\u001b[32m      2\u001b[39m vector_database_jp = FAISS(embedding_function=jp_embedding_fn)\n\u001b[32m      3\u001b[39m chunker_vn = HierarichicalChunker(vector_database_vn)\n",
      "\u001b[31mTypeError\u001b[39m: FAISS.__init__() missing 3 required positional arguments: 'index', 'docstore', and 'index_to_docstore_id'"
     ]
    }
   ],
   "source": [
    "vector_database_vn = FAISS(embedding_function=vn_embedding_fn)\n",
    "vector_database_jp = FAISS(embedding_function=jp_embedding_fn)\n",
    "chunker_vn = HierarichicalChunker(vector_database_vn)\n",
    "chunker_jp = HierarichicalChunker(vector_database_jp)\n",
    "vn_chunks = chunker_vn.chunk(vietnames_documents)\n",
    "jp_chunks = chunker_jp.chunk(japanese_documents)"
   ]
  },
  {
   "cell_type": "code",
   "execution_count": null,
   "id": "8a98498e",
   "metadata": {},
   "outputs": [],
   "source": []
  },
  {
   "cell_type": "code",
   "execution_count": 37,
   "id": "81bb1986",
   "metadata": {},
   "outputs": [],
   "source": [
    "if vietnamese_chunks:\n",
    "    vn_vector_store = FAISS.from_documents(vietnamese_chunks, vn_embedding_fn)\n",
    "    # print(f'Vietnamese vector store created and saved at {FAISS_INDEX_PATH}_vn.pkl.')\n",
    "if japanese_chunks:\n",
    "    jp_vector_store = FAISS.from_documents(japanese_chunks, jp_embedding_fn)\n",
    "    # with open(f'{FAISS_INDEX_PATH}_jp.pkl', 'wb') as f:\n",
    "    #     pickle.dump(jp_vector_store, f)\n",
    "    # print(f'Japanese vector store created and saved at {FAISS_INDEX_PATH}_jp.pkl.')"
   ]
  },
  {
   "cell_type": "code",
   "execution_count": null,
   "id": "ff531690",
   "metadata": {},
   "outputs": [],
   "source": [
    "bm25_vn_retriever = BM25Retriever.from_documents(\n",
    "    vietnamese_chunks,\n",
    "    preprocess_func=word_tokenize,\n",
    "    search_kwargs={'k':5}\n",
    ")"
   ]
  },
  {
   "cell_type": "code",
   "execution_count": 39,
   "id": "53718985",
   "metadata": {},
   "outputs": [],
   "source": [
    "bm25_jp_retriever = BM25Retriever.from_documents(\n",
    "    japanese_chunks,\n",
    "    search_kwargs={'k':5}\n",
    ")"
   ]
  },
  {
   "cell_type": "code",
   "execution_count": 40,
   "id": "3ab190f4",
   "metadata": {},
   "outputs": [],
   "source": [
    "vn_retriever = vn_vector_store.as_retriever(search_kwargs={'k':20 , 'filter' : {'language': 'vi'}})\n",
    "jp_retriever = jp_vector_store.as_retriever(search_kwargs={'k':5})\n",
    "unified_retriever = EnsembleRetriever(\n",
    "    retrievers = [vn_retriever, jp_retriever],\n",
    "    weights = [0.9, 0.1]\n",
    ")"
   ]
  },
  {
   "cell_type": "code",
   "execution_count": 51,
   "id": "b565c6b3",
   "metadata": {},
   "outputs": [],
   "source": [
    "vn_ensemble_retriever = EnsembleRetriever(\n",
    "    retrievers = [vn_retriever, bm25_vn_retriever],\n",
    "    weights = [0.6, 0.4]\n",
    ")"
   ]
  },
  {
   "cell_type": "code",
   "execution_count": 42,
   "id": "13848052",
   "metadata": {},
   "outputs": [],
   "source": [
    "question = 'Giờ làm việc cơ bản?'\n",
    "retrieved_docs = vn_ensemble_retriever.invoke(question)"
   ]
  },
  {
   "cell_type": "code",
   "execution_count": 43,
   "id": "1e308867",
   "metadata": {},
   "outputs": [
    {
     "data": {
      "text/markdown": [
       "! [ Công ty TNHH DENSO Việt Nam - Việc chụp ảnh trong Công ty phải được thực hiện bằng máy ảnh của Công ty với mục đích công việc vàđược phê duyệt với từng mức độ bảo mật ( đeo băng tay vải màu cam và có dòng chữ “ Camera ” ) ; - Ảnh chụp trong Công ty được coi là tài sản thông tin của Công ty . Do vậy , cầm mọi hình thức phân phối ảnh chụp trong Công ty vàảnh chụp cá nhân mặc đồng phục DENSO ra bên ngoài , bao gồm cả trang mạng xã hội nếu chưa được phê duyệt bởi các cấp có thâm quyên ; - Công ty thực hiện đào tạo người lao động về hoạt động bảo vệ tài sản , bí mật kinh doanh công nghệ của Công ty . 3 . Xử lí kỷ luật Đối với những hành vi xâm phạm tài sản , bí mat kinh doanh công nghệ của Công ty , tùy theo lỗi , mức độ nghiêm trọng về hậu quả mà có thể bị xử lý kỷ luật theo điều 39 chương 7 hoặc Công ty khởi kiện theo quy định của pháp luật . CHƯƠNG 4 - NHIỆM VỤ LÀM VIỆC Phần 1 : Giờ làm việc Điều 11 : Giờ làm việc cơ bản 1 . Lịch làm việc hàng năm ( bao gồm ngày nghỉ tuần ) được quy định cụ thể và thông báo cho người lao động vào đầu năm sau khi tham khảo ý kiến của tổ chức đại diện người lao động . 2 . Đối với nhân viên khối văn phòng : 2.1 Giờ làm việc bình thường không quá 10 giờ / ngày và 48 giờ / tuần . 2.2 Ngày nghỉ hằng tuần của nhân viên là Thứ Bảy , Chủ Nhật 2.3 Giờ làm việc như sau : GIỜ LÀM VIỆC THỰC TẾ NGHỈ NGẮN ( 8 Giờ 35 Phút ) ( 20 phút ) h Nghỉ giải lao và so zÄ 。 Buổi sáng ïn trữ Buổi chiều Nghỉ ngắn § : 10 ~ 12 : 00 | 12 : 00 ~ 12 : 30 12 : 30 ~ 17 : 15 | 20 phút ( thời gian linh hoạt ) 3 . Đối với nhân viên khối nhà máy : 3.1 Ngày nghỉ hằng tuần của nhân viên là Chủ Nhật . 3.2 Về cơ bản , giờ của các ca làm việc sẽ như sau : Ca | Bấtđầu | Giảilaoldnl | Giải lao lần 2 | ( ; ; 1 olận4 | Kếtthúc và Ăn giữa ca Cai | 06 : 00 | 08 : 00 < 08 : 10 | 10 : 00 ~ 1030 | 12 : 15 ~ 1225 | 14 : 00 Ca2 | 14 : 00 | 16 : 00 ~ 16 : 10 | 18 : 00 ~ 18 : 30 | 20 : 15 ~ 20 : 25 | 22 : 00 Ca3 | 22 : 00 _ | 00 : 00 ~ 00 : 10 | 02 : 00 ~ 02 : 45 | 04 : 30 ~ 04 : 40 | 06 : 00 4 . Giờ nghỉăn giữa ca : ca ngày là 30 phút , ca đêm là 45 phút . ] ( # )"
      ],
      "text/plain": [
       "<IPython.core.display.Markdown object>"
      ]
     },
     "metadata": {},
     "output_type": "display_data"
    },
    {
     "data": {
      "text/markdown": [
       "! [ Công ty TNHH DENSO Việt Nam TIẾNG VIỆT NỘI QUY LAO ĐỘNG MỤC LỤC CHUONG 1 : NHŨNG QUY ĐỊNH CHUNG Trang : 4 Điều 1 : Mục đích của nội quy Trang : 4 Điều 2 : Phạm vi áp dụng Trang : 4 Điều 3 : Người lao động Trang : 4 Điều 4 : Cấp trên Trang : 4 Điều 5 : Người sử dụng lao động Trang : 4 CHƯƠNG 2 : TRẬT TỰTRONG CÔNG TY Trang : 4 Điều 6 : Thái độ cơ bản Trang : 4 Điều 7 : Chấp hành nội quy Trang : 4 Điều 8 : Ra vào công ty Trang : 5 CHƯƠNG 3 : CHUYỂN NGƯỜI LAO ĐỘNG LÀM Trang : 6 CÔNG VIỆC KHÁC VỚI HỢP ĐỒNG LAO ĐỘNG . BẢO VỆ BÍ MẬT KINH DOANH , CÔNG NGHỆ , SỞ HỮU TRÍ TUỆ CỦA CÔNG TY Điều 9 : Thay đổi công việc khác với Hợp đồng lao động Trang : 6 Điều 10 : Bảo vệ bí mật kinh doanh , công nghệ của công ty Trang : 7 CHƯƠNG 4 : NHIỆM VỤ LÀM VIỆC Trang : 8 Phần 1 : Giờ làm việc Trang : 8 Điều 11 : Giờ làm việc cơ bản Trang : 8 Điều 12 : Lam thêm giờ Trang : 9 Điều 13 : Ngoại lệ trong trường hợp khẩn cấp Trang : 10 Phần 2 : Ngày nghỉ Trang : 10 Điều 14 : Nghỉ lễ Trang : 10 Điều 15 : Nghỉ phép Trang : 10 ] ( # )"
      ],
      "text/plain": [
       "<IPython.core.display.Markdown object>"
      ]
     },
     "metadata": {},
     "output_type": "display_data"
    },
    {
     "data": {
      "text/markdown": [
       "! [ Công ty TNHH DENSO Việt Nam Điều 16 : Thủ tục xin nghỉ phép Trang : 11 Điều 17 : Xem xét lại Trang : 11 Điều 18 : Các ngày nghỉ khác Trang : 11 Điều 19 : Nghỉ không lương Trang : 11 Điều 20 : Thủ tục xin nghỉốm Trang : 12 Điều 21 : Nghỉ không phép Trang : 12 Điều 22 : Đi làm muộn Trang : 12 Phần 3 : Đi công tác Trang : 13 Điều 23 : Đi công tác Trang : 13 CHUONG 5 : SỨC KHỎE VA AN TOAN Trang : 13 Phân 1 : Thái độ cơ bản Trang : 13 Điều 24 : Thái độ cơ bản Trang : 13 Phần 2 : An toàn Trang : 13 Điều 25 : Trách nhiệm của Công ty Trang : 13 Điều 26 : Trách nhiệm của Người lao động Trang : 14 Điều 27 : Sử dụng trang thiết bị Trang : 14 Điều 28 : Hạn chếđối với phụ nữ và một số lao động khác Trang : 14 Điều 29 : Báo cáo vàđiều tra về tai nạn có thể xảy ra Trang : 14 Phân 3 : Sức khỏe Trang : 15 Điều 30 : Quy định về sức khỏe Trang : 15 Điều 31 : Kiểm tra sức khỏe Trang : l5 Điều 32 : Nghiêm cấm đến nơi làm việc Trang : 15 Điều 33 : Sự ngăn chặn những bệnh truyền nhiễm Trang : l5 CHƯƠNG 6 : PHÒNG CHÓNG QUÁY RÓI TÌNH Trang : 16 DỤC TẠI NƠI LÀM VIỆC Điều 34 : Định nghĩa về “ Quay rối tình dục tại nơi làm việc ” Trang : 16 Điều 35 : Quyền và nghĩa vụ của người lao động về Trang : l6 Phòng chồng quấy rối tình dục tại nơi làm việc Điều 36 : Quy định về phòng chống quấy rồi tình dục Trang : 16 tại nơi làm việc ] ( # )"
      ],
      "text/plain": [
       "<IPython.core.display.Markdown object>"
      ]
     },
     "metadata": {},
     "output_type": "display_data"
    },
    {
     "data": {
      "text/markdown": [
       "! [ Công ty TNHH DENSO Việt Nam 9 . - Nhân viên có thời gian làm việc trong khoảng từ 22 : 00 đến 6 : 00 sáng ngày hôm sau được hưởng phụ cấp làm ca đêm bằng 35 % tiền lương của công việc làm ban ngày . . Thời điểm bất đầu hoặc kết thúc của giờ làm việc được quy định ở trên có nghĩa làđã “ sắn sàng làm việc ” hoặc “ kết thúc công việc ” tại vị trí làm việc . Thời gian đi tới nơi làm việc , thay trang phục , giao ca ... và từ nơi làm việc về không được tính là thời gian làm việc . . Việc không thể bắt đầu công việc vào thời điểm bắt đầu giờ làm việc hoặc ca làm việc mà không có lí do chính đáng sẽ bị coi là “ Di muộn ” . Rời vị trí làm việc mE \\ \\ ] không được cấp trên cho phép trước thời điểm kết thúc giờ làm việc sẽ bị coi là “ Ve sớm ” . h TB hợp bất khả kháng như dịch bệnh , sự cốđiện nước , thiên tai , cháy .. người lao động có thểđược yêu cầu nghỉ hàng tuần vào bất kỳ ngày nào trong tuần , không cốđịnh như trên lịch và Công ty sẽ thông báo trước cho người lao động bằng văn bản . Giờ làm việc trong thời gian công tác nước ngoài được quy định riêng . Nàng 12 : Làm thêm giờ bai . Khi cần làm thêm giờ do yêu cầu sản xuất kinh doanh , Công ty là người thỏa thuận , đồng ý cho người lao động làm thêm giờ khi đáp ứng các điều kiện sau : - Phai được sựđồng ý của người lao động tham gia làm thêm về các nội dung sau đây : thời gian làm thêm , địa điểm làm thêm , công việc làm thêm ; - Bảo đảm tổng số giờ làm việc bình thường và số giờ làm thêm của người lao động không quá 12 h / ngay : Tổng số giờ làm thêm không quá 40 h / tháng , không quá 200 h / năm ; Khi làm thêm từ 200 h đến 300 h thì công ty sẽ thực hiện các bước theo quy định của pháp luật . . Làm thêm giờ trong trường hợp đặc biệt Công ty có quyên yêu cầu người lao động làm thêm giờ vào bắt kỳ ngày nào mà không bị giới hạn về số giờ làm thêm theo quy định và người lao động không được từ chối trong trường hợp sau đây : - Thực hiện lệnh động viên , huy động đảm bảo nhiệm vụ quốc phòng , an ninh theo quy định của pháp luật ; Thực hiện các công việc nhằm bảo vệ tính mạng con người , tài sản của cơ quan , tổ chức , cá nhân trong phòng ngừa , khắc phục hậu quả thiên tai , hỏa hoạn , dịch bệnh nguy hiểm và thảm họa , trừ trường hợp có nguy cơ ảnh hưởng đến . tính mạng , sức khỏe của người lao động theo quy định của pháp luật về an toàn , vệ sinh lao động . Người lao động làm thêm giờđược trả lương như sau : 3.1 Vào ngày làm việc bình thường : bằng 150 % của tiền lương giờ trong ngày làm việc bình thường ; 3.2 Vào ngày nghỉ tuần : bằng 200 % của tiền lương giờ trong ngày làm việc bình thường ; 3.3 Vào ngày nghỉ lễ : bằng 300 % của tiền lương giờ trong ngày làm việc bình thường . - 9 - ] ( # )"
      ],
      "text/plain": [
       "<IPython.core.display.Markdown object>"
      ]
     },
     "metadata": {},
     "output_type": "display_data"
    },
    {
     "data": {
      "text/markdown": [
       "! [ Công ty TNHH DENSO Việt Nam 3.4 Người lao động làm thêm giờ vào ban đêm thì ngoài việc trả lương theo quy định tại khoản 3.1 , 3.2 và 3.3 Điều này , người lao động còn được trả thêm 20 % tiền lương theo tiền lương giờ làm việc ban ngày . Điều 13 : Ngoại lệ trong trường hợp khẩn cấp Khi có những nhu cầu tạm thời do ảnh hưởng nghiêm trọng của thiên tai , hành động phá hoại của kẻ thù , hỏa hoạn hoặc bệnh dịch mà Công ty phải giải quyết , Công ty có thể yêu cầu người lao động làm thêm giờ quá 4 tiếng / ngày . Công ty sẽ có báo cáo với cơ quan quản lý lao động cấp trên trong những trường hợp này . Phần 2 : Ngày nghỉ Điều 14 : Nghỉ lễ 1 . Người lao động được nghỉ làm việc , hưởng nguyên lương những ngày lễ sau : - Tết dương lịch : 1 ngày ( ngày 1 tháng 1 dương lịch ) - Tết âm lịch : 5 ngày - Ngày Chiến thắng : 1 ngày ( ngày 30 tháng 4 dương lịch ) - Ngày Quốc tế lao động : 1 ngày ( ngày 1 tháng 5 dương lịch ) - Ngày Quốc khánh : 2 ngày ( ngày 2 tháng 9 dương lịch và 1 ngày trước hoặc sau ngày Quốc Khánh ) - Ngày Giỗ Tổ Hùng Vương : 1 ngày ( ngày 10 tháng 3 âm lịch ) 2 . Nếu bất kỳ ngày lễ nào nói trên trùng vào ngày nghỉ tuần , người lao động sẽ được nghỉ bù vào ngày tiếp theo . 3 . Công ty sẽ thông báo Lịch làm việc cụ thể của năm tiếp theo cho toàn thể nhân viên vào cuối năm trước sau khi đã tham khảo ý kiến của Tổ chức đại diện người lao động trên cơ sở tuân thủ thời giờ làm việc , thời giờ nghỉ ngơi của Bộ luật lao động . Điều 15 : Nghỉ phép 1 . Cách tính ngày phép : 1.1 Thời gian thử việc và tập nghềđược coi là thời gian làm việc của người lao động để tính số ngày phép . 1.2 Người lao động làm đủ 12 tháng / năm sẽđược hưởng 12 ngày phép . Số ngày nghỉđược tăng theo thâm niên làm việc nhưng không vượt quá 20 ngày / năm , cụ thể như sau : s _ Cứ 4 năm được hưởng thêm 1 ngày s _ Từ năm thứ 8 , cứ 3 năm được hưởng thêm 1 ngày * _ Từ năm thứ 14 , cứ 2 năm được hưởng thêm 1 ngày * _ Từ năm thứ 20 , cứ 1 năm được hưởng thêm 1 ngày 1.3 Người lao động được tuyển dụng trong năm được hưởng số ngày phép như sau : * Nenu vào làm việc trước ngày 16 của tháng thì sẽđược tính phép . ngay từ tháng đó ; © Neu vào làm việc từ ngày 16 của tháng trởđi thì sẽđược tính phép từ tháng tiếp theo . = lỦ - ~ ] ( # )"
      ],
      "text/plain": [
       "<IPython.core.display.Markdown object>"
      ]
     },
     "metadata": {},
     "output_type": "display_data"
    },
    {
     "data": {
      "text/markdown": [
       "! [ NỘI QUY LAO ĐỘNG Công ty TNHH DENSO Việt Nam Hà Nội , tháng 07 năm 2022 ] ( # )"
      ],
      "text/plain": [
       "<IPython.core.display.Markdown object>"
      ]
     },
     "metadata": {},
     "output_type": "display_data"
    },
    {
     "data": {
      "text/markdown": [
       "! [ Công ty TNHH DENSO Việt Nam 3 . Khi người lao động đến muộn do vấn đề giao thông công cộng ( có bằng chứng ) hoặc do những lý do khác mà công ty thấy rằng ngoài sự kiểm soát của người lao động thì họ sẽ không bị coi làđi làm muộn . Phần 3 : Đi công tác Điều 23 : Đi công tác 1 . Người lao động có thểđược yêu cầu đi công tác xa vì lý do công việc ( trừ trường hợp người lao động nữ mang thai từ tháng thứ 7 hoặc đang nuôi con dưới 12 tháng tuổi ) . 2 . Khi người lao động không thể quay về công ty vào khoảng thời gian đãđịnh vì lý do công việc hoặc hoàn cảnh không tránh khỏi , hoặc phải đi đến nơi khác , người lao động phải được cấp trên đồng ý và phải theo những thủ tục cần thiết ngay sau khi trở lại làm việc . 3 . Người lao động phải báo trước nơi nào người đó sẽở trong suốt thời gian công tác . 4 . Sau khi đi công tác về , người lao động phải đệ trình báo cáo cho cấp trên ngay lập tức nếu được yêu cầu . 5 . Người lao động được hưởng ngày nghỉđặc biệt hưởng nguyên lương sau khi đi học tập / công tác nước ngoài về theo quy định sau : - Nếu khoáđào tạo / công tác từ 3 tháng trở lên : nghỉ 3 ngày ; - Nếu khoáđào tạo / công tác từ 1 tháng đến dưới 3 tháng : nghỉ 1 ngày . 6 . Thủ tục thanh toán những khoản chỉ phíđi công tác sẽđược nêu riêng . CHƯƠNG 5 - SỨC KHỎE VÀ AN TOÀN Phần 1 : Thái độ cơ bản Điều 24 : Thái độ cơ bản 1 . Người lao động phải có thái độ hợp tác và tuân thủ những biện pháp đảm bảo sức khỏe và an toàn của Công ty 2 . Người lao động phải hết sức cố gắng để không xảy ra tai nạn lao động cho chính mình và những người khác . 3 . Người lao động phải tuân theo sự chỉ dẫn của Công ty để giữ vững và cải thiện sức khỏe . Phần 2 : An toàn Điều 25 : Trách nhiệm của Công ty Công ty có trách nhiệm thực hiện theo quy định của Bộ luật lao động và các văn bản pháp luật có liên quan khác về vấn đề an toàn và vệ sinh lao động , cụ thể như sau : 1 . Trang bịđầy đủ phương tiện bảo hộ lao động , đảm bảo an toàn lao động ; 2 . Có phương tiện / dụng cụ che chắn các bộ phận dễ gây nguy hiểm của máy móc , thiết bị trong Công ty ; 3 . Đặt các biển chỉ dẫn về an toàn ở nơi dễ thấy , dễđọc ; = lÄ = ] ( # )"
      ],
      "text/plain": [
       "<IPython.core.display.Markdown object>"
      ]
     },
     "metadata": {},
     "output_type": "display_data"
    },
    {
     "data": {
      "text/markdown": [
       "! [ Công ty TNHH DENSO Việt Nam quá 60 ngày làm việc cộng đồn trong 01 năm thì cẦn có sựđồng ý bằng văn bản của người lao động . 3 . Công ty sẽ thông báo việc thay đổi công việc trước , càng sớm càng tốt , ít nhất 3 ngày làm việc trước khi người lao động phải thay đổi công việc hoặc chuyển chỗ làm việc . 4 . Trường hợp người lao động không đồng ý tạm thời làm công việc khác so với hợp đồng lao động quá 60 ngày làm việc cộng dồn trong 01 năm ma phải ngừng việc thì Công ty sẽ trả lương ngừng việc theo quy định của pháp luật . 5 . Trong thời gian thay đổi công việc , người lao động được trả lương theo công việc mới ; Tiền lương theo công việc mới được xác định căn cứ vào quy chế lương và thang bảng lương của Công ty và phù hợp với quy định của Bộ luật lao động . 6 . Công ty luôn khuyến khích người lao động chuyển đổi phòng ban để phát huy năng lực . Việc này sẽđược thực hiện khi có sựđồng ý của người lao động bằng văn bản . Điều 10 : Bảo vệ bí mật kinh doanh , công nghệ của Công ty 1 . Quy định chung về bảo vệ bí mật kinh doanh , công nghệ của Công ty - Tài sản , tài liệu bí mật kinh doanh , công nghệ của Công ty bao gôm các thông tin , hình ảnh về sản phẩm của Công ty , thông tin , hình ảnh về hoạt động sản xuất , kinh doanh , tài chính , nhân lực của Công ty ; - Nhân viên có nghĩa vụ bảo mật các thông tin liên quan đến Công ty hay liên quan đến nhân viên của Công ty . Cấm tuyệt đối việc rò rỉ thông tin về Công ty , hoạt động kinh doanh , thông tin về tài chính , thông tin về nhân lực của Công ty . 2 . Các biện pháp bảo vệ _ Kiểm tra các tài liệu , tài sản , vật tư , thiết bị lưu trữ khi ra vào Công ty tại cổng bảo vệ , nghiêm cắm mọi hành vi làm rò ri dữ liệu như : tựý sao chép dữ liệu ra thiết bị lưu trữ , sử dụng email để gửi thông tin mật của Công ty ra bên ngoài mà chưa được cập trên cho phép ... - Bảo mật thông tin Phân loại Định nghĩa Bao gm các thông tin “ TUYET MẬT ” vô cùng quan TUYET trọng , nếu rò ri thông tin này có thể trực tiếp ảnh hưởng tới = . | MẬT doanh thu của DENSO , các thành viên hợp nhất và của = khách hàng ờ Bao gôm các vân đề mật có mức độ quan trọng sau 8 TÓI MAT “ TUYỆT MẬT ” . Nếu rò rỉ thông tin này có thể gây hại tới = hình ảnh Công ty , mối quan hệ thân thiết va lợi nhuận Công ty Bao gm các vân đề mật có mức độ thâp hơn “ TUYET MAT MẬT ” va “ TOI MẬT ” , nếu rò rỉ thông tin này tới các bên không liên quan có thể gây ra một sốảnh hưởng nhất định . KHÁC Thông tin thông thường ] ( # )"
      ],
      "text/plain": [
       "<IPython.core.display.Markdown object>"
      ]
     },
     "metadata": {},
     "output_type": "display_data"
    },
    {
     "data": {
      "text/markdown": [
       "! [ Công ty TNHH DENSO Việt Nam ( 1 ) | Trước và sau khi sinh con e lecon es 6 tháng e Sinh đôi trở lên e tính từ con thứ 2 trởđi , cứ mỗi con , người mẹđược nghỉ thêm 1 tháng ( 2 ) | Khi người lao động nghỉốm theo sự | thời hạn do bác sĩ và cơ sở khám chỉ dẫn của bác sĩ và cơ sở khám chữa | chữa bệnh quyết định bệnh đãđược cấp giấy phép hoạt động khám bệnh , chữa bệnh @ ) | Khi Công ty chấp nhận những lý do | thời hạn được Công ty cho phép nghỉ khác 2 . Khi ngày lễ trùng vào ngày nghỉ không lương của người lao động nêu trong các mục ( 2 ) & ( 3 ) , ngày đó sẽđược tính vào thời gian nghỉ lễ . .. Khi người lao động nghỉ nhưđã nêu trong mục ( 1 ) và ( 2 ) , người lao động sẽ được hưởng chếđộ bảo hiểm xã hội theo quy định của Bảo hiểm xã hội Việt Nam . Điều 20 : Thủ tục xin nghỉốm 1 . Người lao động bịốm phải thông báo cho cấp trên trước khi giờ làm việc bắt đầu , nêu lý do và thời gian dự tính vắng mặt bằng điện thoại hoặc nhờ người nhấn . . Nếu không báo trước được , phải thông báo cho cấp trên trong vòng 30 phút kể từ giờ làm việc bắt đầu , nêu lý do và thời gian dự tính vắng mặt bằng điện thoại hoặc nhờ người nhắn . . Mọi quyền lợi hưởng trợ cấp ốm đau sẽ phụ thuộc vào các thông báo và tài liệu do người lao động nộp . . Để có những trợ giúp thích hợp đối với người lao động trong thời gian nghỉ ốm , cấp trên của người lao động bịốm có thể liên hệ và / hoặc đến thăm người ốm . Điều 21 : Nghỉ không phép Nếu người lao động không tuân theo những quy định phù hợp đã nêu trong các điều khoản trên hoặc vắng mặt mà không được cấp trên của mình chấp thuận trước , hoặc khi Công ty nhận thấy lý do vắng mặt không chính đáng , sự vắng mặt của người lao động sẽ bị coi là nghỉ không phép . Những ngày này sẽ không được hưởng lương và sẽđược ghi chép lại đểđánh giá ( theo quy định trong hệ thống đánh giá của Công ty ) . Điều 22 : Đi làm muộn 1 . 2 . Nếu người lao động đến làm việc chậm hơn so với giờ quy định , người đó sẽ bị coi làđi làm muộn . Khi nhận thấy có khả năng đến làm việc muộn hơn giờ quy định , nhân viên có trách nhiệm thông báo với người phụ trách để có sự sắp xếp công việc phù hợp . - 12 - ] ( # )"
      ],
      "text/plain": [
       "<IPython.core.display.Markdown object>"
      ]
     },
     "metadata": {},
     "output_type": "display_data"
    },
    {
     "data": {
      "text/markdown": [
       "! [ Công ty TNHH DENSO Việt Nam CHƯƠNG 1 - NHỮNG QUY ĐỊNH CHUNG Điều 1 : Mục đích của Nội quy Nội quy này nhằm giữ vững trật tự trong Công ty , phấn đấu đạt kết quả tốt trong việc kinh doanh của Công ty cũng như tạo được điều kiện lao động cho nhân viên trong toàn Công ty theo đúng quy định của Pháp luật Việt Nam nói chung và Luật Lao động nói riêng . Điều 2 : Phạm vi áp dụng Những quy định này áp dụng cho tất cả Người lao động trong Công ty . Điều 3 : Người lao động “ Người lao động ” là người từ 18 tuổi trở lên , làm việc cho người sử dụng lao động theo hợp đồng lao động hoặc thỏa thuận thử việc với Công ty , được trả lương và chịu sự quản lý , điều hành , giám sát của người sử dụng lao động . Điều 4 : Cấp trên Cấp trên được để cập đến trong nội quy này là người có quyền giám sát và hướng dẫn những người khác thực hiện công việc tuân thủ pháp luật lao động . Điều 5 : Người sử dụng lao động “ Người sử dụng lao động ” hay “ Công ty ” là Công ty TNHH DENSO Việt Nam , là bên sử dụng người lao động làm công việc cho mình theo hợp đồng lao động hoặc thỏa thuận việc làm . CHƯƠNG 2 - TRẬT TỰ TRONG CÔNG TY Điều 6 : Thái độ cơ bản 1 . Người lao động phải luôn luôn thực hiện chính sách của Công ty , cố gắng nỗ lực tăng năng suất và luôn phải : 1.1 . Tận tuy với các nhiệm vụ của mình , thực hiện nhiệm vụ với thái độ tốt và cố gắng sáng tạo để tăng hiệu quả công việc ; 1.2 . Tuyệt đối tuân thủ theo mọi chính sách , nội quy , thông báo , các hướng dẫn liên quan đến công việc hoặc các hướng dẫn khác của Công ty và chấp hành với thái độ tốt ; 1.3 . Tin tưởng và hợp tác lẫn nhau , duy trì trật tự vàđạo đức của Công ty , mở rộng uy tín của Công ty , có văn hóa lành mạnh và duy trì uy tín tốt . 2 . Người lao động nếu là cấp trên thì ngoài những điều trên , cần phải : 2.1 Có sự giám sát và hướng dẫn thích hợp đối với nhân viên cấp dưới và ; 2.2 Thực hiện tốt nhiệm vụ của mình để làm gương cho những người khác . Điều 7 : Chấp hành nội quy 1 . Trong giờ làm việc , mỗi người lao động phải : 1.1 . Không được vắng mặt , bỏ việc trong thời gian làm việc quy định hoặc đi muộn / về sớm mà không có lý do chính đáng ; - 4 - ] ( # )"
      ],
      "text/plain": [
       "<IPython.core.display.Markdown object>"
      ]
     },
     "metadata": {},
     "output_type": "display_data"
    },
    {
     "data": {
      "text/markdown": [
       "! [ Công ty TNHH DENSO Việt Nam Đi làm muộn mà không có lý do chính đáng , hay vắng mặt chốc lát trong giờ làm việc không được cấp trên cho phép hoặc nghỉ không lý do ; Gặp gỡ khách vì lý do không liên quan đến công việc mà không được cấp trên cho phép ; Có những hành vi ảnh hưởng đến công việc của người khác ; Không thực hiện đầy đủ quy trình , hướng dẫn thao tác , kỹ thuật công nghệ hoặc các quy định về thực hiện công việc của Công ty ; Không xuất trình thẻ nhân viên hoặc từ chối không cho kiểm tra những vật dụng riêng khi được yêu cầu mà không có lý do xác đáng ; Vào khu vực cấm , hoặc dùng những máy móc , phương tiện của Công ty mà không được Công ty cho phép ; Chụp ảnh , quay phim , ghi âm hoặc có bản phác họa khu vực hoặc máy móc của Công ty mà không được Công ty cho phép ; Chênh mảng trong công việc và các phận sự khác hoặc không giám sát công việc dẫn đến hậu quả gây thiệt hại về kinh tế ; 1.2.10 Mang số hiệu , băng tay hoặc những thứ khác tương tự trong Công ty mà không được Công ty cho phép : 1.2.11 Có hành vi được xác định là quây ri tình dục như nhận xét không phù hợp về mặt xã hội , văn hóa và không được mong muốn , bằng những ngụý Ve tình dục như những truyện gợi ý về tình dục hay những nhận xét về trang phục hay cơ thể của một người nào đó khi có mặt họ hoặc hướng tới họ . Hình thức này còn bao gồm cả những lời đề nghị và những yêu cầu hay lời mời đi chơi mang tính cá nhân mà người bị quấy rối đã thể hiện sự không mong muốn nhưng vẫn tiếp tục thực hiện ; 1.2.12 Phạm một lỗi tương tự như một trong những lỗi ke trên . 2 . Kéo dài thời hạn điều chỉnh lương hoặc cách chức Người lao động bị kéo dài thời hạn điều chỉnh lương không quá 6 tháng hoặc cách chức nếu vi phạm một trong các lỗi sau : 2 : 1 : 2.2 , 243 . 24 . Vi phạm điều 39 khoản 1.2 vàđã bị khiển trách bằng văn bản mà tái phạm trong thời hạn 3 tháng kể từ ngày bị khiển trách ; Tái phạm là trường hợp người lao động lặp lại hành vi vi phạm đã bị xử lý kỷ luật mà chưa được xóa kỷ luật ; Cố tình cản trở công việc gây hậu quả thiệt hại về kinh tế ( với giá trị thiệt hại không quá 10 tháng lương tối thiểu vùng ) hoặc ảnh hưởng đến trật tự an toàn , an ninh trong Công ty ; Làm ảnh hưởng đến trật tự vàđạo đức trong Công ty bằng việc làm ồn như cãi nhau , đánh nhau , hăm dọa ... hoặc bất kể các hành vi tương tự nào khác trong phạm vi Công ty nhưng không gây hậu quảđặc biệt nghiêm trọng về tài sản và lợi ích của Công ty ; Có hành vi xúc phạm đồng nghiệp trong Công ty ; - 19 - ] ( # )"
      ],
      "text/plain": [
       "<IPython.core.display.Markdown object>"
      ]
     },
     "metadata": {},
     "output_type": "display_data"
    },
    {
     "data": {
      "text/markdown": [
       "! [ Công ty TNHH DENSO Việt Nam - Người lao động se không được nghỉ phép trong thời gian thử việc và tập nghề . . Công ty khuyến khích người lao động sử dụng ngày phép để tái tạo sức lao động . Tuy nhiên nếu chưa nghỉ hết phép trong năm , người lao động có thể sử dụng số ngày phép này trong vòng 2 năm tiếp theo . - Trường hợp thôi việc , bị mất việc làm mà chưa nghỉ hết phép hoặc nghỉ quá số phép theo quy định thì người lao động & Công ty có trách nhiệm thanh toán tiền lương cho những ngày phép đó . . Nếu người lao động nào thôi làm việc ở công ty màđã nghỉ nhiều hơn số ngày được hưởng , Công ty sẽ trừ vào bất cứ khoản tiền nào còn lại của người lao động . Điều 16 : Thủ tục xin nghỉ phép 1 . Khi một người lao động muốn xin nghỉ phép , người đó phải tuân theo quy định bằng cách đăng ký trên hệ thống quản lý ngày nghỉ của Công ty và phải được sự phê duyệt của người có thẩm quyền . . Khi công ty thấy rằng thời gian nghỉ phép của người lao động ảnh hưởng đến hoạt động kinh doanh của công ty , công ty có quyền thay đổi kế hoạch của người lao động đó trừ trường hợp bất khả kháng của người lao động . Đi Lô 17 : Xem xét lại . _ Vì lý do kinh doanh , công ty có thể yêu cầu người lao động rút ngắn thời gian nghỉ phép trước thời hạn đã dự kiến . Đối với những ngày phép còn lại , công ty sẽ bố tríđể người lao động nghỉ vào dip khác ( trừ trường hợp nghỉ đặc biệt ) . . Không phụ thuộc vào tiểu mục trên , khi người lao động nghỉ do tai nạn lao động hoặc do bệnh nghề nghiệp , công ty có thể cho phép người lao động trở lại làm việc trước khi hết thời hạn nghỉ nếu người lao động yêu cầu , với điều kiện là có xác nhận của cơ sở khám chữa bệnh cho rằng sức khoẻđã hồi phục và có thểđi làm . Điều 18 : Các ngày nghỉ khác Người lao động được nghỉ việc riêng mà vẫn hưởng nguyên lương và phải thông báo với Công ty trong những trường hợp sau : - Kết hôn , nghỉ năm ( 5 ) ngày ; - Con kết hôn , nghỉ một ( 1 ) ngày ; - Cha đẻ , mẹđẻ , cha nuôi , mẹ nuôi của vợ hoặc chồng chết ; vợ hoặc chồng chết ; con đẻ , con nuôi chết , nghỉ năm ( 5 ) ngày . - Ông bà nội ngoại ( cả bên chồng và bên vợ ) , anh chị em ruột ( cả bên chồng và bên vợ ) chết , nghỉ hai ( 2 ) ngày ; - Người lao động nam có vợ sinh con , nghỉ một ( 1 ) ngày ; - Người lao động nữ muôi con dưới 12 tháng tuổi , ngoài chếđộ nuôi con nhỏ hiện tại , nghỉ thêm bốn ( 4 ) ngày Điều 19 : Nghỉ không lương 1 . Công ty có thể cho phép người lao động nghỉ không lương trong những trường hợp sau : = TÌ ~ ] ( # )"
      ],
      "text/plain": [
       "<IPython.core.display.Markdown object>"
      ]
     },
     "metadata": {},
     "output_type": "display_data"
    },
    {
     "data": {
      "text/markdown": [
       "! [ Công ty TNHH DENSO Việt Nam 4 . Định kỳ kiểm tra các loại máy móc , trang thiết bị theo đúng quy trình hướng dẫn sử dụng máy . Điều 26 : Trách nhiệm của Người lao động Tất cả những người lao động có trách nhiệm thực hiện công việc một cách an toàn cho bản thân cũng như cho những người cùng lao động . Người lao động phải tuân theo những quy định về an toàn chung sau đây : 1 . Tuân thủ quá trình tiêu chuẩn hóa công việc ; 2 . Sắp xếp gọn gàng nơi làm việc và không để bất cứ vật gì gây cản trở lối ra trong trường hợp khẩn cấp hoặc gần thiết bị phòng cháy ; 3 . Nhận biết được tín hiệu cảnh báo và những biểu tượng được đặt ở trong nhà máy ; .. Báo cáo bất kỳ tình trạng không an toàn nào cho cấp trên ; . Tuyệt đối tuân thủ quy định về việc sử dụng những trang bị bảo hộđược Công ty cấp phát ; 6 . Không được sử dụng những vật dụng trái với mục đích đã chỉ ra ; 7 . Hết sức thận trọng để phòng chống cháy nổ . Người lao động chỉ hút thuốc ở nơi được phép hút thuốc ; § . Không được đặt bất cứ vật gì có thể gây ra sự tự bốc cháy trong Công ty ; 9 . Khi phát hiện thấy hiện tượng bắt đầu cháy hoặc các thảm họa khác , phải báo ngay cho những người có thẩm quyền và nhận sự chỉ dẫn của họ ; 10 . Tuân theo sự chỉ dẫn về sự nguy hiểm ở nơi làm việc và cố gắng đến mức tối đa để ngăn chặn thảm họa . Điều 27 : Sử dụng trang thiết bị 1 . Người lao động không được tựý sử dụng những trang thiết bị trong công ty . 2 . Máy móc , trang thiết bị , dụng cụ trước khi bắt đầu làm việc phải luôn luôn được kiểm tra . Khi tìm thấy bất kỳ sai sót nào , phải báo cáo ngay lập tức cho cấp trên . 3 . Quy trình sử dụng , kiểm tra , sửa chữa , chuyển đổi ... của thiết bị , máy móc phải tuyệt đối được tuân thủ . 4 . Khi rời nơi làm việc , người lao động phải tắt máy hoặc động cơ máy mà người đó phụ trách theo đúng sự chỉ dẫn . Điêu 28 : Sự hạn chếđối với phụ nữ và một số lao động khác Tuân thủ các quy định tại chương X , XI của luật lao động đối với người lao động là phụ nữ có thai , người cao tuổi , trẻ vị thành niên , người khuyết tật . Điều 29 : Báo cáo vàđiều tra về tai nạn có thể xảy ra 1 . Người lao động có quyền từ chối làm công việc hoặc rời bỏ nơi làm việc khi thấy rõ có nguy cơ xảy ra tai nạn lao động đe doa nghiêm trọng tính mạng hoặc sức khỏe của mình và phải báo cáo ngay cho người phụ trách trực tiếp . 2 . Tai nạn bất kể mức độ nghiêm trọng nào đều phải được báo cáo cho phòng ban chức năng và Phòng Nhân sựđể có xử lý kịp thời . Sự cố này sẽđược điều tra kỹ lưỡng và những biện pháp ngăn chặn sẽđược áp dụng để sự cố tương tự sẽ không xảy ra nữa . - 14 - ] ( # )"
      ],
      "text/plain": [
       "<IPython.core.display.Markdown object>"
      ]
     },
     "metadata": {},
     "output_type": "display_data"
    },
    {
     "data": {
      "text/markdown": [
       "! [ Công ty TNHH DENSO Việt Nam 1.1 . Chuẩn bịđể có thể bắt đầu công việc đúng giờ quy định và khi hết giờ ra về nhanh chóng nếu không có công việc đặc biệt hoặc được yêu cầu phải làm thêm ; 1.2 . Nghiêm chỉnh thực hiện các quy định ra vào Công ty cũng như quy định về ra vào tại Khu công nghiệp Thăng long ; 1.3 . Có thái độ hợp tác với người bảo vệ nếu họ yêu cầu kiểm tra đồ , không từ chối những câu hỏi thích hợp của Bảo vệ ; 1.4 . Không mang đến nơi làm việc những vật khác ngoài vật dụng bình thường hàng ngày . Khi có lý do đặc biệt để không tuân thủ quy định này , cần phải tuân theo những quy định khác thích hợp đãđược phổ biến rộng rãi , công khai trong Công ty . - Mọi người lao động phải luôn mang theo thẻ nhân viên để trình cho bảo vệ khi vào Công ty và khi được yêu cầu trình báo . .. Công ty không cho phép bất cứ người lao động nào vào Công ty nếu : 3.1 . Từ chối tuân theo những quy định nêu trên về ra vào Công ty ; 3.2 . Vi phạm về trật tự vàđạo đức ; 3.3 . Bị nhận thấy có dấu hiệu nguy hiểm về sức khỏe và an toàn ; 3.4 . Mang những vật nguy hiểm mà công việc không yêu cầu như dao , kiếm , bom , mìn , súng , đạn ..... ; 3.5 . Không mang thẻ nhân viên ; 3.6 . Bịảnh hưởng của đồ uống có cồn ; 3.7 . Từ chối không cho nhân viên bảo vệ kiểm tra đồ ; 3.8 . Cố tình vào nơi làm việc không phải vì mục đích công việc hoặc không chịu ra về khi hết giờ ; 3.9 . Hành động không vì lợi ích của Công ty theo bất kỳ cách thức nào tương tự với những cách thức đãđược liệt kê trong những phần trên . CHUONG 3 - CHUYỂN NGƯỜI LAO ĐỘNG LAM CÔNG VIỆC KHAC VỚI HỢP ĐỒNG LAO ĐỘNG . BẢO VỆ BÍ MẬT KINH DOANH , CÔNG NGHỆ , SỞ HỮU TRÍ TUỆ CỦA CÔNG TY Điều 9 : Thay đổi công việc khác với Hợp đồng lao động 1 . Công ty được quyền chuyển người lao động làm công việc khác so với hợp đồng trong các trường hợp sau : - Do các sự kiện bất khả kháng như thiên tai , hỏa hoạn , dịch bệnh nguy hiểm - Cần áp dụng biện pháp ngăn ngừa , khắc phục tai nạn lao động , bệnh nghề nghiệp - Sự côđiện , nước - Đáp ứng nhu cầu sản xuất , kinh doanh của Công ty 2 . Thời gian chuyên người lao động làm công việc khác so với hợp đồng lao động không được quá 60 ngày làm việc cộng dồn trong 01 năm ; Trường hợp chuyển người lao động làm công việc khác so với hợp đồng lao động ] ( # )"
      ],
      "text/plain": [
       "<IPython.core.display.Markdown object>"
      ]
     },
     "metadata": {},
     "output_type": "display_data"
    },
    {
     "data": {
      "text/markdown": [
       "! [ Công ty TNHH DENSO Việt Nam 2.5 . 2.6 . 2.7 。 2.8 . 2.9 . 2.10 . 2.11 . 2.12 . 2.13 . 2.14 . 2.15 . Làm hỏng phương tiện máy móc , sản phẩm hoặc gây ra thiệt hại vật chất ( với giá trị thiệt hại không quá 10 tháng lương tối thiểu vùng ) do sự thiếu tập trung khi làm việc ; Tham dự vào hoạt động xã hội hoặc tôn giáo làm ảnh hưởng đến uy tín và / hoặc hoạt động sản xuất kinh doanh của Công ty ; Tham dự vào tuyên truyền , phổ biến , phân phát hoặc lưu hành tài liệu hoặc tranh ảnh trong phạm vi Công ty vì những lý do không liên quan đến hoạt động của Công ty mà không được Công ty cho phép ( trừ trường hợp theo quy định của pháp luật ) ; Tham dự về việc vay và cho vay tiền , mua và bán những vật dụng để kiếm lời trong phạm vi Công ty mà không được Công ty cho phép ; Ép buộc người khác phải đóng góp hoặc phải ký vì mục đích riêng ngoài công việc của Công ty ; Sử dụng thiết bị , nguyên vật liệu của Công ty để chế tạo hoặc sửa chữa vật dụng cá nhân hoặc xúi giục người khác làm những việc Tây , Làm xấu danh dự và tín nhiệm cá nhân của người khác trong Công ty ; Cho người khác mượn thẻ nhân viên hoặc dùng những thứ này mà thuộc về người khác ; Xúi giục hoặc ép buộc người khác trong Công ty phải vắng mặt , hay làđi làm trễ hoặc vắng mặt trong thời gian làm việc ; Có hành vi được xác định là quây rồi tình dục như nhìn trộm hoạt động riêng tư của người khác tại nơi làm việc : thay quần áo , tam . … tiếp xúc , hay cô tình động chạm , sờ móđồng nghiệp mà người [ bị quấy rồi đã thể hiện sự không mong muốn nhưng vẫn tiếp tục thực hiện ; Tham dự vào một hành động tương tự với bất kỳ hành động nào kể trên . 3 . Sa thải Người lao động bị sa thải nếu Công ty xét thấy người đó phạm vào bất kỳ một trong những điều sau : 3.1 Người lao động có hành vi trộm cắp , tham ô , đánh bạc , cốý gây thương tích , sử dụng ma túy trong phạm vi nơi làm việc , tiết lộ bí mật công nghệ , kinh doanh , xâm phạm quyên sở hữu trí tuệ của Công ty , có hành vi gây thiệt hại nghiêm trọng hoặc đe dọa gây thiệt hại đặc biệt nghiêm trọng về tài sản và / hoặc lợi ích của doanh nghiệp bao gôm : Cóý làm hỏng hoặc xúi giục người khác làm hỏng những phương tiện , máy móc , sản phẩm , nguyên liệu ... ( có giá trị thiệt hại kinh tế lớn hơn 10 tháng lương tôi thiêu vùng ) ; - 20 - ] ( # )"
      ],
      "text/plain": [
       "<IPython.core.display.Markdown object>"
      ]
     },
     "metadata": {},
     "output_type": "display_data"
    },
    {
     "data": {
      "text/markdown": [
       "! [ Công ty TNHH DENSO Việt Nam 2 . Mọi khiếu nại tố cáo liên quan đến việc quấy rối tình dục tại nơi làm việc đều được Công ty tiến hành điều tra , xác minh triệt để , giải quyết nhanh chóng . 3 . Bảo vệ bí mật , danh dự , uy tín , nhân phẩm , an toàn cho nạn nhân bị quấy rối tình dục , người tố cáo và người bị tố cáo . 4 . Nghiêm cấm mọi hành động trả thù người khiếu nại , tố cáo hành vi quấy rối tình dục . 5 . Người sử dụng lao động sẽ căn cứ vào tính chất , mức độ vi phạm của hành vi quấy rối tình dục tại nơi làm việc đểáp dụng các hình thức xử lý kỷ luật đối với người lao động từ khiển trách đến sa thải . 6 . Trình tự , thủ tục xử lý hành vi quấy rối tình dục tại nơi làm việc được thực hiện theo Chương 7 nội quy này . CHƯƠNG 7 - KỶ LUẬT LAO ĐỘNG , TRÁCH NHIỆM VẬT CHẤT Điều 37 : Thủ tục Việc thi hành kỷ luật được Công ty tuân thủ quy định của Pháp Luật Lao động , Nội quy Công ty và các văn bản pháp luật khác có liên quan . Điều 38 : Quy trình xử lý kỷ luật lao động Nội nh \" Chỉ tiết dung Bướ Người tố giác Phòng chức năng Ban Giám đốc | Cấp trên của nhân | Nhân viênvi | 1 : viên vi phạm pham ¿ Í © Thông báo hoặc ) m . @ Xác nhận đã nhận | Phát | Í Biên bản ( nấu có ) | thông tin | . ¬ không có chứng ce Có chứng cứ . | hiện Chứng cứ chưa rõ ràng rỡ rùng . ( * ) ( Theo từng . | Eee trường hợp ) và thu | egeuta \\ \\ ] | Sawetem | + | thap hông pm guocfng 」 | người phỏng vấn | @ pheng TH \\ \\ ] | 9 Phỏng vấn \\ \\ ] + — | ( @ ® Tường trình về | E cứ Thông tin tốgúc | Thảo luận ... hành vi vi pham_ ông chính xác ya 7 rong vòng 5 ngày lòm việc , hộp chứng | cưngcợ | cho phòng chức nông | ứ Dừng | * | Tưởng trình của nhôn viênÙu | e F2 2 8 dưng thôn + cối | eu Bóø cóo vi pham 4 uột | Khi vụ việc vi phạm có tính chất phức tạp , nếu xét thấy để nhân viên vi phạm tiếp tục làm việc sẽ gây khó khăn cho việc xác minh , Công ty có thể tạm đình chỉ công việc của người đó sau khi tham khảo ý kiến của Tổ chức đại diện người lao động . Thời hạn tạm đình chỉ không quá I5 ngày và trong trường hợp đặc biệt sẽ không quá 90 ngày , ~ Š 17 - ] ( # )"
      ],
      "text/plain": [
       "<IPython.core.display.Markdown object>"
      ]
     },
     "metadata": {},
     "output_type": "display_data"
    },
    {
     "data": {
      "text/markdown": [
       "! [ Công ty TNHH DENSO Việt Nam 1.2 . Nghiêm chỉnh chấp hành hướng dẫn và yêu cầu của cấp trên ; không được rời khỏi nơi làm việc nếu không được cấp trên cho phép ; 1.3 . Nghiêm chỉnh chấp hành quy định về việc mặc đồng phục ( trừ những trường hợp Công ty có yêu cầu đặc biệt riêng ) ; 1.4 . Nghiêm chỉnh chấp hành các nguyên tắc làm việc và báo cáo với cấp trên hoặc đồng nghiệp có liên quan khi cần ; 1.5 . Giữ gìn tài sản , thiết bị , sản phẩm và vật liệu của Công ty ; 1.6 . Không được tiếp khách riêng trong giờ làm việc nếu không được cấp trên cho phép ; 1.7 . Sử dụng mọi thông tin , tài liệu và các dữ kiện khác liên quan đến công việc chỉđể phục vụ cho mục đích của công việc được giao và không tiết lộ các thông tin , tài liệu , đữ kiện một cách trực tiếp hoặc gián tiếp cho một bên thứ ba nếu không được Công ty cho phép ; 1.8 . Không lạm dụng phạm vi trách nhiệm của mình ; 1.9 . Không cho phép các hoạt động bên ngoài ảnh hưởng đến trách nhiệm hoặc công việc được giao ; 1.10 . Không gây ôn ào hoặc làm ảnh hưởng đến trật tự và sự yên tĩnh trong Công ty ; 1.11 . Không nói xấu , làm hại đến thanh danh và uy tín của Công ty hoặc các cá nhân làm việc cho Công ty ; 1.12 . Không thực hiện hoặc tham gia vào các hoạt động phát thanh , xuất bản , phân phối , lưu thông hoặc trưng bày các ấn phẩm văn hóa hoặc tranh ảnh hoặc các hành động tương tự trong Công ty không liên quan đến công việc mà không được Công ty cho phép ; 1.13 . Không tham dự vào vấn đề tiên bạc hoặc buôn bán kiếm lời trong Công ty ; 1.14 . Không bắt buộc người khác quyên góp tiền hay ký tên nhằm mục đích cá nhân ; trục lợi cho bản thân ; làm trái quy định của Công ty ; 1.15 . Không vào những khu vực cấm nếu không phải là nơi làm việc của mình hoặc sử dụng tài sản của Công ty nếu không được Công ty cho phép ; 1.16 . Không sử dụng tài sản của Công ty vào mục đích riêng , sửa chữa hoặc sản xuất tài sản cá nhân bằng các trang thiết bị / tài sản của Công ty hoặc những việc khác tương tự ; 1.17 . Không lạm dụng chức vụ , quyền hạn trong công việc để tìm kiếm lợi nhuận , ưu đãi cá nhân hoặc trao cho người ngoài Công ty ; 1.18 . Không nhận hoặc đồi hỏi các khoản tiền bất chính ; 1.19 . Không tham gia các hoạt động phạm pháp ; 1.20 . Không được quấy rối tình dục tại nơi làm việc theo quy định tại Chương 6 Nội quy lao động này . 2 . Người lao động phải tuân thủ luật giao thông , đảm bảo an toàn giao thông . Điều 8 : Ra vào công ty 1 . Về việc ra vào nơi làm việc , mọi người lao động phải : ] ( # )"
      ],
      "text/plain": [
       "<IPython.core.display.Markdown object>"
      ]
     },
     "metadata": {},
     "output_type": "display_data"
    },
    {
     "data": {
      "text/markdown": [
       "! [ Công ty TNHH DENSO Việt Nam 3 . Nguy cơ tai nạn nếu được phát hiện cũng phải được báo cáo ngay cho các phòng ban chức năng và Phòng Nhân sựđể cóđối sách kịp thời . Phần 3 : Sức khỏe Điệu 20 30 : Quy định về sức khỏe . Người lao động ( bên cạnh các yêu cầu khác ) phải có xác nhận đủ sức khỏe do bác sĩ của bệnh viện mà Công ty chỉđịnh cấp thì mới được nhận vào làm tại Công ty . Chi phí khám sức khỏe ban đầu do Công ty chỉ trả . . Người lao động phải tự bảo vệ sức khỏe của mình để có thể hoàn thành tốt công việc . - Người lao động xin nghỉ vì lý do sức khỏe , phải có xác nhận của cơ quan y tế . Nếu người lao động có chứng từ hợp lệ từ cơ sở y tế , người đó sẽđược hưởng chếđộ bảo hiểm theo quy định của cơ quan bảo hiểm . Điều 31 : Kiểm tra sức khỏe 1 . Người lao động ngoài việc phải có giấy chứng nhận sức khỏe trước khi được tuyển dụng vào Công ty , sẽđược định kỳ khám sức khỏe hàng năm . Thời gian khám và số lần khám tùy theo vị trí công việc , do Công ty bố trí . Chi phí khám sức khỏe định kỳ do Công ty chỉ trả . . Nếu người lao động không thể khám sức khỏe vào ngày do Công ty bố trí , người đó phải báo cáo lý do cho Phụ trách Bộ phận và Phòng chức năng . Nếu lý do này được chấp nhận , người lao động sẽđược kiểm tra sức khỏe vào ngày khác và Công ty sẽ trả 100 % chỉ phí . Nếu không được chấp nhận , người lao động sẽ phải tự chi trả phí khám sức khỏe và nộp kết quả cho Công ty . Điều 32 : Nghiêm cấm đến nơi làm việc Người lao động bị nghiêm cấm đến nơi làm việc nếu họ bị bất kỳ bệnh nào trong những bệnh dưới đây : 1 „ 2 。 5 . 4 . Bệnh thương hàn , bệnh sốt phát ban , bệnh bạch hầu , bệnh tả , bệnh sởi , bệnh ho gà , bệnh uốn ván ; Chứng loạn thân kinh , động kinh hay những bệnh thần kinh khác ảnh hưởng đến công việc của họ ; Những người nhiễm bệnh xã hội hoặc bệnh lây ngoài da ; Các bệnh dễ lây lan khác như cúm , đau mắt đỏ , ... gây ảnh hưởng đến công việc hoặc đến những người cùng làm việc . Điều 33 : Sự ngăn chặn những bệnh truyền nhiễm 1 . Khi người lao động mắc bệnh truyền nhiễm hoặc sống cùng người bị mắc bệnh truyền nhiễm hoặc nghỉ có sự ngộđộc thức ăn ... thì phải báo cáo ngay cho Công ty thông qua cấp trên trực tiếp để có sự chỉ dẫn hoặc cấp cứu kịp thời . - 15 - ] ( # )"
      ],
      "text/plain": [
       "<IPython.core.display.Markdown object>"
      ]
     },
     "metadata": {},
     "output_type": "display_data"
    },
    {
     "data": {
      "text/markdown": [
       "! [ Công ty TNHH DENSO Việt Nam Bản Nội quy Công ty có hiệu lực ngay sau thời hạn 15 ngày kể từ ngày Ban quản lý các Khu công nghiệp và Khu chế xuất Hà Nội nhận được hồ sơđăng ký . Công ty TNHH DENSO Việt Nam Tổng Giám đốc 28 = ] ( # )"
      ],
      "text/plain": [
       "<IPython.core.display.Markdown object>"
      ]
     },
     "metadata": {},
     "output_type": "display_data"
    },
    {
     "data": {
      "text/markdown": [
       "! [ Công ty TNHH DENSO Việt Nam s Dùng tài sản / tiền của Công ty vào mục đích cá nhân hoặc dùng một cách bất hợp pháp , nhận hối lộ từ bất kỳ cơ quan , tổ chức hoặc cá nhân có liên quan đến hoạt động sản xuất , kinh doanh , vận hành của Công ty đưới bất kỳ hình thức nào ; e_ Đánh nhau , tấn công , ham dọa hoặc xi giuc việc tấn công người khác trong phạm vi Công ty gây thiệt hại đặc biệt nghiêm trọng về tài sản và lợi ích Công ty hoặc gây ảnh hưởng nghiêm trọng tới trật tự an ninh trong Công ty ; < Giả mạo giấy tờ , chữ ký , thẻ nhân viên hoặc bất kỳ những thứ khác tương tựđể dùng hoặc cho người khác mượn nhằm trục lợi cá nhân ; 3.2 Người lao động bị xử lý kỷ luật kéo dài thời hạn điều chỉnh lương mà tái phạm trong thời gian chưa được xóa kỷ luật hoặc bị xử lý kỷ luật cách chức mà tái phạm ; 3.3 Người lao động tựý bỏ việc 05 ngày cộng dồn trong thời hạn 30 ngày hoặc 20 ngày cộng dồn trong thời hạn 365 ngày tính từ ngày đầu tiên tựý bỏ việc mà không có lý do chính đáng ; 3.4 Làm tổn hại đến danh dự và tín nhiệm của Công ty một cách nghiêm trọng : vu khống , bôi nhọ , thực hiện các hành vi làm ảnh hưởng đến hình ảnh Công ty ... trước các cơ quan , tổ chức hoặc báo chí , truyền thông ; 3.5 Có bằng chứng về việc thực hiện hành vi quấy rối tình dục của nhân viên tại nơi làm việc , cụ thể như sau : © _ Hành động , cử chỉ có tính chất tình dục như : vuốt ve , cấu véo , ôm ấp hay hôn cho tới tắn công tình dục , cưỡng dâm , hiếp đâm . < Đề nghị , yêu cầu , gợi ý trao đổi quan hệ tình dục lấy sựđánh giá ưu ái hoặc sự hứa hẹn công việc , lương , thưởng . Phạm vi nơi làm việc được hiểu là phạm vi trong Công ty và nơi người lao động được cửđên làm việc / công tác , học tập . Điều 40 : Hoàn cảnh làm giảm nhẹ lỗi Nếu có những hoàn cảnh làm giảm nhẹ lỗi thì mức độ kỷ luật đối với người lao động sẽđược giảm nếu Công ty xét thấy thích hợp . Điều 41 : Trách nhiệm vật chất 1 . Khi người lao động làm hư hỏng dụng cụ , thiết bị hoặc có hành vi khác gây thiệt hại cho tài sản của doanh nghiệp thì phải bồi thường theo quy định của pháp luật về thiệt hại đã gây ra . Nếu gây thiệt hại không nghiêm trọng do sơ xuất với giá trị không quá 10 tháng lương tối thiểu vùng do Chính phủ quy định thì phải bồi thường nhiều nhất là 03 tháng lương và bị khấu trừ dân vào lương ( không quá 30 % tiền lương hàng tháng ) . 2 . Người lao động làm mất dụng cụ , thiết bị , làm mất các tài sản khác do doanh nghiệp giao hoặc tiêu hao vật tư quáđịnh mức cho phép thì tùy từng = Đi = ] ( # )"
      ],
      "text/plain": [
       "<IPython.core.display.Markdown object>"
      ]
     },
     "metadata": {},
     "output_type": "display_data"
    },
    {
     "data": {
      "text/markdown": [
       "! [ Công ty TNHH DENSO Việt Nam Bước Đại diện . Đại diện của . Phòng chức năng . Cấp trên của Nhân viên Người làm | Công ty Tố chức đại nhân viên vi phạm . vipham | chứng ( nếu có ) | ? : Họp diện NB | Xem - Ne sạn Sim RI Phòng Legal | MGR trở lên xét kỷ Vai trò - Đưa ra chỉ | - Bảo vệ - Tổ chức cuộc hợp xem xét _ | Kiểm soát việc phòng tránhtái | - gmoco | Đưara bằng trong cuộc | đạo quyền lợi kỷ luật ( gửi thư mời ít nhất | diễn trong tương lai -> Vì vậy vềhành | chứng ( nếu có ) | luật họpxem | - TổngGiám | hợppháp 5 ngày làm việc trước khi | cấp trên của người vi phạm . ww * xét kỷ luật | đốclà của người cuộc họp diễn ra ) „ .. | thực hiện báo cáo chỉ tiết các phạm người lao động ~ Tống hợp các hình thức xử nội dung sau : ( theo . quyết định . lý kỷ luật với các hành vi > Xác nhận diễn biến sự việc từng hình thức . tương tự trong quá khứ — | > Đào tạo trường xử lý kỷ luật - Đề xuất hình thức xử lý kỷ | > Phỏng vấn người vi phạm . hợp ) luật > Các biện pháp phòng tránh _ | - Cam kết tái diễn . Cuộc họp xem xét kỷ luật sẽđược lập thành biên bản và cóđầy đủ chữ ký xác nhận của thành viên tham dự . Trường hợp một trong các thành viên đã tham dự cuộc họp mà không ký vào biên bản thì phải ghi rõ lý do . - Trường hợp nhân viên vi phạm không có mặt theo như thư mời , Công ty sẽ tiến hành họp xem xét kỷ luật vắng mặt . - ( * ) Tùy từng trường hợp , Công ty sẽ không tổ chức họp xem xét kỷ luật , chỉ dừng lại ở mục phỏng van / thao luận ... với Ban Giám đốc . Bước | Ngoại trừ hình thức kỷ luật khiến trách miệng , đối với các hình thức kỷ luật 3 : Ban | khác , Công ty sẽ ban hành Quyết định ký luật ( do Tổng Giám đốc ký phê hành | duyệt ) . quyết định kỷ luật Bước | Phòng chức năng ( Phòng Legal ) lưu giữ hô sơ xử lý kỷ luật lao động và thực 4 : Lưu | hiện các công việc liên quan khác . hồ sơ Điều 39 : Các hình thức kỷ luật Công ty sẽáp dụng một trong các hình thức kỷ luật sau đây đối với người lao động vi phạm kỷ luật lao động , tùy thuộc vào mức độ nghiêm trọng của hành vi vi phạm . Khiển trách Kéo dài thời hạn điều chỉnh lương không quá 6 tháng hoặc cách chức Sa thải 1 . Khiển trách : 1.1 Khiển trách miệng 1.2 Khiển trách bằng văn bản : Khi công ty xét thấy người lao động phạm vào một trong những việc sau , người đó sẽ bị khiển trách bằng văn bản : 1.2.1 Vi phạm quy định trong Nội quy lao động của Công ty mà không gây hậu quả ( trừ trường hợp vi phạm các điều kiện đề kỷ luật sa thải ) ; sl8s ] ( # )"
      ],
      "text/plain": [
       "<IPython.core.display.Markdown object>"
      ]
     },
     "metadata": {},
     "output_type": "display_data"
    }
   ],
   "source": [
    "for i in range(len(retrieved_docs)):\n",
    "    display(Markdown(retrieved_docs[i].page_content))"
   ]
  },
  {
   "cell_type": "code",
   "execution_count": 22,
   "id": "0e18a30f",
   "metadata": {},
   "outputs": [
    {
     "name": "stdout",
     "output_type": "stream",
     "text": [
      "Collecting FlagEmbedding\n",
      "  Using cached flagembedding-1.3.5-py3-none-any.whl\n",
      "Requirement already satisfied: torch>=1.6.0 in c:\\users\\vnintern02\\appdata\\local\\packages\\pythonsoftwarefoundation.python.3.11_qbz5n2kfra8p0\\localcache\\local-packages\\python311\\site-packages (from FlagEmbedding) (2.8.0)\n",
      "Requirement already satisfied: transformers>=4.44.2 in c:\\users\\vnintern02\\appdata\\local\\packages\\pythonsoftwarefoundation.python.3.11_qbz5n2kfra8p0\\localcache\\local-packages\\python311\\site-packages (from FlagEmbedding) (4.56.1)\n",
      "Collecting datasets>=2.19.0 (from FlagEmbedding)\n",
      "  Using cached datasets-4.0.0-py3-none-any.whl.metadata (19 kB)\n",
      "Collecting accelerate>=0.20.1 (from FlagEmbedding)\n",
      "  Using cached accelerate-1.10.1-py3-none-any.whl.metadata (19 kB)\n",
      "Requirement already satisfied: sentence_transformers in c:\\users\\vnintern02\\appdata\\local\\packages\\pythonsoftwarefoundation.python.3.11_qbz5n2kfra8p0\\localcache\\local-packages\\python311\\site-packages (from FlagEmbedding) (5.1.0)\n",
      "Collecting peft (from FlagEmbedding)\n",
      "  Using cached peft-0.17.1-py3-none-any.whl.metadata (14 kB)\n",
      "Collecting ir-datasets (from FlagEmbedding)\n",
      "  Using cached ir_datasets-0.5.11-py3-none-any.whl.metadata (12 kB)\n",
      "Collecting sentencepiece (from FlagEmbedding)\n",
      "  Using cached sentencepiece-0.2.1-cp311-cp311-win_amd64.whl.metadata (10 kB)\n",
      "Requirement already satisfied: protobuf in c:\\users\\vnintern02\\appdata\\local\\packages\\pythonsoftwarefoundation.python.3.11_qbz5n2kfra8p0\\localcache\\local-packages\\python311\\site-packages (from FlagEmbedding) (6.32.0)\n",
      "Requirement already satisfied: numpy<3.0.0,>=1.17 in c:\\users\\vnintern02\\appdata\\local\\packages\\pythonsoftwarefoundation.python.3.11_qbz5n2kfra8p0\\localcache\\local-packages\\python311\\site-packages (from accelerate>=0.20.1->FlagEmbedding) (2.2.6)\n",
      "Requirement already satisfied: packaging>=20.0 in c:\\users\\vnintern02\\appdata\\local\\packages\\pythonsoftwarefoundation.python.3.11_qbz5n2kfra8p0\\localcache\\local-packages\\python311\\site-packages (from accelerate>=0.20.1->FlagEmbedding) (25.0)\n",
      "Requirement already satisfied: psutil in c:\\users\\vnintern02\\appdata\\local\\packages\\pythonsoftwarefoundation.python.3.11_qbz5n2kfra8p0\\localcache\\local-packages\\python311\\site-packages (from accelerate>=0.20.1->FlagEmbedding) (7.0.0)\n",
      "Requirement already satisfied: pyyaml in c:\\users\\vnintern02\\appdata\\local\\packages\\pythonsoftwarefoundation.python.3.11_qbz5n2kfra8p0\\localcache\\local-packages\\python311\\site-packages (from accelerate>=0.20.1->FlagEmbedding) (6.0.2)\n",
      "Requirement already satisfied: huggingface_hub>=0.21.0 in c:\\users\\vnintern02\\appdata\\local\\packages\\pythonsoftwarefoundation.python.3.11_qbz5n2kfra8p0\\localcache\\local-packages\\python311\\site-packages (from accelerate>=0.20.1->FlagEmbedding) (0.34.4)\n",
      "Requirement already satisfied: safetensors>=0.4.3 in c:\\users\\vnintern02\\appdata\\local\\packages\\pythonsoftwarefoundation.python.3.11_qbz5n2kfra8p0\\localcache\\local-packages\\python311\\site-packages (from accelerate>=0.20.1->FlagEmbedding) (0.6.2)\n",
      "Requirement already satisfied: filelock in c:\\users\\vnintern02\\appdata\\local\\packages\\pythonsoftwarefoundation.python.3.11_qbz5n2kfra8p0\\localcache\\local-packages\\python311\\site-packages (from datasets>=2.19.0->FlagEmbedding) (3.19.1)\n",
      "Collecting pyarrow>=15.0.0 (from datasets>=2.19.0->FlagEmbedding)\n",
      "  Using cached pyarrow-21.0.0-cp311-cp311-win_amd64.whl.metadata (3.4 kB)\n",
      "Collecting dill<0.3.9,>=0.3.0 (from datasets>=2.19.0->FlagEmbedding)\n",
      "  Using cached dill-0.3.8-py3-none-any.whl.metadata (10 kB)\n",
      "Collecting pandas (from datasets>=2.19.0->FlagEmbedding)\n",
      "  Using cached pandas-2.3.2-cp311-cp311-win_amd64.whl.metadata (19 kB)\n",
      "Requirement already satisfied: requests>=2.32.2 in c:\\users\\vnintern02\\appdata\\local\\packages\\pythonsoftwarefoundation.python.3.11_qbz5n2kfra8p0\\localcache\\local-packages\\python311\\site-packages (from datasets>=2.19.0->FlagEmbedding) (2.32.5)\n",
      "Requirement already satisfied: tqdm>=4.66.3 in c:\\users\\vnintern02\\appdata\\local\\packages\\pythonsoftwarefoundation.python.3.11_qbz5n2kfra8p0\\localcache\\local-packages\\python311\\site-packages (from datasets>=2.19.0->FlagEmbedding) (4.67.1)\n",
      "Requirement already satisfied: xxhash in c:\\users\\vnintern02\\appdata\\local\\packages\\pythonsoftwarefoundation.python.3.11_qbz5n2kfra8p0\\localcache\\local-packages\\python311\\site-packages (from datasets>=2.19.0->FlagEmbedding) (3.5.0)\n",
      "Collecting multiprocess<0.70.17 (from datasets>=2.19.0->FlagEmbedding)\n",
      "  Using cached multiprocess-0.70.16-py311-none-any.whl.metadata (7.2 kB)\n",
      "Collecting fsspec<=2025.3.0,>=2023.1.0 (from fsspec[http]<=2025.3.0,>=2023.1.0->datasets>=2.19.0->FlagEmbedding)\n",
      "  Using cached fsspec-2025.3.0-py3-none-any.whl.metadata (11 kB)\n",
      "Requirement already satisfied: typing-extensions>=4.10.0 in c:\\users\\vnintern02\\appdata\\local\\packages\\pythonsoftwarefoundation.python.3.11_qbz5n2kfra8p0\\localcache\\local-packages\\python311\\site-packages (from torch>=1.6.0->FlagEmbedding) (4.15.0)\n",
      "Requirement already satisfied: sympy>=1.13.3 in c:\\users\\vnintern02\\appdata\\local\\packages\\pythonsoftwarefoundation.python.3.11_qbz5n2kfra8p0\\localcache\\local-packages\\python311\\site-packages (from torch>=1.6.0->FlagEmbedding) (1.14.0)\n",
      "Requirement already satisfied: networkx in c:\\users\\vnintern02\\appdata\\local\\packages\\pythonsoftwarefoundation.python.3.11_qbz5n2kfra8p0\\localcache\\local-packages\\python311\\site-packages (from torch>=1.6.0->FlagEmbedding) (3.5)\n",
      "Requirement already satisfied: jinja2 in c:\\users\\vnintern02\\appdata\\local\\packages\\pythonsoftwarefoundation.python.3.11_qbz5n2kfra8p0\\localcache\\local-packages\\python311\\site-packages (from torch>=1.6.0->FlagEmbedding) (3.1.6)\n",
      "Requirement already satisfied: regex!=2019.12.17 in c:\\users\\vnintern02\\appdata\\local\\packages\\pythonsoftwarefoundation.python.3.11_qbz5n2kfra8p0\\localcache\\local-packages\\python311\\site-packages (from transformers>=4.44.2->FlagEmbedding) (2025.9.1)\n",
      "Requirement already satisfied: tokenizers<=0.23.0,>=0.22.0 in c:\\users\\vnintern02\\appdata\\local\\packages\\pythonsoftwarefoundation.python.3.11_qbz5n2kfra8p0\\localcache\\local-packages\\python311\\site-packages (from transformers>=4.44.2->FlagEmbedding) (0.22.0)\n",
      "Collecting beautifulsoup4>=4.4.1 (from ir-datasets->FlagEmbedding)\n",
      "  Using cached beautifulsoup4-4.13.5-py3-none-any.whl.metadata (3.8 kB)\n",
      "Collecting inscriptis>=2.2.0 (from ir-datasets->FlagEmbedding)\n",
      "  Using cached inscriptis-2.6.0-py3-none-any.whl.metadata (25 kB)\n",
      "Collecting lxml>=4.5.2 (from ir-datasets->FlagEmbedding)\n",
      "  Using cached lxml-6.0.1-cp311-cp311-win_amd64.whl.metadata (3.9 kB)\n",
      "Collecting trec-car-tools>=2.5.4 (from ir-datasets->FlagEmbedding)\n",
      "  Using cached trec_car_tools-2.6-py3-none-any.whl.metadata (640 bytes)\n",
      "Collecting lz4>=3.1.10 (from ir-datasets->FlagEmbedding)\n",
      "  Using cached lz4-4.4.4-cp311-cp311-win_amd64.whl.metadata (3.9 kB)\n",
      "Collecting warc3-wet>=0.2.3 (from ir-datasets->FlagEmbedding)\n",
      "  Using cached warc3_wet-0.2.5-py3-none-any.whl.metadata (2.2 kB)\n",
      "Collecting warc3-wet-clueweb09>=0.2.5 (from ir-datasets->FlagEmbedding)\n",
      "  Using cached warc3_wet_clueweb09-0.2.5-py3-none-any.whl\n",
      "Collecting zlib-state>=0.1.3 (from ir-datasets->FlagEmbedding)\n",
      "  Using cached zlib_state-0.1.10-cp311-cp311-win_amd64.whl.metadata (3.6 kB)\n",
      "Collecting ijson>=3.1.3 (from ir-datasets->FlagEmbedding)\n",
      "  Using cached ijson-3.4.0-cp311-cp311-win_amd64.whl.metadata (22 kB)\n",
      "Collecting unlzw3>=0.2.1 (from ir-datasets->FlagEmbedding)\n",
      "  Using cached unlzw3-0.2.3-py3-none-any.whl.metadata (2.3 kB)\n",
      "Requirement already satisfied: scikit-learn in c:\\users\\vnintern02\\appdata\\local\\packages\\pythonsoftwarefoundation.python.3.11_qbz5n2kfra8p0\\localcache\\local-packages\\python311\\site-packages (from sentence_transformers->FlagEmbedding) (1.7.2)\n",
      "Requirement already satisfied: scipy in c:\\users\\vnintern02\\appdata\\local\\packages\\pythonsoftwarefoundation.python.3.11_qbz5n2kfra8p0\\localcache\\local-packages\\python311\\site-packages (from sentence_transformers->FlagEmbedding) (1.16.1)\n",
      "Requirement already satisfied: Pillow in c:\\users\\vnintern02\\appdata\\local\\packages\\pythonsoftwarefoundation.python.3.11_qbz5n2kfra8p0\\localcache\\local-packages\\python311\\site-packages (from sentence_transformers->FlagEmbedding) (11.3.0)\n",
      "Collecting soupsieve>1.2 (from beautifulsoup4>=4.4.1->ir-datasets->FlagEmbedding)\n",
      "  Using cached soupsieve-2.8-py3-none-any.whl.metadata (4.6 kB)\n",
      "Requirement already satisfied: aiohttp!=4.0.0a0,!=4.0.0a1 in c:\\users\\vnintern02\\appdata\\local\\packages\\pythonsoftwarefoundation.python.3.11_qbz5n2kfra8p0\\localcache\\local-packages\\python311\\site-packages (from fsspec[http]<=2025.3.0,>=2023.1.0->datasets>=2.19.0->FlagEmbedding) (3.12.15)\n",
      "Requirement already satisfied: charset_normalizer<4,>=2 in c:\\users\\vnintern02\\appdata\\local\\packages\\pythonsoftwarefoundation.python.3.11_qbz5n2kfra8p0\\localcache\\local-packages\\python311\\site-packages (from requests>=2.32.2->datasets>=2.19.0->FlagEmbedding) (3.4.3)\n",
      "Requirement already satisfied: idna<4,>=2.5 in c:\\users\\vnintern02\\appdata\\local\\packages\\pythonsoftwarefoundation.python.3.11_qbz5n2kfra8p0\\localcache\\local-packages\\python311\\site-packages (from requests>=2.32.2->datasets>=2.19.0->FlagEmbedding) (3.10)\n",
      "Requirement already satisfied: urllib3<3,>=1.21.1 in c:\\users\\vnintern02\\appdata\\local\\packages\\pythonsoftwarefoundation.python.3.11_qbz5n2kfra8p0\\localcache\\local-packages\\python311\\site-packages (from requests>=2.32.2->datasets>=2.19.0->FlagEmbedding) (2.5.0)\n",
      "Requirement already satisfied: certifi>=2017.4.17 in c:\\users\\vnintern02\\appdata\\local\\packages\\pythonsoftwarefoundation.python.3.11_qbz5n2kfra8p0\\localcache\\local-packages\\python311\\site-packages (from requests>=2.32.2->datasets>=2.19.0->FlagEmbedding) (2025.8.3)\n",
      "Requirement already satisfied: mpmath<1.4,>=1.1.0 in c:\\users\\vnintern02\\appdata\\local\\packages\\pythonsoftwarefoundation.python.3.11_qbz5n2kfra8p0\\localcache\\local-packages\\python311\\site-packages (from sympy>=1.13.3->torch>=1.6.0->FlagEmbedding) (1.3.0)\n",
      "Requirement already satisfied: colorama in c:\\users\\vnintern02\\appdata\\local\\packages\\pythonsoftwarefoundation.python.3.11_qbz5n2kfra8p0\\localcache\\local-packages\\python311\\site-packages (from tqdm>=4.66.3->datasets>=2.19.0->FlagEmbedding) (0.4.6)\n",
      "Collecting cbor>=1.0.0 (from trec-car-tools>=2.5.4->ir-datasets->FlagEmbedding)\n",
      "  Using cached cbor-1.0.0-py3-none-any.whl\n",
      "Requirement already satisfied: MarkupSafe>=2.0 in c:\\users\\vnintern02\\appdata\\local\\packages\\pythonsoftwarefoundation.python.3.11_qbz5n2kfra8p0\\localcache\\local-packages\\python311\\site-packages (from jinja2->torch>=1.6.0->FlagEmbedding) (3.0.2)\n",
      "Requirement already satisfied: python-dateutil>=2.8.2 in c:\\users\\vnintern02\\appdata\\local\\packages\\pythonsoftwarefoundation.python.3.11_qbz5n2kfra8p0\\localcache\\local-packages\\python311\\site-packages (from pandas->datasets>=2.19.0->FlagEmbedding) (2.9.0.post0)\n",
      "Collecting pytz>=2020.1 (from pandas->datasets>=2.19.0->FlagEmbedding)\n",
      "  Using cached pytz-2025.2-py2.py3-none-any.whl.metadata (22 kB)\n",
      "Collecting tzdata>=2022.7 (from pandas->datasets>=2.19.0->FlagEmbedding)\n",
      "  Using cached tzdata-2025.2-py2.py3-none-any.whl.metadata (1.4 kB)\n",
      "Requirement already satisfied: joblib>=1.2.0 in c:\\users\\vnintern02\\appdata\\local\\packages\\pythonsoftwarefoundation.python.3.11_qbz5n2kfra8p0\\localcache\\local-packages\\python311\\site-packages (from scikit-learn->sentence_transformers->FlagEmbedding) (1.5.2)\n",
      "Requirement already satisfied: threadpoolctl>=3.1.0 in c:\\users\\vnintern02\\appdata\\local\\packages\\pythonsoftwarefoundation.python.3.11_qbz5n2kfra8p0\\localcache\\local-packages\\python311\\site-packages (from scikit-learn->sentence_transformers->FlagEmbedding) (3.6.0)\n",
      "Requirement already satisfied: aiohappyeyeballs>=2.5.0 in c:\\users\\vnintern02\\appdata\\local\\packages\\pythonsoftwarefoundation.python.3.11_qbz5n2kfra8p0\\localcache\\local-packages\\python311\\site-packages (from aiohttp!=4.0.0a0,!=4.0.0a1->fsspec[http]<=2025.3.0,>=2023.1.0->datasets>=2.19.0->FlagEmbedding) (2.6.1)\n",
      "Requirement already satisfied: aiosignal>=1.4.0 in c:\\users\\vnintern02\\appdata\\local\\packages\\pythonsoftwarefoundation.python.3.11_qbz5n2kfra8p0\\localcache\\local-packages\\python311\\site-packages (from aiohttp!=4.0.0a0,!=4.0.0a1->fsspec[http]<=2025.3.0,>=2023.1.0->datasets>=2.19.0->FlagEmbedding) (1.4.0)\n",
      "Requirement already satisfied: attrs>=17.3.0 in c:\\users\\vnintern02\\appdata\\local\\packages\\pythonsoftwarefoundation.python.3.11_qbz5n2kfra8p0\\localcache\\local-packages\\python311\\site-packages (from aiohttp!=4.0.0a0,!=4.0.0a1->fsspec[http]<=2025.3.0,>=2023.1.0->datasets>=2.19.0->FlagEmbedding) (25.3.0)\n",
      "Requirement already satisfied: frozenlist>=1.1.1 in c:\\users\\vnintern02\\appdata\\local\\packages\\pythonsoftwarefoundation.python.3.11_qbz5n2kfra8p0\\localcache\\local-packages\\python311\\site-packages (from aiohttp!=4.0.0a0,!=4.0.0a1->fsspec[http]<=2025.3.0,>=2023.1.0->datasets>=2.19.0->FlagEmbedding) (1.7.0)\n",
      "Requirement already satisfied: multidict<7.0,>=4.5 in c:\\users\\vnintern02\\appdata\\local\\packages\\pythonsoftwarefoundation.python.3.11_qbz5n2kfra8p0\\localcache\\local-packages\\python311\\site-packages (from aiohttp!=4.0.0a0,!=4.0.0a1->fsspec[http]<=2025.3.0,>=2023.1.0->datasets>=2.19.0->FlagEmbedding) (6.6.4)\n",
      "Requirement already satisfied: propcache>=0.2.0 in c:\\users\\vnintern02\\appdata\\local\\packages\\pythonsoftwarefoundation.python.3.11_qbz5n2kfra8p0\\localcache\\local-packages\\python311\\site-packages (from aiohttp!=4.0.0a0,!=4.0.0a1->fsspec[http]<=2025.3.0,>=2023.1.0->datasets>=2.19.0->FlagEmbedding) (0.3.2)\n",
      "Requirement already satisfied: yarl<2.0,>=1.17.0 in c:\\users\\vnintern02\\appdata\\local\\packages\\pythonsoftwarefoundation.python.3.11_qbz5n2kfra8p0\\localcache\\local-packages\\python311\\site-packages (from aiohttp!=4.0.0a0,!=4.0.0a1->fsspec[http]<=2025.3.0,>=2023.1.0->datasets>=2.19.0->FlagEmbedding) (1.20.1)\n",
      "Requirement already satisfied: six>=1.5 in c:\\users\\vnintern02\\appdata\\local\\packages\\pythonsoftwarefoundation.python.3.11_qbz5n2kfra8p0\\localcache\\local-packages\\python311\\site-packages (from python-dateutil>=2.8.2->pandas->datasets>=2.19.0->FlagEmbedding) (1.17.0)\n",
      "Using cached accelerate-1.10.1-py3-none-any.whl (374 kB)\n",
      "Using cached datasets-4.0.0-py3-none-any.whl (494 kB)\n",
      "Using cached ir_datasets-0.5.11-py3-none-any.whl (866 kB)\n",
      "Using cached peft-0.17.1-py3-none-any.whl (504 kB)\n",
      "Using cached sentencepiece-0.2.1-cp311-cp311-win_amd64.whl (1.1 MB)\n",
      "Using cached beautifulsoup4-4.13.5-py3-none-any.whl (105 kB)\n",
      "Using cached dill-0.3.8-py3-none-any.whl (116 kB)\n",
      "Using cached fsspec-2025.3.0-py3-none-any.whl (193 kB)\n",
      "Using cached ijson-3.4.0-cp311-cp311-win_amd64.whl (53 kB)\n",
      "Using cached inscriptis-2.6.0-py3-none-any.whl (45 kB)\n",
      "Using cached lxml-6.0.1-cp311-cp311-win_amd64.whl (4.0 MB)\n",
      "Using cached lz4-4.4.4-cp311-cp311-win_amd64.whl (99 kB)\n",
      "Using cached multiprocess-0.70.16-py311-none-any.whl (143 kB)\n",
      "Using cached pyarrow-21.0.0-cp311-cp311-win_amd64.whl (26.2 MB)\n",
      "Using cached trec_car_tools-2.6-py3-none-any.whl (8.4 kB)\n",
      "Using cached unlzw3-0.2.3-py3-none-any.whl (6.7 kB)\n",
      "Using cached warc3_wet-0.2.5-py3-none-any.whl (18 kB)\n",
      "Using cached zlib_state-0.1.10-cp311-cp311-win_amd64.whl (12 kB)\n",
      "Using cached pandas-2.3.2-cp311-cp311-win_amd64.whl (11.3 MB)\n",
      "Using cached pytz-2025.2-py2.py3-none-any.whl (509 kB)\n",
      "Using cached soupsieve-2.8-py3-none-any.whl (36 kB)\n",
      "Using cached tzdata-2025.2-py2.py3-none-any.whl (347 kB)\n",
      "Installing collected packages: warc3-wet-clueweb09, warc3-wet, pytz, cbor, zlib-state, unlzw3, tzdata, trec-car-tools, soupsieve, sentencepiece, pyarrow, lz4, lxml, ijson, fsspec, dill, pandas, multiprocess, inscriptis, beautifulsoup4, ir-datasets, accelerate, datasets, peft, FlagEmbedding\n",
      "  Attempting uninstall: fsspec\n",
      "    Found existing installation: fsspec 2025.9.0\n",
      "    Uninstalling fsspec-2025.9.0:\n",
      "      Successfully uninstalled fsspec-2025.9.0\n",
      "Successfully installed FlagEmbedding-1.3.5 accelerate-1.10.1 beautifulsoup4-4.13.5 cbor-1.0.0 datasets-4.0.0 dill-0.3.8 fsspec-2025.3.0 ijson-3.4.0 inscriptis-2.6.0 ir-datasets-0.5.11 lxml-6.0.1 lz4-4.4.4 multiprocess-0.70.16 pandas-2.3.2 peft-0.17.1 pyarrow-21.0.0 pytz-2025.2 sentencepiece-0.2.1 soupsieve-2.8 trec-car-tools-2.6 tzdata-2025.2 unlzw3-0.2.3 warc3-wet-0.2.5 warc3-wet-clueweb09-0.2.5 zlib-state-0.1.10\n",
      "Note: you may need to restart the kernel to use updated packages.\n"
     ]
    },
    {
     "name": "stderr",
     "output_type": "stream",
     "text": [
      "\n",
      "[notice] A new release of pip is available: 24.0 -> 25.2\n",
      "[notice] To update, run: C:\\Users\\vnintern02\\AppData\\Local\\Microsoft\\WindowsApps\\PythonSoftwareFoundation.Python.3.11_qbz5n2kfra8p0\\python.exe -m pip install --upgrade pip\n"
     ]
    }
   ],
   "source": [
    "%pip install FlagEmbedding"
   ]
  },
  {
   "cell_type": "code",
   "execution_count": 23,
   "id": "bf4f83aa",
   "metadata": {},
   "outputs": [
    {
     "name": "stderr",
     "output_type": "stream",
     "text": [
      "C:\\Users\\vnintern02\\AppData\\Local\\Packages\\PythonSoftwareFoundation.Python.3.11_qbz5n2kfra8p0\\LocalCache\\local-packages\\Python311\\site-packages\\huggingface_hub\\file_download.py:143: UserWarning: `huggingface_hub` cache-system uses symlinks by default to efficiently store duplicated files but your machine does not support them in C:\\Users\\vnintern02\\.cache\\huggingface\\hub\\models--namdp-ptit--ViRanker. Caching files will still work but in a degraded version that might require more space on your disk. This warning can be disabled by setting the `HF_HUB_DISABLE_SYMLINKS_WARNING` environment variable. For more details, see https://huggingface.co/docs/huggingface_hub/how-to-cache#limitations.\n",
      "To support symlinks on Windows, you either need to activate Developer Mode or to run Python as an administrator. In order to activate developer mode, see this article: https://docs.microsoft.com/en-us/windows/apps/get-started/enable-your-device-for-development\n",
      "  warnings.warn(message)\n",
      "Xet Storage is enabled for this repo, but the 'hf_xet' package is not installed. Falling back to regular HTTP download. For better performance, install the package with: `pip install huggingface_hub[hf_xet]` or `pip install hf_xet`\n"
     ]
    }
   ],
   "source": [
    "from FlagEmbedding import FlagReranker\n",
    "reranker = FlagReranker('namdp-ptit/ViRanker',\n",
    "                        use_fp16=True)"
   ]
  },
  {
   "cell_type": "code",
   "execution_count": 44,
   "id": "aadb1369",
   "metadata": {},
   "outputs": [
    {
     "data": {
      "text/markdown": [
       "! [ Công ty TNHH DENSO Việt Nam - Việc chụp ảnh trong Công ty phải được thực hiện bằng máy ảnh của Công ty với mục đích công việc vàđược phê duyệt với từng mức độ bảo mật ( đeo băng tay vải màu cam và có dòng chữ “ Camera ” ) ; - Ảnh chụp trong Công ty được coi là tài sản thông tin của Công ty . Do vậy , cầm mọi hình thức phân phối ảnh chụp trong Công ty vàảnh chụp cá nhân mặc đồng phục DENSO ra bên ngoài , bao gồm cả trang mạng xã hội nếu chưa được phê duyệt bởi các cấp có thâm quyên ; - Công ty thực hiện đào tạo người lao động về hoạt động bảo vệ tài sản , bí mật kinh doanh công nghệ của Công ty . 3 . Xử lí kỷ luật Đối với những hành vi xâm phạm tài sản , bí mat kinh doanh công nghệ của Công ty , tùy theo lỗi , mức độ nghiêm trọng về hậu quả mà có thể bị xử lý kỷ luật theo điều 39 chương 7 hoặc Công ty khởi kiện theo quy định của pháp luật . CHƯƠNG 4 - NHIỆM VỤ LÀM VIỆC Phần 1 : Giờ làm việc Điều 11 : Giờ làm việc cơ bản 1 . Lịch làm việc hàng năm ( bao gồm ngày nghỉ tuần ) được quy định cụ thể và thông báo cho người lao động vào đầu năm sau khi tham khảo ý kiến của tổ chức đại diện người lao động . 2 . Đối với nhân viên khối văn phòng : 2.1 Giờ làm việc bình thường không quá 10 giờ / ngày và 48 giờ / tuần . 2.2 Ngày nghỉ hằng tuần của nhân viên là Thứ Bảy , Chủ Nhật 2.3 Giờ làm việc như sau : GIỜ LÀM VIỆC THỰC TẾ NGHỈ NGẮN ( 8 Giờ 35 Phút ) ( 20 phút ) h Nghỉ giải lao và so zÄ 。 Buổi sáng ïn trữ Buổi chiều Nghỉ ngắn § : 10 ~ 12 : 00 | 12 : 00 ~ 12 : 30 12 : 30 ~ 17 : 15 | 20 phút ( thời gian linh hoạt ) 3 . Đối với nhân viên khối nhà máy : 3.1 Ngày nghỉ hằng tuần của nhân viên là Chủ Nhật . 3.2 Về cơ bản , giờ của các ca làm việc sẽ như sau : Ca | Bấtđầu | Giảilaoldnl | Giải lao lần 2 | ( ; ; 1 olận4 | Kếtthúc và Ăn giữa ca Cai | 06 : 00 | 08 : 00 < 08 : 10 | 10 : 00 ~ 1030 | 12 : 15 ~ 1225 | 14 : 00 Ca2 | 14 : 00 | 16 : 00 ~ 16 : 10 | 18 : 00 ~ 18 : 30 | 20 : 15 ~ 20 : 25 | 22 : 00 Ca3 | 22 : 00 _ | 00 : 00 ~ 00 : 10 | 02 : 00 ~ 02 : 45 | 04 : 30 ~ 04 : 40 | 06 : 00 4 . Giờ nghỉăn giữa ca : ca ngày là 30 phút , ca đêm là 45 phút . ] ( # )"
      ],
      "text/plain": [
       "<IPython.core.display.Markdown object>"
      ]
     },
     "metadata": {},
     "output_type": "display_data"
    },
    {
     "data": {
      "text/markdown": [
       "! [ Công ty TNHH DENSO Việt Nam 9 . - Nhân viên có thời gian làm việc trong khoảng từ 22 : 00 đến 6 : 00 sáng ngày hôm sau được hưởng phụ cấp làm ca đêm bằng 35 % tiền lương của công việc làm ban ngày . . Thời điểm bất đầu hoặc kết thúc của giờ làm việc được quy định ở trên có nghĩa làđã “ sắn sàng làm việc ” hoặc “ kết thúc công việc ” tại vị trí làm việc . Thời gian đi tới nơi làm việc , thay trang phục , giao ca ... và từ nơi làm việc về không được tính là thời gian làm việc . . Việc không thể bắt đầu công việc vào thời điểm bắt đầu giờ làm việc hoặc ca làm việc mà không có lí do chính đáng sẽ bị coi là “ Di muộn ” . Rời vị trí làm việc mE \\ \\ ] không được cấp trên cho phép trước thời điểm kết thúc giờ làm việc sẽ bị coi là “ Ve sớm ” . h TB hợp bất khả kháng như dịch bệnh , sự cốđiện nước , thiên tai , cháy .. người lao động có thểđược yêu cầu nghỉ hàng tuần vào bất kỳ ngày nào trong tuần , không cốđịnh như trên lịch và Công ty sẽ thông báo trước cho người lao động bằng văn bản . Giờ làm việc trong thời gian công tác nước ngoài được quy định riêng . Nàng 12 : Làm thêm giờ bai . Khi cần làm thêm giờ do yêu cầu sản xuất kinh doanh , Công ty là người thỏa thuận , đồng ý cho người lao động làm thêm giờ khi đáp ứng các điều kiện sau : - Phai được sựđồng ý của người lao động tham gia làm thêm về các nội dung sau đây : thời gian làm thêm , địa điểm làm thêm , công việc làm thêm ; - Bảo đảm tổng số giờ làm việc bình thường và số giờ làm thêm của người lao động không quá 12 h / ngay : Tổng số giờ làm thêm không quá 40 h / tháng , không quá 200 h / năm ; Khi làm thêm từ 200 h đến 300 h thì công ty sẽ thực hiện các bước theo quy định của pháp luật . . Làm thêm giờ trong trường hợp đặc biệt Công ty có quyên yêu cầu người lao động làm thêm giờ vào bắt kỳ ngày nào mà không bị giới hạn về số giờ làm thêm theo quy định và người lao động không được từ chối trong trường hợp sau đây : - Thực hiện lệnh động viên , huy động đảm bảo nhiệm vụ quốc phòng , an ninh theo quy định của pháp luật ; Thực hiện các công việc nhằm bảo vệ tính mạng con người , tài sản của cơ quan , tổ chức , cá nhân trong phòng ngừa , khắc phục hậu quả thiên tai , hỏa hoạn , dịch bệnh nguy hiểm và thảm họa , trừ trường hợp có nguy cơ ảnh hưởng đến . tính mạng , sức khỏe của người lao động theo quy định của pháp luật về an toàn , vệ sinh lao động . Người lao động làm thêm giờđược trả lương như sau : 3.1 Vào ngày làm việc bình thường : bằng 150 % của tiền lương giờ trong ngày làm việc bình thường ; 3.2 Vào ngày nghỉ tuần : bằng 200 % của tiền lương giờ trong ngày làm việc bình thường ; 3.3 Vào ngày nghỉ lễ : bằng 300 % của tiền lương giờ trong ngày làm việc bình thường . - 9 - ] ( # )"
      ],
      "text/plain": [
       "<IPython.core.display.Markdown object>"
      ]
     },
     "metadata": {},
     "output_type": "display_data"
    },
    {
     "data": {
      "text/markdown": [
       "! [ Công ty TNHH DENSO Việt Nam 3 . Khi người lao động đến muộn do vấn đề giao thông công cộng ( có bằng chứng ) hoặc do những lý do khác mà công ty thấy rằng ngoài sự kiểm soát của người lao động thì họ sẽ không bị coi làđi làm muộn . Phần 3 : Đi công tác Điều 23 : Đi công tác 1 . Người lao động có thểđược yêu cầu đi công tác xa vì lý do công việc ( trừ trường hợp người lao động nữ mang thai từ tháng thứ 7 hoặc đang nuôi con dưới 12 tháng tuổi ) . 2 . Khi người lao động không thể quay về công ty vào khoảng thời gian đãđịnh vì lý do công việc hoặc hoàn cảnh không tránh khỏi , hoặc phải đi đến nơi khác , người lao động phải được cấp trên đồng ý và phải theo những thủ tục cần thiết ngay sau khi trở lại làm việc . 3 . Người lao động phải báo trước nơi nào người đó sẽở trong suốt thời gian công tác . 4 . Sau khi đi công tác về , người lao động phải đệ trình báo cáo cho cấp trên ngay lập tức nếu được yêu cầu . 5 . Người lao động được hưởng ngày nghỉđặc biệt hưởng nguyên lương sau khi đi học tập / công tác nước ngoài về theo quy định sau : - Nếu khoáđào tạo / công tác từ 3 tháng trở lên : nghỉ 3 ngày ; - Nếu khoáđào tạo / công tác từ 1 tháng đến dưới 3 tháng : nghỉ 1 ngày . 6 . Thủ tục thanh toán những khoản chỉ phíđi công tác sẽđược nêu riêng . CHƯƠNG 5 - SỨC KHỎE VÀ AN TOÀN Phần 1 : Thái độ cơ bản Điều 24 : Thái độ cơ bản 1 . Người lao động phải có thái độ hợp tác và tuân thủ những biện pháp đảm bảo sức khỏe và an toàn của Công ty 2 . Người lao động phải hết sức cố gắng để không xảy ra tai nạn lao động cho chính mình và những người khác . 3 . Người lao động phải tuân theo sự chỉ dẫn của Công ty để giữ vững và cải thiện sức khỏe . Phần 2 : An toàn Điều 25 : Trách nhiệm của Công ty Công ty có trách nhiệm thực hiện theo quy định của Bộ luật lao động và các văn bản pháp luật có liên quan khác về vấn đề an toàn và vệ sinh lao động , cụ thể như sau : 1 . Trang bịđầy đủ phương tiện bảo hộ lao động , đảm bảo an toàn lao động ; 2 . Có phương tiện / dụng cụ che chắn các bộ phận dễ gây nguy hiểm của máy móc , thiết bị trong Công ty ; 3 . Đặt các biển chỉ dẫn về an toàn ở nơi dễ thấy , dễđọc ; = lÄ = ] ( # )"
      ],
      "text/plain": [
       "<IPython.core.display.Markdown object>"
      ]
     },
     "metadata": {},
     "output_type": "display_data"
    },
    {
     "data": {
      "text/markdown": [
       "! [ Công ty TNHH DENSO Việt Nam TIẾNG VIỆT NỘI QUY LAO ĐỘNG MỤC LỤC CHUONG 1 : NHŨNG QUY ĐỊNH CHUNG Trang : 4 Điều 1 : Mục đích của nội quy Trang : 4 Điều 2 : Phạm vi áp dụng Trang : 4 Điều 3 : Người lao động Trang : 4 Điều 4 : Cấp trên Trang : 4 Điều 5 : Người sử dụng lao động Trang : 4 CHƯƠNG 2 : TRẬT TỰTRONG CÔNG TY Trang : 4 Điều 6 : Thái độ cơ bản Trang : 4 Điều 7 : Chấp hành nội quy Trang : 4 Điều 8 : Ra vào công ty Trang : 5 CHƯƠNG 3 : CHUYỂN NGƯỜI LAO ĐỘNG LÀM Trang : 6 CÔNG VIỆC KHÁC VỚI HỢP ĐỒNG LAO ĐỘNG . BẢO VỆ BÍ MẬT KINH DOANH , CÔNG NGHỆ , SỞ HỮU TRÍ TUỆ CỦA CÔNG TY Điều 9 : Thay đổi công việc khác với Hợp đồng lao động Trang : 6 Điều 10 : Bảo vệ bí mật kinh doanh , công nghệ của công ty Trang : 7 CHƯƠNG 4 : NHIỆM VỤ LÀM VIỆC Trang : 8 Phần 1 : Giờ làm việc Trang : 8 Điều 11 : Giờ làm việc cơ bản Trang : 8 Điều 12 : Lam thêm giờ Trang : 9 Điều 13 : Ngoại lệ trong trường hợp khẩn cấp Trang : 10 Phần 2 : Ngày nghỉ Trang : 10 Điều 14 : Nghỉ lễ Trang : 10 Điều 15 : Nghỉ phép Trang : 10 ] ( # )"
      ],
      "text/plain": [
       "<IPython.core.display.Markdown object>"
      ]
     },
     "metadata": {},
     "output_type": "display_data"
    },
    {
     "data": {
      "text/markdown": [
       "! [ Công ty TNHH DENSO Việt Nam 3.4 Người lao động làm thêm giờ vào ban đêm thì ngoài việc trả lương theo quy định tại khoản 3.1 , 3.2 và 3.3 Điều này , người lao động còn được trả thêm 20 % tiền lương theo tiền lương giờ làm việc ban ngày . Điều 13 : Ngoại lệ trong trường hợp khẩn cấp Khi có những nhu cầu tạm thời do ảnh hưởng nghiêm trọng của thiên tai , hành động phá hoại của kẻ thù , hỏa hoạn hoặc bệnh dịch mà Công ty phải giải quyết , Công ty có thể yêu cầu người lao động làm thêm giờ quá 4 tiếng / ngày . Công ty sẽ có báo cáo với cơ quan quản lý lao động cấp trên trong những trường hợp này . Phần 2 : Ngày nghỉ Điều 14 : Nghỉ lễ 1 . Người lao động được nghỉ làm việc , hưởng nguyên lương những ngày lễ sau : - Tết dương lịch : 1 ngày ( ngày 1 tháng 1 dương lịch ) - Tết âm lịch : 5 ngày - Ngày Chiến thắng : 1 ngày ( ngày 30 tháng 4 dương lịch ) - Ngày Quốc tế lao động : 1 ngày ( ngày 1 tháng 5 dương lịch ) - Ngày Quốc khánh : 2 ngày ( ngày 2 tháng 9 dương lịch và 1 ngày trước hoặc sau ngày Quốc Khánh ) - Ngày Giỗ Tổ Hùng Vương : 1 ngày ( ngày 10 tháng 3 âm lịch ) 2 . Nếu bất kỳ ngày lễ nào nói trên trùng vào ngày nghỉ tuần , người lao động sẽ được nghỉ bù vào ngày tiếp theo . 3 . Công ty sẽ thông báo Lịch làm việc cụ thể của năm tiếp theo cho toàn thể nhân viên vào cuối năm trước sau khi đã tham khảo ý kiến của Tổ chức đại diện người lao động trên cơ sở tuân thủ thời giờ làm việc , thời giờ nghỉ ngơi của Bộ luật lao động . Điều 15 : Nghỉ phép 1 . Cách tính ngày phép : 1.1 Thời gian thử việc và tập nghềđược coi là thời gian làm việc của người lao động để tính số ngày phép . 1.2 Người lao động làm đủ 12 tháng / năm sẽđược hưởng 12 ngày phép . Số ngày nghỉđược tăng theo thâm niên làm việc nhưng không vượt quá 20 ngày / năm , cụ thể như sau : s _ Cứ 4 năm được hưởng thêm 1 ngày s _ Từ năm thứ 8 , cứ 3 năm được hưởng thêm 1 ngày * _ Từ năm thứ 14 , cứ 2 năm được hưởng thêm 1 ngày * _ Từ năm thứ 20 , cứ 1 năm được hưởng thêm 1 ngày 1.3 Người lao động được tuyển dụng trong năm được hưởng số ngày phép như sau : * Nenu vào làm việc trước ngày 16 của tháng thì sẽđược tính phép . ngay từ tháng đó ; © Neu vào làm việc từ ngày 16 của tháng trởđi thì sẽđược tính phép từ tháng tiếp theo . = lỦ - ~ ] ( # )"
      ],
      "text/plain": [
       "<IPython.core.display.Markdown object>"
      ]
     },
     "metadata": {},
     "output_type": "display_data"
    }
   ],
   "source": [
    "def rerank_documents(question: str, docs: List[Document], reranker : FlagReranker ,top_k = 5) -> list[Document]:\n",
    "    pairs = [(question, doc.page_content) for doc in docs]\n",
    "    scores = reranker.compute_score(pairs)\n",
    "    doc_score_pairs = list(zip(docs, scores))\n",
    "    doc_score_pairs.sort(key=lambda x: x[1], reverse=True)\n",
    "    return [doc for doc, score in doc_score_pairs[:top_k]]\n",
    "reranked = rerank_documents(question, retrieved_docs, reranker, top_k=5)\n",
    "for i in range(len(reranked)):\n",
    "    display(Markdown(reranked[i].page_content))"
   ]
  },
  {
   "cell_type": "code",
   "execution_count": 68,
   "id": "b5e36c06",
   "metadata": {},
   "outputs": [
    {
     "name": "stderr",
     "output_type": "stream",
     "text": [
      "INFO:langchain.retrievers.multi_query:Generated queries: ['1. Cấu trúc giờ làm việc tiêu chuẩn là gì?', '2. Thời gian làm việc bình thường bao gồm những thời điểm nào?', '3. Giờ làm việc cơ bản được quy định như thế nào trong luật lao động?', '4. Mô tả về lịch trình làm việc thông thường.', '5. Thông tin chi tiết về khung giờ làm việc cơ bản.']\n"
     ]
    },
    {
     "data": {
      "text/plain": [
       "[Document(id='46978f45-c70e-47f6-9571-b6371ec17961', metadata={'producer': 'ApeosPort 5570', 'creator': 'ApeosPort 5570', 'creationdate': '2022-07-27T14:18:40+07:00', 'source': 'true_test.pdf', 'file_path': 'true_test.pdf', 'total_pages': 48, 'format': 'PDF 1.3', 'title': '', 'author': '', 'subject': '', 'keywords': '', 'moddate': '2022-07-27T14:18:40+07:00', 'trapped': '', 'modDate': \"D:20220727141840+07'00'\", 'creationDate': \"D:20220727141840+07'00'\", 'page': 0, 'language': 'vi'}, page_content='! [ NỘI QUY LAO ĐỘNG Công ty TNHH DENSO Việt Nam Hà Nội , tháng 07 năm 2022 ] ( # )'),\n",
       " Document(id='1af17246-3b85-4c87-bdaf-ebe3889824e7', metadata={'producer': 'ApeosPort 5570', 'creator': 'ApeosPort 5570', 'creationdate': '2022-07-27T14:18:40+07:00', 'source': 'true_test.pdf', 'file_path': 'true_test.pdf', 'total_pages': 48, 'format': 'PDF 1.3', 'title': '', 'author': '', 'subject': '', 'keywords': '', 'moddate': '2022-07-27T14:18:40+07:00', 'trapped': '', 'modDate': \"D:20220727141840+07'00'\", 'creationDate': \"D:20220727141840+07'00'\", 'page': 1, 'language': 'vi'}, page_content='! [ Công ty TNHH DENSO Việt Nam TIẾNG VIỆT NỘI QUY LAO ĐỘNG MỤC LỤC CHUONG 1 : NHŨNG QUY ĐỊNH CHUNG Trang : 4 Điều 1 : Mục đích của nội quy Trang : 4 Điều 2 : Phạm vi áp dụng Trang : 4 Điều 3 : Người lao động Trang : 4 Điều 4 : Cấp trên Trang : 4 Điều 5 : Người sử dụng lao động Trang : 4 CHƯƠNG 2 : TRẬT TỰTRONG CÔNG TY Trang : 4 Điều 6 : Thái độ cơ bản Trang : 4 Điều 7 : Chấp hành nội quy Trang : 4 Điều 8 : Ra vào công ty Trang : 5 CHƯƠNG 3 : CHUYỂN NGƯỜI LAO ĐỘNG LÀM Trang : 6 CÔNG VIỆC KHÁC VỚI HỢP ĐỒNG LAO ĐỘNG . BẢO VỆ BÍ MẬT KINH DOANH , CÔNG NGHỆ , SỞ HỮU TRÍ TUỆ CỦA CÔNG TY Điều 9 : Thay đổi công việc khác với Hợp đồng lao động Trang : 6 Điều 10 : Bảo vệ bí mật kinh doanh , công nghệ của công ty Trang : 7 CHƯƠNG 4 : NHIỆM VỤ LÀM VIỆC Trang : 8 Phần 1 : Giờ làm việc Trang : 8 Điều 11 : Giờ làm việc cơ bản Trang : 8 Điều 12 : Lam thêm giờ Trang : 9 Điều 13 : Ngoại lệ trong trường hợp khẩn cấp Trang : 10 Phần 2 : Ngày nghỉ Trang : 10 Điều 14 : Nghỉ lễ Trang : 10 Điều 15 : Nghỉ phép Trang : 10 ] ( # )'),\n",
       " Document(id='fa216de7-850f-4963-8bfb-057e08ffd73e', metadata={'producer': 'ApeosPort 5570', 'creator': 'ApeosPort 5570', 'creationdate': '2022-07-27T14:18:40+07:00', 'source': 'true_test.pdf', 'file_path': 'true_test.pdf', 'total_pages': 48, 'format': 'PDF 1.3', 'title': '', 'author': '', 'subject': '', 'keywords': '', 'moddate': '2022-07-27T14:18:40+07:00', 'trapped': '', 'modDate': \"D:20220727141840+07'00'\", 'creationDate': \"D:20220727141840+07'00'\", 'page': 8, 'language': 'vi'}, page_content='! [ Công ty TNHH DENSO Việt Nam - Việc chụp ảnh trong Công ty phải được thực hiện bằng máy ảnh của Công ty với mục đích công việc vàđược phê duyệt với từng mức độ bảo mật ( đeo băng tay vải màu cam và có dòng chữ “ Camera ” ) ; - Ảnh chụp trong Công ty được coi là tài sản thông tin của Công ty . Do vậy , cầm mọi hình thức phân phối ảnh chụp trong Công ty vàảnh chụp cá nhân mặc đồng phục DENSO ra bên ngoài , bao gồm cả trang mạng xã hội nếu chưa được phê duyệt bởi các cấp có thâm quyên ; - Công ty thực hiện đào tạo người lao động về hoạt động bảo vệ tài sản , bí mật kinh doanh công nghệ của Công ty . 3 . Xử lí kỷ luật Đối với những hành vi xâm phạm tài sản , bí mat kinh doanh công nghệ của Công ty , tùy theo lỗi , mức độ nghiêm trọng về hậu quả mà có thể bị xử lý kỷ luật theo điều 39 chương 7 hoặc Công ty khởi kiện theo quy định của pháp luật . CHƯƠNG 4 - NHIỆM VỤ LÀM VIỆC Phần 1 : Giờ làm việc Điều 11 : Giờ làm việc cơ bản 1 . Lịch làm việc hàng năm ( bao gồm ngày nghỉ tuần ) được quy định cụ thể và thông báo cho người lao động vào đầu năm sau khi tham khảo ý kiến của tổ chức đại diện người lao động . 2 . Đối với nhân viên khối văn phòng : 2.1 Giờ làm việc bình thường không quá 10 giờ / ngày và 48 giờ / tuần . 2.2 Ngày nghỉ hằng tuần của nhân viên là Thứ Bảy , Chủ Nhật 2.3 Giờ làm việc như sau : GIỜ LÀM VIỆC THỰC TẾ NGHỈ NGẮN ( 8 Giờ 35 Phút ) ( 20 phút ) h Nghỉ giải lao và so zÄ 。 Buổi sáng ïn trữ Buổi chiều Nghỉ ngắn § : 10 ~ 12 : 00 | 12 : 00 ~ 12 : 30 12 : 30 ~ 17 : 15 | 20 phút ( thời gian linh hoạt ) 3 . Đối với nhân viên khối nhà máy : 3.1 Ngày nghỉ hằng tuần của nhân viên là Chủ Nhật . 3.2 Về cơ bản , giờ của các ca làm việc sẽ như sau : Ca | Bấtđầu | Giảilaoldnl | Giải lao lần 2 | ( ; ; 1 olận4 | Kếtthúc và Ăn giữa ca Cai | 06 : 00 | 08 : 00 < 08 : 10 | 10 : 00 ~ 1030 | 12 : 15 ~ 1225 | 14 : 00 Ca2 | 14 : 00 | 16 : 00 ~ 16 : 10 | 18 : 00 ~ 18 : 30 | 20 : 15 ~ 20 : 25 | 22 : 00 Ca3 | 22 : 00 _ | 00 : 00 ~ 00 : 10 | 02 : 00 ~ 02 : 45 | 04 : 30 ~ 04 : 40 | 06 : 00 4 . Giờ nghỉăn giữa ca : ca ngày là 30 phút , ca đêm là 45 phút . ] ( # )'),\n",
       " Document(id='0d66fdc6-86db-42e6-b4ce-ff0cd20192ec', metadata={'producer': 'ApeosPort 5570', 'creator': 'ApeosPort 5570', 'creationdate': '2022-07-27T14:18:40+07:00', 'source': 'true_test.pdf', 'file_path': 'true_test.pdf', 'total_pages': 48, 'format': 'PDF 1.3', 'title': '', 'author': '', 'subject': '', 'keywords': '', 'moddate': '2022-07-27T14:18:40+07:00', 'trapped': '', 'modDate': \"D:20220727141840+07'00'\", 'creationDate': \"D:20220727141840+07'00'\", 'page': 9, 'language': 'vi'}, page_content='! [ Công ty TNHH DENSO Việt Nam 9 . - Nhân viên có thời gian làm việc trong khoảng từ 22 : 00 đến 6 : 00 sáng ngày hôm sau được hưởng phụ cấp làm ca đêm bằng 35 % tiền lương của công việc làm ban ngày . . Thời điểm bất đầu hoặc kết thúc của giờ làm việc được quy định ở trên có nghĩa làđã “ sắn sàng làm việc ” hoặc “ kết thúc công việc ” tại vị trí làm việc . Thời gian đi tới nơi làm việc , thay trang phục , giao ca ... và từ nơi làm việc về không được tính là thời gian làm việc . . Việc không thể bắt đầu công việc vào thời điểm bắt đầu giờ làm việc hoặc ca làm việc mà không có lí do chính đáng sẽ bị coi là “ Di muộn ” . Rời vị trí làm việc mE \\\\ \\\\ ] không được cấp trên cho phép trước thời điểm kết thúc giờ làm việc sẽ bị coi là “ Ve sớm ” . h TB hợp bất khả kháng như dịch bệnh , sự cốđiện nước , thiên tai , cháy .. người lao động có thểđược yêu cầu nghỉ hàng tuần vào bất kỳ ngày nào trong tuần , không cốđịnh như trên lịch và Công ty sẽ thông báo trước cho người lao động bằng văn bản . Giờ làm việc trong thời gian công tác nước ngoài được quy định riêng . Nàng 12 : Làm thêm giờ bai . Khi cần làm thêm giờ do yêu cầu sản xuất kinh doanh , Công ty là người thỏa thuận , đồng ý cho người lao động làm thêm giờ khi đáp ứng các điều kiện sau : - Phai được sựđồng ý của người lao động tham gia làm thêm về các nội dung sau đây : thời gian làm thêm , địa điểm làm thêm , công việc làm thêm ; - Bảo đảm tổng số giờ làm việc bình thường và số giờ làm thêm của người lao động không quá 12 h / ngay : Tổng số giờ làm thêm không quá 40 h / tháng , không quá 200 h / năm ; Khi làm thêm từ 200 h đến 300 h thì công ty sẽ thực hiện các bước theo quy định của pháp luật . . Làm thêm giờ trong trường hợp đặc biệt Công ty có quyên yêu cầu người lao động làm thêm giờ vào bắt kỳ ngày nào mà không bị giới hạn về số giờ làm thêm theo quy định và người lao động không được từ chối trong trường hợp sau đây : - Thực hiện lệnh động viên , huy động đảm bảo nhiệm vụ quốc phòng , an ninh theo quy định của pháp luật ; Thực hiện các công việc nhằm bảo vệ tính mạng con người , tài sản của cơ quan , tổ chức , cá nhân trong phòng ngừa , khắc phục hậu quả thiên tai , hỏa hoạn , dịch bệnh nguy hiểm và thảm họa , trừ trường hợp có nguy cơ ảnh hưởng đến . tính mạng , sức khỏe của người lao động theo quy định của pháp luật về an toàn , vệ sinh lao động . Người lao động làm thêm giờđược trả lương như sau : 3.1 Vào ngày làm việc bình thường : bằng 150 % của tiền lương giờ trong ngày làm việc bình thường ; 3.2 Vào ngày nghỉ tuần : bằng 200 % của tiền lương giờ trong ngày làm việc bình thường ; 3.3 Vào ngày nghỉ lễ : bằng 300 % của tiền lương giờ trong ngày làm việc bình thường . - 9 - ] ( # )'),\n",
       " Document(id='e72f2ae1-befb-41b6-9863-f3d143dd62ae', metadata={'producer': 'ApeosPort 5570', 'creator': 'ApeosPort 5570', 'creationdate': '2022-07-27T14:18:40+07:00', 'source': 'true_test.pdf', 'file_path': 'true_test.pdf', 'total_pages': 48, 'format': 'PDF 1.3', 'title': '', 'author': '', 'subject': '', 'keywords': '', 'moddate': '2022-07-27T14:18:40+07:00', 'trapped': '', 'modDate': \"D:20220727141840+07'00'\", 'creationDate': \"D:20220727141840+07'00'\", 'page': 10, 'language': 'vi'}, page_content='! [ Công ty TNHH DENSO Việt Nam 3.4 Người lao động làm thêm giờ vào ban đêm thì ngoài việc trả lương theo quy định tại khoản 3.1 , 3.2 và 3.3 Điều này , người lao động còn được trả thêm 20 % tiền lương theo tiền lương giờ làm việc ban ngày . Điều 13 : Ngoại lệ trong trường hợp khẩn cấp Khi có những nhu cầu tạm thời do ảnh hưởng nghiêm trọng của thiên tai , hành động phá hoại của kẻ thù , hỏa hoạn hoặc bệnh dịch mà Công ty phải giải quyết , Công ty có thể yêu cầu người lao động làm thêm giờ quá 4 tiếng / ngày . Công ty sẽ có báo cáo với cơ quan quản lý lao động cấp trên trong những trường hợp này . Phần 2 : Ngày nghỉ Điều 14 : Nghỉ lễ 1 . Người lao động được nghỉ làm việc , hưởng nguyên lương những ngày lễ sau : - Tết dương lịch : 1 ngày ( ngày 1 tháng 1 dương lịch ) - Tết âm lịch : 5 ngày - Ngày Chiến thắng : 1 ngày ( ngày 30 tháng 4 dương lịch ) - Ngày Quốc tế lao động : 1 ngày ( ngày 1 tháng 5 dương lịch ) - Ngày Quốc khánh : 2 ngày ( ngày 2 tháng 9 dương lịch và 1 ngày trước hoặc sau ngày Quốc Khánh ) - Ngày Giỗ Tổ Hùng Vương : 1 ngày ( ngày 10 tháng 3 âm lịch ) 2 . Nếu bất kỳ ngày lễ nào nói trên trùng vào ngày nghỉ tuần , người lao động sẽ được nghỉ bù vào ngày tiếp theo . 3 . Công ty sẽ thông báo Lịch làm việc cụ thể của năm tiếp theo cho toàn thể nhân viên vào cuối năm trước sau khi đã tham khảo ý kiến của Tổ chức đại diện người lao động trên cơ sở tuân thủ thời giờ làm việc , thời giờ nghỉ ngơi của Bộ luật lao động . Điều 15 : Nghỉ phép 1 . Cách tính ngày phép : 1.1 Thời gian thử việc và tập nghềđược coi là thời gian làm việc của người lao động để tính số ngày phép . 1.2 Người lao động làm đủ 12 tháng / năm sẽđược hưởng 12 ngày phép . Số ngày nghỉđược tăng theo thâm niên làm việc nhưng không vượt quá 20 ngày / năm , cụ thể như sau : s _ Cứ 4 năm được hưởng thêm 1 ngày s _ Từ năm thứ 8 , cứ 3 năm được hưởng thêm 1 ngày * _ Từ năm thứ 14 , cứ 2 năm được hưởng thêm 1 ngày * _ Từ năm thứ 20 , cứ 1 năm được hưởng thêm 1 ngày 1.3 Người lao động được tuyển dụng trong năm được hưởng số ngày phép như sau : * Nenu vào làm việc trước ngày 16 của tháng thì sẽđược tính phép . ngay từ tháng đó ; © Neu vào làm việc từ ngày 16 của tháng trởđi thì sẽđược tính phép từ tháng tiếp theo . = lỦ - ~ ] ( # )'),\n",
       " Document(id='87e99346-d4ff-4d72-81ea-3d2fbd77cf9b', metadata={'producer': 'ApeosPort 5570', 'creator': 'ApeosPort 5570', 'creationdate': '2022-07-27T14:18:40+07:00', 'source': 'true_test.pdf', 'file_path': 'true_test.pdf', 'total_pages': 48, 'format': 'PDF 1.3', 'title': '', 'author': '', 'subject': '', 'keywords': '', 'moddate': '2022-07-27T14:18:40+07:00', 'trapped': '', 'modDate': \"D:20220727141840+07'00'\", 'creationDate': \"D:20220727141840+07'00'\", 'page': 13, 'language': 'vi'}, page_content='! [ Công ty TNHH DENSO Việt Nam 3 . Khi người lao động đến muộn do vấn đề giao thông công cộng ( có bằng chứng ) hoặc do những lý do khác mà công ty thấy rằng ngoài sự kiểm soát của người lao động thì họ sẽ không bị coi làđi làm muộn . Phần 3 : Đi công tác Điều 23 : Đi công tác 1 . Người lao động có thểđược yêu cầu đi công tác xa vì lý do công việc ( trừ trường hợp người lao động nữ mang thai từ tháng thứ 7 hoặc đang nuôi con dưới 12 tháng tuổi ) . 2 . Khi người lao động không thể quay về công ty vào khoảng thời gian đãđịnh vì lý do công việc hoặc hoàn cảnh không tránh khỏi , hoặc phải đi đến nơi khác , người lao động phải được cấp trên đồng ý và phải theo những thủ tục cần thiết ngay sau khi trở lại làm việc . 3 . Người lao động phải báo trước nơi nào người đó sẽở trong suốt thời gian công tác . 4 . Sau khi đi công tác về , người lao động phải đệ trình báo cáo cho cấp trên ngay lập tức nếu được yêu cầu . 5 . Người lao động được hưởng ngày nghỉđặc biệt hưởng nguyên lương sau khi đi học tập / công tác nước ngoài về theo quy định sau : - Nếu khoáđào tạo / công tác từ 3 tháng trở lên : nghỉ 3 ngày ; - Nếu khoáđào tạo / công tác từ 1 tháng đến dưới 3 tháng : nghỉ 1 ngày . 6 . Thủ tục thanh toán những khoản chỉ phíđi công tác sẽđược nêu riêng . CHƯƠNG 5 - SỨC KHỎE VÀ AN TOÀN Phần 1 : Thái độ cơ bản Điều 24 : Thái độ cơ bản 1 . Người lao động phải có thái độ hợp tác và tuân thủ những biện pháp đảm bảo sức khỏe và an toàn của Công ty 2 . Người lao động phải hết sức cố gắng để không xảy ra tai nạn lao động cho chính mình và những người khác . 3 . Người lao động phải tuân theo sự chỉ dẫn của Công ty để giữ vững và cải thiện sức khỏe . Phần 2 : An toàn Điều 25 : Trách nhiệm của Công ty Công ty có trách nhiệm thực hiện theo quy định của Bộ luật lao động và các văn bản pháp luật có liên quan khác về vấn đề an toàn và vệ sinh lao động , cụ thể như sau : 1 . Trang bịđầy đủ phương tiện bảo hộ lao động , đảm bảo an toàn lao động ; 2 . Có phương tiện / dụng cụ che chắn các bộ phận dễ gây nguy hiểm của máy móc , thiết bị trong Công ty ; 3 . Đặt các biển chỉ dẫn về an toàn ở nơi dễ thấy , dễđọc ; = lÄ = ] ( # )')]"
      ]
     },
     "execution_count": 68,
     "metadata": {},
     "output_type": "execute_result"
    }
   ],
   "source": [
    "class LineListOutputParser(BaseOutputParser[List[str]]):\n",
    "    \"\"\"Output parser for a list of lines.\"\"\"\n",
    "\n",
    "    def parse(self, text: str) -> List[str]:\n",
    "        lines = text.strip().split(\"\\n\")\n",
    "        return list(filter(None, lines))\n",
    "\n",
    "class MultiQuery:\n",
    "    def __init__(self, retriever, llm=None, parser=LineListOutputParser()):\n",
    "        self.retriever = retriever\n",
    "        if llm is None:\n",
    "            try: \n",
    "                llm = ChatOllama(model=MODEL_NAME, temperature=0.2)\n",
    "                self.llm = llm\n",
    "            except Exception as e:\n",
    "                print(f\"Error initializing LLM: {e}\")\n",
    "                raise\n",
    "        else:\n",
    "            self.llm = llm\n",
    "        self.parser = parser\n",
    "        self.prompt = PromptTemplate(\n",
    "            input_variables=['question'],\n",
    "            template = '''You are a helpful language model assistant. Your task is to generate multiple distinct queries that can help retrieve relevant documents from a vector database.\n",
    "             By generating multiple perspectives on the user question, your goal is to help the user overcome some of the limitations of the distance-based similarity search. \n",
    "            Provide these alternative questions separated by newlines. Generate the different versions based ONLY on the language of the original question. \n",
    "            Output only the different questions in numerated lines.\n",
    "            Original question: {question}'''\n",
    "        )\n",
    "    def generate_queries(self, question: str) -> List[str]:\n",
    "        try:\n",
    "            chain = self.prompt | self.llm | self.parser\n",
    "            retriever = MultiQueryRetriever(\n",
    "                retriever=self.retriever.as_retriever(),\n",
    "                llm_chain=chain,\n",
    "                parser_key='lines'\n",
    "            )\n",
    "        except Exception as e:\n",
    "            print(f\"Error generating queries: {e}\")\n",
    "            return [question]\n",
    "        return retriever.invoke(question)\n",
    "logging.basicConfig()\n",
    "logging.getLogger('langchain.retrievers.multi_query').setLevel(logging.INFO)\n",
    "multquery = MultiQuery(vn_vector_store, None, LineListOutputParser())\n",
    "multquery.generate_queries('Giờ làm việc cơ bản?')"
   ]
  },
  {
   "cell_type": "code",
   "execution_count": null,
   "id": "2f1f1ca9",
   "metadata": {},
   "outputs": [
    {
     "name": "stderr",
     "output_type": "stream",
     "text": [
      "INFO:langchain.retrievers.multi_query:Generated queries: ['Here are three different versions of the original question:', 'Giờ làm việc cơ bản có thể được xác định như thế nào?', 'Giờ làm việc cơ bản là gì và nó được áp dụng trong các trường hợp nào?', 'Giờ làm việc cơ bản của một người lao động cần phải đáp ứng những yêu cầu pháp lý cụ thể.']\n"
     ]
    },
    {
     "data": {
      "text/plain": [
       "[Document(id='31af87a0-1f20-4041-aed4-5c3c491948ca', metadata={'producer': 'ApeosPort 5570', 'creator': 'ApeosPort 5570', 'creationdate': '2022-07-27T14:18:40+07:00', 'source': 'true_test.pdf', 'file_path': 'true_test.pdf', 'total_pages': 48, 'format': 'PDF 1.3', 'title': '', 'author': '', 'subject': '', 'keywords': '', 'moddate': '2022-07-27T14:18:40+07:00', 'trapped': '', 'modDate': \"D:20220727141840+07'00'\", 'creationDate': \"D:20220727141840+07'00'\", 'page': 47, 'language': 'vi'}, page_content='! [ ] ( # )'),\n",
       " Document(id='46978f45-c70e-47f6-9571-b6371ec17961', metadata={'producer': 'ApeosPort 5570', 'creator': 'ApeosPort 5570', 'creationdate': '2022-07-27T14:18:40+07:00', 'source': 'true_test.pdf', 'file_path': 'true_test.pdf', 'total_pages': 48, 'format': 'PDF 1.3', 'title': '', 'author': '', 'subject': '', 'keywords': '', 'moddate': '2022-07-27T14:18:40+07:00', 'trapped': '', 'modDate': \"D:20220727141840+07'00'\", 'creationDate': \"D:20220727141840+07'00'\", 'page': 0, 'language': 'vi'}, page_content='! [ NỘI QUY LAO ĐỘNG Công ty TNHH DENSO Việt Nam Hà Nội , tháng 07 năm 2022 ] ( # )'),\n",
       " Document(id='0bff8240-b5e6-4096-a992-5ab726273b56', metadata={'producer': 'ApeosPort 5570', 'creator': 'ApeosPort 5570', 'creationdate': '2022-07-27T14:18:40+07:00', 'source': 'true_test.pdf', 'file_path': 'true_test.pdf', 'total_pages': 48, 'format': 'PDF 1.3', 'title': '', 'author': '', 'subject': '', 'keywords': '', 'moddate': '2022-07-27T14:18:40+07:00', 'trapped': '', 'modDate': \"D:20220727141840+07'00'\", 'creationDate': \"D:20220727141840+07'00'\", 'page': 19, 'language': 'vi'}, page_content='! [ Công ty TNHH DENSO Việt Nam Đi làm muộn mà không có lý do chính đáng , hay vắng mặt chốc lát trong giờ làm việc không được cấp trên cho phép hoặc nghỉ không lý do ; Gặp gỡ khách vì lý do không liên quan đến công việc mà không được cấp trên cho phép ; Có những hành vi ảnh hưởng đến công việc của người khác ; Không thực hiện đầy đủ quy trình , hướng dẫn thao tác , kỹ thuật công nghệ hoặc các quy định về thực hiện công việc của Công ty ; Không xuất trình thẻ nhân viên hoặc từ chối không cho kiểm tra những vật dụng riêng khi được yêu cầu mà không có lý do xác đáng ; Vào khu vực cấm , hoặc dùng những máy móc , phương tiện của Công ty mà không được Công ty cho phép ; Chụp ảnh , quay phim , ghi âm hoặc có bản phác họa khu vực hoặc máy móc của Công ty mà không được Công ty cho phép ; Chênh mảng trong công việc và các phận sự khác hoặc không giám sát công việc dẫn đến hậu quả gây thiệt hại về kinh tế ; 1.2.10 Mang số hiệu , băng tay hoặc những thứ khác tương tự trong Công ty mà không được Công ty cho phép : 1.2.11 Có hành vi được xác định là quây ri tình dục như nhận xét không phù hợp về mặt xã hội , văn hóa và không được mong muốn , bằng những ngụý Ve tình dục như những truyện gợi ý về tình dục hay những nhận xét về trang phục hay cơ thể của một người nào đó khi có mặt họ hoặc hướng tới họ . Hình thức này còn bao gồm cả những lời đề nghị và những yêu cầu hay lời mời đi chơi mang tính cá nhân mà người bị quấy rối đã thể hiện sự không mong muốn nhưng vẫn tiếp tục thực hiện ; 1.2.12 Phạm một lỗi tương tự như một trong những lỗi ke trên . 2 . Kéo dài thời hạn điều chỉnh lương hoặc cách chức Người lao động bị kéo dài thời hạn điều chỉnh lương không quá 6 tháng hoặc cách chức nếu vi phạm một trong các lỗi sau : 2 : 1 : 2.2 , 243 . 24 . Vi phạm điều 39 khoản 1.2 vàđã bị khiển trách bằng văn bản mà tái phạm trong thời hạn 3 tháng kể từ ngày bị khiển trách ; Tái phạm là trường hợp người lao động lặp lại hành vi vi phạm đã bị xử lý kỷ luật mà chưa được xóa kỷ luật ; Cố tình cản trở công việc gây hậu quả thiệt hại về kinh tế ( với giá trị thiệt hại không quá 10 tháng lương tối thiểu vùng ) hoặc ảnh hưởng đến trật tự an toàn , an ninh trong Công ty ; Làm ảnh hưởng đến trật tự vàđạo đức trong Công ty bằng việc làm ồn như cãi nhau , đánh nhau , hăm dọa ... hoặc bất kể các hành vi tương tự nào khác trong phạm vi Công ty nhưng không gây hậu quảđặc biệt nghiêm trọng về tài sản và lợi ích của Công ty ; Có hành vi xúc phạm đồng nghiệp trong Công ty ; - 19 - ] ( # )'),\n",
       " Document(id='645112fe-2f38-45bc-9b44-f8b04df8b38c', metadata={'producer': 'ApeosPort 5570', 'creator': 'ApeosPort 5570', 'creationdate': '2022-07-27T14:18:40+07:00', 'source': 'true_test.pdf', 'file_path': 'true_test.pdf', 'total_pages': 48, 'format': 'PDF 1.3', 'title': '', 'author': '', 'subject': '', 'keywords': '', 'moddate': '2022-07-27T14:18:40+07:00', 'trapped': '', 'modDate': \"D:20220727141840+07'00'\", 'creationDate': \"D:20220727141840+07'00'\", 'page': 3, 'language': 'vi'}, page_content='! [ Công ty TNHH DENSO Việt Nam CHƯƠNG 7 : KỶ LUẬT LAO ĐỘNG , TRÁCH NHIỆM Trang : 17 VẬT CHẤT Điều 37 : Thủ tục Trang : 17 Điều 38 : Quy trình xử lý kỷ luật lao động Trang : 17 Điều 39 : Các hình thức kỷ luật Trang : 18 Điều 40 : Hoàn cảnh làm nhẹ lỗi Trang : 21 Điều 41 : Trách nhiệm vật chất Trang : 21 CHƯƠNG 8 : QUY CHẾ DÂN CHỦ NƠI LÀM VIỆC Trang : 22 Điều 42 : Tổ chức đối thoại nơi làm việc Trang : 22 Điều 43 : Tổ chức Hội nghị người lao đông Trang : 22 CHƯƠNG 9 : KẾT LUẬN Trang : 22 Điều 44 : Trách nhiệm của người sử dụng lao động Trang : 22 Điều 45 : Trách nhiệm của người lao động Trang : 22 Điều 46 : Điều khoản khác Trang : 22 ] ( # )'),\n",
       " Document(id='fa216de7-850f-4963-8bfb-057e08ffd73e', metadata={'producer': 'ApeosPort 5570', 'creator': 'ApeosPort 5570', 'creationdate': '2022-07-27T14:18:40+07:00', 'source': 'true_test.pdf', 'file_path': 'true_test.pdf', 'total_pages': 48, 'format': 'PDF 1.3', 'title': '', 'author': '', 'subject': '', 'keywords': '', 'moddate': '2022-07-27T14:18:40+07:00', 'trapped': '', 'modDate': \"D:20220727141840+07'00'\", 'creationDate': \"D:20220727141840+07'00'\", 'page': 8, 'language': 'vi'}, page_content='! [ Công ty TNHH DENSO Việt Nam - Việc chụp ảnh trong Công ty phải được thực hiện bằng máy ảnh của Công ty với mục đích công việc vàđược phê duyệt với từng mức độ bảo mật ( đeo băng tay vải màu cam và có dòng chữ “ Camera ” ) ; - Ảnh chụp trong Công ty được coi là tài sản thông tin của Công ty . Do vậy , cầm mọi hình thức phân phối ảnh chụp trong Công ty vàảnh chụp cá nhân mặc đồng phục DENSO ra bên ngoài , bao gồm cả trang mạng xã hội nếu chưa được phê duyệt bởi các cấp có thâm quyên ; - Công ty thực hiện đào tạo người lao động về hoạt động bảo vệ tài sản , bí mật kinh doanh công nghệ của Công ty . 3 . Xử lí kỷ luật Đối với những hành vi xâm phạm tài sản , bí mat kinh doanh công nghệ của Công ty , tùy theo lỗi , mức độ nghiêm trọng về hậu quả mà có thể bị xử lý kỷ luật theo điều 39 chương 7 hoặc Công ty khởi kiện theo quy định của pháp luật . CHƯƠNG 4 - NHIỆM VỤ LÀM VIỆC Phần 1 : Giờ làm việc Điều 11 : Giờ làm việc cơ bản 1 . Lịch làm việc hàng năm ( bao gồm ngày nghỉ tuần ) được quy định cụ thể và thông báo cho người lao động vào đầu năm sau khi tham khảo ý kiến của tổ chức đại diện người lao động . 2 . Đối với nhân viên khối văn phòng : 2.1 Giờ làm việc bình thường không quá 10 giờ / ngày và 48 giờ / tuần . 2.2 Ngày nghỉ hằng tuần của nhân viên là Thứ Bảy , Chủ Nhật 2.3 Giờ làm việc như sau : GIỜ LÀM VIỆC THỰC TẾ NGHỈ NGẮN ( 8 Giờ 35 Phút ) ( 20 phút ) h Nghỉ giải lao và so zÄ 。 Buổi sáng ïn trữ Buổi chiều Nghỉ ngắn § : 10 ~ 12 : 00 | 12 : 00 ~ 12 : 30 12 : 30 ~ 17 : 15 | 20 phút ( thời gian linh hoạt ) 3 . Đối với nhân viên khối nhà máy : 3.1 Ngày nghỉ hằng tuần của nhân viên là Chủ Nhật . 3.2 Về cơ bản , giờ của các ca làm việc sẽ như sau : Ca | Bấtđầu | Giảilaoldnl | Giải lao lần 2 | ( ; ; 1 olận4 | Kếtthúc và Ăn giữa ca Cai | 06 : 00 | 08 : 00 < 08 : 10 | 10 : 00 ~ 1030 | 12 : 15 ~ 1225 | 14 : 00 Ca2 | 14 : 00 | 16 : 00 ~ 16 : 10 | 18 : 00 ~ 18 : 30 | 20 : 15 ~ 20 : 25 | 22 : 00 Ca3 | 22 : 00 _ | 00 : 00 ~ 00 : 10 | 02 : 00 ~ 02 : 45 | 04 : 30 ~ 04 : 40 | 06 : 00 4 . Giờ nghỉăn giữa ca : ca ngày là 30 phút , ca đêm là 45 phút . ] ( # )'),\n",
       " Document(id='0d66fdc6-86db-42e6-b4ce-ff0cd20192ec', metadata={'producer': 'ApeosPort 5570', 'creator': 'ApeosPort 5570', 'creationdate': '2022-07-27T14:18:40+07:00', 'source': 'true_test.pdf', 'file_path': 'true_test.pdf', 'total_pages': 48, 'format': 'PDF 1.3', 'title': '', 'author': '', 'subject': '', 'keywords': '', 'moddate': '2022-07-27T14:18:40+07:00', 'trapped': '', 'modDate': \"D:20220727141840+07'00'\", 'creationDate': \"D:20220727141840+07'00'\", 'page': 9, 'language': 'vi'}, page_content='! [ Công ty TNHH DENSO Việt Nam 9 . - Nhân viên có thời gian làm việc trong khoảng từ 22 : 00 đến 6 : 00 sáng ngày hôm sau được hưởng phụ cấp làm ca đêm bằng 35 % tiền lương của công việc làm ban ngày . . Thời điểm bất đầu hoặc kết thúc của giờ làm việc được quy định ở trên có nghĩa làđã “ sắn sàng làm việc ” hoặc “ kết thúc công việc ” tại vị trí làm việc . Thời gian đi tới nơi làm việc , thay trang phục , giao ca ... và từ nơi làm việc về không được tính là thời gian làm việc . . Việc không thể bắt đầu công việc vào thời điểm bắt đầu giờ làm việc hoặc ca làm việc mà không có lí do chính đáng sẽ bị coi là “ Di muộn ” . Rời vị trí làm việc mE \\\\ \\\\ ] không được cấp trên cho phép trước thời điểm kết thúc giờ làm việc sẽ bị coi là “ Ve sớm ” . h TB hợp bất khả kháng như dịch bệnh , sự cốđiện nước , thiên tai , cháy .. người lao động có thểđược yêu cầu nghỉ hàng tuần vào bất kỳ ngày nào trong tuần , không cốđịnh như trên lịch và Công ty sẽ thông báo trước cho người lao động bằng văn bản . Giờ làm việc trong thời gian công tác nước ngoài được quy định riêng . Nàng 12 : Làm thêm giờ bai . Khi cần làm thêm giờ do yêu cầu sản xuất kinh doanh , Công ty là người thỏa thuận , đồng ý cho người lao động làm thêm giờ khi đáp ứng các điều kiện sau : - Phai được sựđồng ý của người lao động tham gia làm thêm về các nội dung sau đây : thời gian làm thêm , địa điểm làm thêm , công việc làm thêm ; - Bảo đảm tổng số giờ làm việc bình thường và số giờ làm thêm của người lao động không quá 12 h / ngay : Tổng số giờ làm thêm không quá 40 h / tháng , không quá 200 h / năm ; Khi làm thêm từ 200 h đến 300 h thì công ty sẽ thực hiện các bước theo quy định của pháp luật . . Làm thêm giờ trong trường hợp đặc biệt Công ty có quyên yêu cầu người lao động làm thêm giờ vào bắt kỳ ngày nào mà không bị giới hạn về số giờ làm thêm theo quy định và người lao động không được từ chối trong trường hợp sau đây : - Thực hiện lệnh động viên , huy động đảm bảo nhiệm vụ quốc phòng , an ninh theo quy định của pháp luật ; Thực hiện các công việc nhằm bảo vệ tính mạng con người , tài sản của cơ quan , tổ chức , cá nhân trong phòng ngừa , khắc phục hậu quả thiên tai , hỏa hoạn , dịch bệnh nguy hiểm và thảm họa , trừ trường hợp có nguy cơ ảnh hưởng đến . tính mạng , sức khỏe của người lao động theo quy định của pháp luật về an toàn , vệ sinh lao động . Người lao động làm thêm giờđược trả lương như sau : 3.1 Vào ngày làm việc bình thường : bằng 150 % của tiền lương giờ trong ngày làm việc bình thường ; 3.2 Vào ngày nghỉ tuần : bằng 200 % của tiền lương giờ trong ngày làm việc bình thường ; 3.3 Vào ngày nghỉ lễ : bằng 300 % của tiền lương giờ trong ngày làm việc bình thường . - 9 - ] ( # )'),\n",
       " Document(id='e72f2ae1-befb-41b6-9863-f3d143dd62ae', metadata={'producer': 'ApeosPort 5570', 'creator': 'ApeosPort 5570', 'creationdate': '2022-07-27T14:18:40+07:00', 'source': 'true_test.pdf', 'file_path': 'true_test.pdf', 'total_pages': 48, 'format': 'PDF 1.3', 'title': '', 'author': '', 'subject': '', 'keywords': '', 'moddate': '2022-07-27T14:18:40+07:00', 'trapped': '', 'modDate': \"D:20220727141840+07'00'\", 'creationDate': \"D:20220727141840+07'00'\", 'page': 10, 'language': 'vi'}, page_content='! [ Công ty TNHH DENSO Việt Nam 3.4 Người lao động làm thêm giờ vào ban đêm thì ngoài việc trả lương theo quy định tại khoản 3.1 , 3.2 và 3.3 Điều này , người lao động còn được trả thêm 20 % tiền lương theo tiền lương giờ làm việc ban ngày . Điều 13 : Ngoại lệ trong trường hợp khẩn cấp Khi có những nhu cầu tạm thời do ảnh hưởng nghiêm trọng của thiên tai , hành động phá hoại của kẻ thù , hỏa hoạn hoặc bệnh dịch mà Công ty phải giải quyết , Công ty có thể yêu cầu người lao động làm thêm giờ quá 4 tiếng / ngày . Công ty sẽ có báo cáo với cơ quan quản lý lao động cấp trên trong những trường hợp này . Phần 2 : Ngày nghỉ Điều 14 : Nghỉ lễ 1 . Người lao động được nghỉ làm việc , hưởng nguyên lương những ngày lễ sau : - Tết dương lịch : 1 ngày ( ngày 1 tháng 1 dương lịch ) - Tết âm lịch : 5 ngày - Ngày Chiến thắng : 1 ngày ( ngày 30 tháng 4 dương lịch ) - Ngày Quốc tế lao động : 1 ngày ( ngày 1 tháng 5 dương lịch ) - Ngày Quốc khánh : 2 ngày ( ngày 2 tháng 9 dương lịch và 1 ngày trước hoặc sau ngày Quốc Khánh ) - Ngày Giỗ Tổ Hùng Vương : 1 ngày ( ngày 10 tháng 3 âm lịch ) 2 . Nếu bất kỳ ngày lễ nào nói trên trùng vào ngày nghỉ tuần , người lao động sẽ được nghỉ bù vào ngày tiếp theo . 3 . Công ty sẽ thông báo Lịch làm việc cụ thể của năm tiếp theo cho toàn thể nhân viên vào cuối năm trước sau khi đã tham khảo ý kiến của Tổ chức đại diện người lao động trên cơ sở tuân thủ thời giờ làm việc , thời giờ nghỉ ngơi của Bộ luật lao động . Điều 15 : Nghỉ phép 1 . Cách tính ngày phép : 1.1 Thời gian thử việc và tập nghềđược coi là thời gian làm việc của người lao động để tính số ngày phép . 1.2 Người lao động làm đủ 12 tháng / năm sẽđược hưởng 12 ngày phép . Số ngày nghỉđược tăng theo thâm niên làm việc nhưng không vượt quá 20 ngày / năm , cụ thể như sau : s _ Cứ 4 năm được hưởng thêm 1 ngày s _ Từ năm thứ 8 , cứ 3 năm được hưởng thêm 1 ngày * _ Từ năm thứ 14 , cứ 2 năm được hưởng thêm 1 ngày * _ Từ năm thứ 20 , cứ 1 năm được hưởng thêm 1 ngày 1.3 Người lao động được tuyển dụng trong năm được hưởng số ngày phép như sau : * Nenu vào làm việc trước ngày 16 của tháng thì sẽđược tính phép . ngay từ tháng đó ; © Neu vào làm việc từ ngày 16 của tháng trởđi thì sẽđược tính phép từ tháng tiếp theo . = lỦ - ~ ] ( # )'),\n",
       " Document(id='87e99346-d4ff-4d72-81ea-3d2fbd77cf9b', metadata={'producer': 'ApeosPort 5570', 'creator': 'ApeosPort 5570', 'creationdate': '2022-07-27T14:18:40+07:00', 'source': 'true_test.pdf', 'file_path': 'true_test.pdf', 'total_pages': 48, 'format': 'PDF 1.3', 'title': '', 'author': '', 'subject': '', 'keywords': '', 'moddate': '2022-07-27T14:18:40+07:00', 'trapped': '', 'modDate': \"D:20220727141840+07'00'\", 'creationDate': \"D:20220727141840+07'00'\", 'page': 13, 'language': 'vi'}, page_content='! [ Công ty TNHH DENSO Việt Nam 3 . Khi người lao động đến muộn do vấn đề giao thông công cộng ( có bằng chứng ) hoặc do những lý do khác mà công ty thấy rằng ngoài sự kiểm soát của người lao động thì họ sẽ không bị coi làđi làm muộn . Phần 3 : Đi công tác Điều 23 : Đi công tác 1 . Người lao động có thểđược yêu cầu đi công tác xa vì lý do công việc ( trừ trường hợp người lao động nữ mang thai từ tháng thứ 7 hoặc đang nuôi con dưới 12 tháng tuổi ) . 2 . Khi người lao động không thể quay về công ty vào khoảng thời gian đãđịnh vì lý do công việc hoặc hoàn cảnh không tránh khỏi , hoặc phải đi đến nơi khác , người lao động phải được cấp trên đồng ý và phải theo những thủ tục cần thiết ngay sau khi trở lại làm việc . 3 . Người lao động phải báo trước nơi nào người đó sẽở trong suốt thời gian công tác . 4 . Sau khi đi công tác về , người lao động phải đệ trình báo cáo cho cấp trên ngay lập tức nếu được yêu cầu . 5 . Người lao động được hưởng ngày nghỉđặc biệt hưởng nguyên lương sau khi đi học tập / công tác nước ngoài về theo quy định sau : - Nếu khoáđào tạo / công tác từ 3 tháng trở lên : nghỉ 3 ngày ; - Nếu khoáđào tạo / công tác từ 1 tháng đến dưới 3 tháng : nghỉ 1 ngày . 6 . Thủ tục thanh toán những khoản chỉ phíđi công tác sẽđược nêu riêng . CHƯƠNG 5 - SỨC KHỎE VÀ AN TOÀN Phần 1 : Thái độ cơ bản Điều 24 : Thái độ cơ bản 1 . Người lao động phải có thái độ hợp tác và tuân thủ những biện pháp đảm bảo sức khỏe và an toàn của Công ty 2 . Người lao động phải hết sức cố gắng để không xảy ra tai nạn lao động cho chính mình và những người khác . 3 . Người lao động phải tuân theo sự chỉ dẫn của Công ty để giữ vững và cải thiện sức khỏe . Phần 2 : An toàn Điều 25 : Trách nhiệm của Công ty Công ty có trách nhiệm thực hiện theo quy định của Bộ luật lao động và các văn bản pháp luật có liên quan khác về vấn đề an toàn và vệ sinh lao động , cụ thể như sau : 1 . Trang bịđầy đủ phương tiện bảo hộ lao động , đảm bảo an toàn lao động ; 2 . Có phương tiện / dụng cụ che chắn các bộ phận dễ gây nguy hiểm của máy móc , thiết bị trong Công ty ; 3 . Đặt các biển chỉ dẫn về an toàn ở nơi dễ thấy , dễđọc ; = lÄ = ] ( # )')]"
      ]
     },
     "execution_count": 67,
     "metadata": {},
     "output_type": "execute_result"
    }
   ],
   "source": [
    "llm = ChatOllama(model=MODEL_NAME, temperature=0.2)\n",
    "gen_queries = MultiQueryRetriever.from_llm(\n",
    "    retriever = vn_vector_store.as_retriever(), llm = llm,\n",
    ")\n",
    "logging.basicConfig()\n",
    "logging.getLogger('langchain.retrievers.multi_query').setLevel(logging.INFO)\n",
    "gen_queries.invoke('Giờ làm việc cơ bản?')"
   ]
  },
  {
   "cell_type": "code",
   "execution_count": null,
   "id": "26d87e93",
   "metadata": {},
   "outputs": [],
   "source": [
    "class RAG:\n",
    "    def __init__(self, retriever, llm = None):\n",
    "        self.retriever = retriever\n",
    "        if llm is None:\n",
    "            try: \n",
    "                self.llm = ChatOllama(model=MODEL_NAME, temperature = 0, max_tokens = 1024)\n",
    "            except Exception as e:\n",
    "                logging.error(f'Error initializing LLM: {e}')\n",
    "                self.llm = None\n",
    "        else:\n",
    "            self.llm = llm\n",
    "    def router(self, question: str) -> List[Document]:\n",
    "        return self.retriever.invoke(question)"
   ]
  }
 ],
 "metadata": {
  "kernelspec": {
   "display_name": ".venv",
   "language": "python",
   "name": "python3"
  },
  "language_info": {
   "codemirror_mode": {
    "name": "ipython",
    "version": 3
   },
   "file_extension": ".py",
   "mimetype": "text/x-python",
   "name": "python",
   "nbconvert_exporter": "python",
   "pygments_lexer": "ipython3",
   "version": "3.11.9"
  }
 },
 "nbformat": 4,
 "nbformat_minor": 5
}
