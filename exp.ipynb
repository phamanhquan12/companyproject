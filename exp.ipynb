{
 "cells": [
  {
   "cell_type": "code",
   "execution_count": 80,
   "id": "87ab3fe5",
   "metadata": {},
   "outputs": [
    {
     "name": "stdout",
     "output_type": "stream",
     "text": [
      "import completed\n"
     ]
    }
   ],
   "source": [
    "import os\n",
    "import pickle\n",
    "import faiss\n",
    "import base64\n",
    "import re\n",
    "from pathlib import Path\n",
    "from typing import List\n",
    "from langchain.docstore.document import Document\n",
    "from langchain.text_splitter import RecursiveCharacterTextSplitter\n",
    "from langchain.vectorstores import FAISS\n",
    "from langchain_huggingface import HuggingFaceEmbeddings\n",
    "from langchain_ollama import OllamaEmbeddings\n",
    "from langchain_ollama import ChatOllama\n",
    "from langchain_core.prompts import PromptTemplate, ChatPromptTemplate, HumanMessagePromptTemplate\n",
    "from langchain.retrievers import EnsembleRetriever\n",
    "from langchain_core.output_parsers import StrOutputParser\n",
    "from langchain_pymupdf4llm import PyMuPDF4LLMLoader\n",
    "from langchain_community.retrievers import BM25Retriever\n",
    "from langchain.docstore import InMemoryDocstore\n",
    "from langchain_community.document_loaders.parsers import RapidOCRBlobParser\n",
    "\n",
    "from langgraph.graph import START, END\n",
    "from uuid import uuid4\n",
    "import logging\n",
    "from IPython.display import Markdown, display\n",
    "print('import completed')\n",
    "\n",
    "PDF_PATH = 'true_test.pdf'\n",
    "FAISS_INDEX_PATH =  'faiss_index'\n",
    "IMAGE_DIR = 'extracted_images'\n",
    "EMBEDDING_MODEL_NAME = 'mxbai-embed-large:335m'\n",
    "EMBEDDING_MODEL2 = 'vinai/phobert-base-v2'\n",
    "MODEL_NAME = 'llama3'"
   ]
  },
  {
   "cell_type": "code",
   "execution_count": null,
   "id": "79dbf7d6",
   "metadata": {},
   "outputs": [
    {
     "name": "stdout",
     "output_type": "stream",
     "text": [
      "loader created\n"
     ]
    }
   ],
   "source": [
    "loader = PyMuPDF4LLMLoader(PDF_PATH, mode = 'page',extract_images=True, images_parser=RapidOCRBlobParser())\n",
    "print('loader created')"
   ]
  },
  {
   "cell_type": "code",
   "execution_count": 82,
   "id": "8c12d3fa",
   "metadata": {},
   "outputs": [],
   "source": [
    "docs = loader.load()"
   ]
  },
  {
   "cell_type": "code",
   "execution_count": null,
   "id": "4ee53330",
   "metadata": {},
   "outputs": [
    {
     "data": {
      "text/markdown": [],
      "text/plain": [
       "<IPython.core.display.Markdown object>"
      ]
     },
     "metadata": {},
     "output_type": "display_data"
    },
    {
     "data": {
      "text/plain": [
       "{'producer': 'ApeosPort 5570',\n",
       " 'creator': 'ApeosPort 5570',\n",
       " 'creationdate': '2022-07-27T14:18:40+07:00',\n",
       " 'source': 'true_test.pdf',\n",
       " 'file_path': 'true_test.pdf',\n",
       " 'total_pages': 48,\n",
       " 'format': 'PDF 1.3',\n",
       " 'title': '',\n",
       " 'author': '',\n",
       " 'subject': '',\n",
       " 'keywords': '',\n",
       " 'moddate': '2022-07-27T14:18:40+07:00',\n",
       " 'trapped': '',\n",
       " 'modDate': \"D:20220727141840+07'00'\",\n",
       " 'creationDate': \"D:20220727141840+07'00'\",\n",
       " 'page': 8}"
      ]
     },
     "execution_count": 84,
     "metadata": {},
     "output_type": "execute_result"
    }
   ],
   "source": []
  },
  {
   "cell_type": "code",
   "execution_count": 85,
   "id": "4e2d8680",
   "metadata": {},
   "outputs": [],
   "source": [
    "from langchain_community.document_loaders import FileSystemBlobLoader\n",
    "from langchain_community.document_loaders.generic import GenericLoader\n",
    "from langchain_pymupdf4llm import PyMuPDF4LLMParser"
   ]
  },
  {
   "cell_type": "code",
   "execution_count": 86,
   "id": "9787450e",
   "metadata": {},
   "outputs": [],
   "source": [
    "loader = GenericLoader(\n",
    "    blob_loader=FileSystemBlobLoader(\n",
    "        path=PDF_PATH,\n",
    "        glob=\"a.pdf\",\n",
    "    ),\n",
    "    blob_parser=PyMuPDF4LLMParser()\n",
    ")\n",
    "docs = loader.load()\n",
    "\n",
    "part = docs\n",
    "\n",
    "# print(part)\n",
    "# display(Markdown(part))"
   ]
  },
  {
   "cell_type": "code",
   "execution_count": 87,
   "id": "3bfc76c7",
   "metadata": {},
   "outputs": [
    {
     "data": {
      "text/plain": [
       "[Document(metadata={'producer': 'ApeosPort 5570', 'creator': 'ApeosPort 5570', 'creationdate': '2022-07-27T14:18:40+07:00', 'source': 'true_test.pdf', 'file_path': 'true_test.pdf', 'total_pages': 48, 'format': 'PDF 1.3', 'title': '', 'author': '', 'subject': '', 'keywords': '', 'moddate': '2022-07-27T14:18:40+07:00', 'trapped': '', 'modDate': \"D:20220727141840+07'00'\", 'creationDate': \"D:20220727141840+07'00'\", 'page': 0}, page_content=''),\n",
       " Document(metadata={'producer': 'ApeosPort 5570', 'creator': 'ApeosPort 5570', 'creationdate': '2022-07-27T14:18:40+07:00', 'source': 'true_test.pdf', 'file_path': 'true_test.pdf', 'total_pages': 48, 'format': 'PDF 1.3', 'title': '', 'author': '', 'subject': '', 'keywords': '', 'moddate': '2022-07-27T14:18:40+07:00', 'trapped': '', 'modDate': \"D:20220727141840+07'00'\", 'creationDate': \"D:20220727141840+07'00'\", 'page': 1}, page_content=''),\n",
       " Document(metadata={'producer': 'ApeosPort 5570', 'creator': 'ApeosPort 5570', 'creationdate': '2022-07-27T14:18:40+07:00', 'source': 'true_test.pdf', 'file_path': 'true_test.pdf', 'total_pages': 48, 'format': 'PDF 1.3', 'title': '', 'author': '', 'subject': '', 'keywords': '', 'moddate': '2022-07-27T14:18:40+07:00', 'trapped': '', 'modDate': \"D:20220727141840+07'00'\", 'creationDate': \"D:20220727141840+07'00'\", 'page': 2}, page_content=''),\n",
       " Document(metadata={'producer': 'ApeosPort 5570', 'creator': 'ApeosPort 5570', 'creationdate': '2022-07-27T14:18:40+07:00', 'source': 'true_test.pdf', 'file_path': 'true_test.pdf', 'total_pages': 48, 'format': 'PDF 1.3', 'title': '', 'author': '', 'subject': '', 'keywords': '', 'moddate': '2022-07-27T14:18:40+07:00', 'trapped': '', 'modDate': \"D:20220727141840+07'00'\", 'creationDate': \"D:20220727141840+07'00'\", 'page': 3}, page_content=''),\n",
       " Document(metadata={'producer': 'ApeosPort 5570', 'creator': 'ApeosPort 5570', 'creationdate': '2022-07-27T14:18:40+07:00', 'source': 'true_test.pdf', 'file_path': 'true_test.pdf', 'total_pages': 48, 'format': 'PDF 1.3', 'title': '', 'author': '', 'subject': '', 'keywords': '', 'moddate': '2022-07-27T14:18:40+07:00', 'trapped': '', 'modDate': \"D:20220727141840+07'00'\", 'creationDate': \"D:20220727141840+07'00'\", 'page': 4}, page_content=''),\n",
       " Document(metadata={'producer': 'ApeosPort 5570', 'creator': 'ApeosPort 5570', 'creationdate': '2022-07-27T14:18:40+07:00', 'source': 'true_test.pdf', 'file_path': 'true_test.pdf', 'total_pages': 48, 'format': 'PDF 1.3', 'title': '', 'author': '', 'subject': '', 'keywords': '', 'moddate': '2022-07-27T14:18:40+07:00', 'trapped': '', 'modDate': \"D:20220727141840+07'00'\", 'creationDate': \"D:20220727141840+07'00'\", 'page': 5}, page_content=''),\n",
       " Document(metadata={'producer': 'ApeosPort 5570', 'creator': 'ApeosPort 5570', 'creationdate': '2022-07-27T14:18:40+07:00', 'source': 'true_test.pdf', 'file_path': 'true_test.pdf', 'total_pages': 48, 'format': 'PDF 1.3', 'title': '', 'author': '', 'subject': '', 'keywords': '', 'moddate': '2022-07-27T14:18:40+07:00', 'trapped': '', 'modDate': \"D:20220727141840+07'00'\", 'creationDate': \"D:20220727141840+07'00'\", 'page': 6}, page_content=''),\n",
       " Document(metadata={'producer': 'ApeosPort 5570', 'creator': 'ApeosPort 5570', 'creationdate': '2022-07-27T14:18:40+07:00', 'source': 'true_test.pdf', 'file_path': 'true_test.pdf', 'total_pages': 48, 'format': 'PDF 1.3', 'title': '', 'author': '', 'subject': '', 'keywords': '', 'moddate': '2022-07-27T14:18:40+07:00', 'trapped': '', 'modDate': \"D:20220727141840+07'00'\", 'creationDate': \"D:20220727141840+07'00'\", 'page': 7}, page_content=''),\n",
       " Document(metadata={'producer': 'ApeosPort 5570', 'creator': 'ApeosPort 5570', 'creationdate': '2022-07-27T14:18:40+07:00', 'source': 'true_test.pdf', 'file_path': 'true_test.pdf', 'total_pages': 48, 'format': 'PDF 1.3', 'title': '', 'author': '', 'subject': '', 'keywords': '', 'moddate': '2022-07-27T14:18:40+07:00', 'trapped': '', 'modDate': \"D:20220727141840+07'00'\", 'creationDate': \"D:20220727141840+07'00'\", 'page': 8}, page_content=''),\n",
       " Document(metadata={'producer': 'ApeosPort 5570', 'creator': 'ApeosPort 5570', 'creationdate': '2022-07-27T14:18:40+07:00', 'source': 'true_test.pdf', 'file_path': 'true_test.pdf', 'total_pages': 48, 'format': 'PDF 1.3', 'title': '', 'author': '', 'subject': '', 'keywords': '', 'moddate': '2022-07-27T14:18:40+07:00', 'trapped': '', 'modDate': \"D:20220727141840+07'00'\", 'creationDate': \"D:20220727141840+07'00'\", 'page': 9}, page_content=''),\n",
       " Document(metadata={'producer': 'ApeosPort 5570', 'creator': 'ApeosPort 5570', 'creationdate': '2022-07-27T14:18:40+07:00', 'source': 'true_test.pdf', 'file_path': 'true_test.pdf', 'total_pages': 48, 'format': 'PDF 1.3', 'title': '', 'author': '', 'subject': '', 'keywords': '', 'moddate': '2022-07-27T14:18:40+07:00', 'trapped': '', 'modDate': \"D:20220727141840+07'00'\", 'creationDate': \"D:20220727141840+07'00'\", 'page': 10}, page_content=''),\n",
       " Document(metadata={'producer': 'ApeosPort 5570', 'creator': 'ApeosPort 5570', 'creationdate': '2022-07-27T14:18:40+07:00', 'source': 'true_test.pdf', 'file_path': 'true_test.pdf', 'total_pages': 48, 'format': 'PDF 1.3', 'title': '', 'author': '', 'subject': '', 'keywords': '', 'moddate': '2022-07-27T14:18:40+07:00', 'trapped': '', 'modDate': \"D:20220727141840+07'00'\", 'creationDate': \"D:20220727141840+07'00'\", 'page': 11}, page_content=''),\n",
       " Document(metadata={'producer': 'ApeosPort 5570', 'creator': 'ApeosPort 5570', 'creationdate': '2022-07-27T14:18:40+07:00', 'source': 'true_test.pdf', 'file_path': 'true_test.pdf', 'total_pages': 48, 'format': 'PDF 1.3', 'title': '', 'author': '', 'subject': '', 'keywords': '', 'moddate': '2022-07-27T14:18:40+07:00', 'trapped': '', 'modDate': \"D:20220727141840+07'00'\", 'creationDate': \"D:20220727141840+07'00'\", 'page': 12}, page_content=''),\n",
       " Document(metadata={'producer': 'ApeosPort 5570', 'creator': 'ApeosPort 5570', 'creationdate': '2022-07-27T14:18:40+07:00', 'source': 'true_test.pdf', 'file_path': 'true_test.pdf', 'total_pages': 48, 'format': 'PDF 1.3', 'title': '', 'author': '', 'subject': '', 'keywords': '', 'moddate': '2022-07-27T14:18:40+07:00', 'trapped': '', 'modDate': \"D:20220727141840+07'00'\", 'creationDate': \"D:20220727141840+07'00'\", 'page': 13}, page_content=''),\n",
       " Document(metadata={'producer': 'ApeosPort 5570', 'creator': 'ApeosPort 5570', 'creationdate': '2022-07-27T14:18:40+07:00', 'source': 'true_test.pdf', 'file_path': 'true_test.pdf', 'total_pages': 48, 'format': 'PDF 1.3', 'title': '', 'author': '', 'subject': '', 'keywords': '', 'moddate': '2022-07-27T14:18:40+07:00', 'trapped': '', 'modDate': \"D:20220727141840+07'00'\", 'creationDate': \"D:20220727141840+07'00'\", 'page': 14}, page_content=''),\n",
       " Document(metadata={'producer': 'ApeosPort 5570', 'creator': 'ApeosPort 5570', 'creationdate': '2022-07-27T14:18:40+07:00', 'source': 'true_test.pdf', 'file_path': 'true_test.pdf', 'total_pages': 48, 'format': 'PDF 1.3', 'title': '', 'author': '', 'subject': '', 'keywords': '', 'moddate': '2022-07-27T14:18:40+07:00', 'trapped': '', 'modDate': \"D:20220727141840+07'00'\", 'creationDate': \"D:20220727141840+07'00'\", 'page': 15}, page_content=''),\n",
       " Document(metadata={'producer': 'ApeosPort 5570', 'creator': 'ApeosPort 5570', 'creationdate': '2022-07-27T14:18:40+07:00', 'source': 'true_test.pdf', 'file_path': 'true_test.pdf', 'total_pages': 48, 'format': 'PDF 1.3', 'title': '', 'author': '', 'subject': '', 'keywords': '', 'moddate': '2022-07-27T14:18:40+07:00', 'trapped': '', 'modDate': \"D:20220727141840+07'00'\", 'creationDate': \"D:20220727141840+07'00'\", 'page': 16}, page_content=''),\n",
       " Document(metadata={'producer': 'ApeosPort 5570', 'creator': 'ApeosPort 5570', 'creationdate': '2022-07-27T14:18:40+07:00', 'source': 'true_test.pdf', 'file_path': 'true_test.pdf', 'total_pages': 48, 'format': 'PDF 1.3', 'title': '', 'author': '', 'subject': '', 'keywords': '', 'moddate': '2022-07-27T14:18:40+07:00', 'trapped': '', 'modDate': \"D:20220727141840+07'00'\", 'creationDate': \"D:20220727141840+07'00'\", 'page': 17}, page_content=''),\n",
       " Document(metadata={'producer': 'ApeosPort 5570', 'creator': 'ApeosPort 5570', 'creationdate': '2022-07-27T14:18:40+07:00', 'source': 'true_test.pdf', 'file_path': 'true_test.pdf', 'total_pages': 48, 'format': 'PDF 1.3', 'title': '', 'author': '', 'subject': '', 'keywords': '', 'moddate': '2022-07-27T14:18:40+07:00', 'trapped': '', 'modDate': \"D:20220727141840+07'00'\", 'creationDate': \"D:20220727141840+07'00'\", 'page': 18}, page_content=''),\n",
       " Document(metadata={'producer': 'ApeosPort 5570', 'creator': 'ApeosPort 5570', 'creationdate': '2022-07-27T14:18:40+07:00', 'source': 'true_test.pdf', 'file_path': 'true_test.pdf', 'total_pages': 48, 'format': 'PDF 1.3', 'title': '', 'author': '', 'subject': '', 'keywords': '', 'moddate': '2022-07-27T14:18:40+07:00', 'trapped': '', 'modDate': \"D:20220727141840+07'00'\", 'creationDate': \"D:20220727141840+07'00'\", 'page': 19}, page_content=''),\n",
       " Document(metadata={'producer': 'ApeosPort 5570', 'creator': 'ApeosPort 5570', 'creationdate': '2022-07-27T14:18:40+07:00', 'source': 'true_test.pdf', 'file_path': 'true_test.pdf', 'total_pages': 48, 'format': 'PDF 1.3', 'title': '', 'author': '', 'subject': '', 'keywords': '', 'moddate': '2022-07-27T14:18:40+07:00', 'trapped': '', 'modDate': \"D:20220727141840+07'00'\", 'creationDate': \"D:20220727141840+07'00'\", 'page': 20}, page_content=''),\n",
       " Document(metadata={'producer': 'ApeosPort 5570', 'creator': 'ApeosPort 5570', 'creationdate': '2022-07-27T14:18:40+07:00', 'source': 'true_test.pdf', 'file_path': 'true_test.pdf', 'total_pages': 48, 'format': 'PDF 1.3', 'title': '', 'author': '', 'subject': '', 'keywords': '', 'moddate': '2022-07-27T14:18:40+07:00', 'trapped': '', 'modDate': \"D:20220727141840+07'00'\", 'creationDate': \"D:20220727141840+07'00'\", 'page': 21}, page_content=''),\n",
       " Document(metadata={'producer': 'ApeosPort 5570', 'creator': 'ApeosPort 5570', 'creationdate': '2022-07-27T14:18:40+07:00', 'source': 'true_test.pdf', 'file_path': 'true_test.pdf', 'total_pages': 48, 'format': 'PDF 1.3', 'title': '', 'author': '', 'subject': '', 'keywords': '', 'moddate': '2022-07-27T14:18:40+07:00', 'trapped': '', 'modDate': \"D:20220727141840+07'00'\", 'creationDate': \"D:20220727141840+07'00'\", 'page': 22}, page_content=''),\n",
       " Document(metadata={'producer': 'ApeosPort 5570', 'creator': 'ApeosPort 5570', 'creationdate': '2022-07-27T14:18:40+07:00', 'source': 'true_test.pdf', 'file_path': 'true_test.pdf', 'total_pages': 48, 'format': 'PDF 1.3', 'title': '', 'author': '', 'subject': '', 'keywords': '', 'moddate': '2022-07-27T14:18:40+07:00', 'trapped': '', 'modDate': \"D:20220727141840+07'00'\", 'creationDate': \"D:20220727141840+07'00'\", 'page': 23}, page_content=''),\n",
       " Document(metadata={'producer': 'ApeosPort 5570', 'creator': 'ApeosPort 5570', 'creationdate': '2022-07-27T14:18:40+07:00', 'source': 'true_test.pdf', 'file_path': 'true_test.pdf', 'total_pages': 48, 'format': 'PDF 1.3', 'title': '', 'author': '', 'subject': '', 'keywords': '', 'moddate': '2022-07-27T14:18:40+07:00', 'trapped': '', 'modDate': \"D:20220727141840+07'00'\", 'creationDate': \"D:20220727141840+07'00'\", 'page': 24}, page_content=''),\n",
       " Document(metadata={'producer': 'ApeosPort 5570', 'creator': 'ApeosPort 5570', 'creationdate': '2022-07-27T14:18:40+07:00', 'source': 'true_test.pdf', 'file_path': 'true_test.pdf', 'total_pages': 48, 'format': 'PDF 1.3', 'title': '', 'author': '', 'subject': '', 'keywords': '', 'moddate': '2022-07-27T14:18:40+07:00', 'trapped': '', 'modDate': \"D:20220727141840+07'00'\", 'creationDate': \"D:20220727141840+07'00'\", 'page': 25}, page_content=''),\n",
       " Document(metadata={'producer': 'ApeosPort 5570', 'creator': 'ApeosPort 5570', 'creationdate': '2022-07-27T14:18:40+07:00', 'source': 'true_test.pdf', 'file_path': 'true_test.pdf', 'total_pages': 48, 'format': 'PDF 1.3', 'title': '', 'author': '', 'subject': '', 'keywords': '', 'moddate': '2022-07-27T14:18:40+07:00', 'trapped': '', 'modDate': \"D:20220727141840+07'00'\", 'creationDate': \"D:20220727141840+07'00'\", 'page': 26}, page_content=''),\n",
       " Document(metadata={'producer': 'ApeosPort 5570', 'creator': 'ApeosPort 5570', 'creationdate': '2022-07-27T14:18:40+07:00', 'source': 'true_test.pdf', 'file_path': 'true_test.pdf', 'total_pages': 48, 'format': 'PDF 1.3', 'title': '', 'author': '', 'subject': '', 'keywords': '', 'moddate': '2022-07-27T14:18:40+07:00', 'trapped': '', 'modDate': \"D:20220727141840+07'00'\", 'creationDate': \"D:20220727141840+07'00'\", 'page': 27}, page_content=''),\n",
       " Document(metadata={'producer': 'ApeosPort 5570', 'creator': 'ApeosPort 5570', 'creationdate': '2022-07-27T14:18:40+07:00', 'source': 'true_test.pdf', 'file_path': 'true_test.pdf', 'total_pages': 48, 'format': 'PDF 1.3', 'title': '', 'author': '', 'subject': '', 'keywords': '', 'moddate': '2022-07-27T14:18:40+07:00', 'trapped': '', 'modDate': \"D:20220727141840+07'00'\", 'creationDate': \"D:20220727141840+07'00'\", 'page': 28}, page_content=''),\n",
       " Document(metadata={'producer': 'ApeosPort 5570', 'creator': 'ApeosPort 5570', 'creationdate': '2022-07-27T14:18:40+07:00', 'source': 'true_test.pdf', 'file_path': 'true_test.pdf', 'total_pages': 48, 'format': 'PDF 1.3', 'title': '', 'author': '', 'subject': '', 'keywords': '', 'moddate': '2022-07-27T14:18:40+07:00', 'trapped': '', 'modDate': \"D:20220727141840+07'00'\", 'creationDate': \"D:20220727141840+07'00'\", 'page': 29}, page_content=''),\n",
       " Document(metadata={'producer': 'ApeosPort 5570', 'creator': 'ApeosPort 5570', 'creationdate': '2022-07-27T14:18:40+07:00', 'source': 'true_test.pdf', 'file_path': 'true_test.pdf', 'total_pages': 48, 'format': 'PDF 1.3', 'title': '', 'author': '', 'subject': '', 'keywords': '', 'moddate': '2022-07-27T14:18:40+07:00', 'trapped': '', 'modDate': \"D:20220727141840+07'00'\", 'creationDate': \"D:20220727141840+07'00'\", 'page': 30}, page_content=''),\n",
       " Document(metadata={'producer': 'ApeosPort 5570', 'creator': 'ApeosPort 5570', 'creationdate': '2022-07-27T14:18:40+07:00', 'source': 'true_test.pdf', 'file_path': 'true_test.pdf', 'total_pages': 48, 'format': 'PDF 1.3', 'title': '', 'author': '', 'subject': '', 'keywords': '', 'moddate': '2022-07-27T14:18:40+07:00', 'trapped': '', 'modDate': \"D:20220727141840+07'00'\", 'creationDate': \"D:20220727141840+07'00'\", 'page': 31}, page_content=''),\n",
       " Document(metadata={'producer': 'ApeosPort 5570', 'creator': 'ApeosPort 5570', 'creationdate': '2022-07-27T14:18:40+07:00', 'source': 'true_test.pdf', 'file_path': 'true_test.pdf', 'total_pages': 48, 'format': 'PDF 1.3', 'title': '', 'author': '', 'subject': '', 'keywords': '', 'moddate': '2022-07-27T14:18:40+07:00', 'trapped': '', 'modDate': \"D:20220727141840+07'00'\", 'creationDate': \"D:20220727141840+07'00'\", 'page': 32}, page_content=''),\n",
       " Document(metadata={'producer': 'ApeosPort 5570', 'creator': 'ApeosPort 5570', 'creationdate': '2022-07-27T14:18:40+07:00', 'source': 'true_test.pdf', 'file_path': 'true_test.pdf', 'total_pages': 48, 'format': 'PDF 1.3', 'title': '', 'author': '', 'subject': '', 'keywords': '', 'moddate': '2022-07-27T14:18:40+07:00', 'trapped': '', 'modDate': \"D:20220727141840+07'00'\", 'creationDate': \"D:20220727141840+07'00'\", 'page': 33}, page_content=''),\n",
       " Document(metadata={'producer': 'ApeosPort 5570', 'creator': 'ApeosPort 5570', 'creationdate': '2022-07-27T14:18:40+07:00', 'source': 'true_test.pdf', 'file_path': 'true_test.pdf', 'total_pages': 48, 'format': 'PDF 1.3', 'title': '', 'author': '', 'subject': '', 'keywords': '', 'moddate': '2022-07-27T14:18:40+07:00', 'trapped': '', 'modDate': \"D:20220727141840+07'00'\", 'creationDate': \"D:20220727141840+07'00'\", 'page': 34}, page_content=''),\n",
       " Document(metadata={'producer': 'ApeosPort 5570', 'creator': 'ApeosPort 5570', 'creationdate': '2022-07-27T14:18:40+07:00', 'source': 'true_test.pdf', 'file_path': 'true_test.pdf', 'total_pages': 48, 'format': 'PDF 1.3', 'title': '', 'author': '', 'subject': '', 'keywords': '', 'moddate': '2022-07-27T14:18:40+07:00', 'trapped': '', 'modDate': \"D:20220727141840+07'00'\", 'creationDate': \"D:20220727141840+07'00'\", 'page': 35}, page_content=''),\n",
       " Document(metadata={'producer': 'ApeosPort 5570', 'creator': 'ApeosPort 5570', 'creationdate': '2022-07-27T14:18:40+07:00', 'source': 'true_test.pdf', 'file_path': 'true_test.pdf', 'total_pages': 48, 'format': 'PDF 1.3', 'title': '', 'author': '', 'subject': '', 'keywords': '', 'moddate': '2022-07-27T14:18:40+07:00', 'trapped': '', 'modDate': \"D:20220727141840+07'00'\", 'creationDate': \"D:20220727141840+07'00'\", 'page': 36}, page_content=''),\n",
       " Document(metadata={'producer': 'ApeosPort 5570', 'creator': 'ApeosPort 5570', 'creationdate': '2022-07-27T14:18:40+07:00', 'source': 'true_test.pdf', 'file_path': 'true_test.pdf', 'total_pages': 48, 'format': 'PDF 1.3', 'title': '', 'author': '', 'subject': '', 'keywords': '', 'moddate': '2022-07-27T14:18:40+07:00', 'trapped': '', 'modDate': \"D:20220727141840+07'00'\", 'creationDate': \"D:20220727141840+07'00'\", 'page': 37}, page_content=''),\n",
       " Document(metadata={'producer': 'ApeosPort 5570', 'creator': 'ApeosPort 5570', 'creationdate': '2022-07-27T14:18:40+07:00', 'source': 'true_test.pdf', 'file_path': 'true_test.pdf', 'total_pages': 48, 'format': 'PDF 1.3', 'title': '', 'author': '', 'subject': '', 'keywords': '', 'moddate': '2022-07-27T14:18:40+07:00', 'trapped': '', 'modDate': \"D:20220727141840+07'00'\", 'creationDate': \"D:20220727141840+07'00'\", 'page': 38}, page_content=''),\n",
       " Document(metadata={'producer': 'ApeosPort 5570', 'creator': 'ApeosPort 5570', 'creationdate': '2022-07-27T14:18:40+07:00', 'source': 'true_test.pdf', 'file_path': 'true_test.pdf', 'total_pages': 48, 'format': 'PDF 1.3', 'title': '', 'author': '', 'subject': '', 'keywords': '', 'moddate': '2022-07-27T14:18:40+07:00', 'trapped': '', 'modDate': \"D:20220727141840+07'00'\", 'creationDate': \"D:20220727141840+07'00'\", 'page': 39}, page_content=''),\n",
       " Document(metadata={'producer': 'ApeosPort 5570', 'creator': 'ApeosPort 5570', 'creationdate': '2022-07-27T14:18:40+07:00', 'source': 'true_test.pdf', 'file_path': 'true_test.pdf', 'total_pages': 48, 'format': 'PDF 1.3', 'title': '', 'author': '', 'subject': '', 'keywords': '', 'moddate': '2022-07-27T14:18:40+07:00', 'trapped': '', 'modDate': \"D:20220727141840+07'00'\", 'creationDate': \"D:20220727141840+07'00'\", 'page': 40}, page_content=''),\n",
       " Document(metadata={'producer': 'ApeosPort 5570', 'creator': 'ApeosPort 5570', 'creationdate': '2022-07-27T14:18:40+07:00', 'source': 'true_test.pdf', 'file_path': 'true_test.pdf', 'total_pages': 48, 'format': 'PDF 1.3', 'title': '', 'author': '', 'subject': '', 'keywords': '', 'moddate': '2022-07-27T14:18:40+07:00', 'trapped': '', 'modDate': \"D:20220727141840+07'00'\", 'creationDate': \"D:20220727141840+07'00'\", 'page': 41}, page_content=''),\n",
       " Document(metadata={'producer': 'ApeosPort 5570', 'creator': 'ApeosPort 5570', 'creationdate': '2022-07-27T14:18:40+07:00', 'source': 'true_test.pdf', 'file_path': 'true_test.pdf', 'total_pages': 48, 'format': 'PDF 1.3', 'title': '', 'author': '', 'subject': '', 'keywords': '', 'moddate': '2022-07-27T14:18:40+07:00', 'trapped': '', 'modDate': \"D:20220727141840+07'00'\", 'creationDate': \"D:20220727141840+07'00'\", 'page': 42}, page_content=''),\n",
       " Document(metadata={'producer': 'ApeosPort 5570', 'creator': 'ApeosPort 5570', 'creationdate': '2022-07-27T14:18:40+07:00', 'source': 'true_test.pdf', 'file_path': 'true_test.pdf', 'total_pages': 48, 'format': 'PDF 1.3', 'title': '', 'author': '', 'subject': '', 'keywords': '', 'moddate': '2022-07-27T14:18:40+07:00', 'trapped': '', 'modDate': \"D:20220727141840+07'00'\", 'creationDate': \"D:20220727141840+07'00'\", 'page': 43}, page_content=''),\n",
       " Document(metadata={'producer': 'ApeosPort 5570', 'creator': 'ApeosPort 5570', 'creationdate': '2022-07-27T14:18:40+07:00', 'source': 'true_test.pdf', 'file_path': 'true_test.pdf', 'total_pages': 48, 'format': 'PDF 1.3', 'title': '', 'author': '', 'subject': '', 'keywords': '', 'moddate': '2022-07-27T14:18:40+07:00', 'trapped': '', 'modDate': \"D:20220727141840+07'00'\", 'creationDate': \"D:20220727141840+07'00'\", 'page': 44}, page_content=''),\n",
       " Document(metadata={'producer': 'ApeosPort 5570', 'creator': 'ApeosPort 5570', 'creationdate': '2022-07-27T14:18:40+07:00', 'source': 'true_test.pdf', 'file_path': 'true_test.pdf', 'total_pages': 48, 'format': 'PDF 1.3', 'title': '', 'author': '', 'subject': '', 'keywords': '', 'moddate': '2022-07-27T14:18:40+07:00', 'trapped': '', 'modDate': \"D:20220727141840+07'00'\", 'creationDate': \"D:20220727141840+07'00'\", 'page': 45}, page_content=''),\n",
       " Document(metadata={'producer': 'ApeosPort 5570', 'creator': 'ApeosPort 5570', 'creationdate': '2022-07-27T14:18:40+07:00', 'source': 'true_test.pdf', 'file_path': 'true_test.pdf', 'total_pages': 48, 'format': 'PDF 1.3', 'title': '', 'author': '', 'subject': '', 'keywords': '', 'moddate': '2022-07-27T14:18:40+07:00', 'trapped': '', 'modDate': \"D:20220727141840+07'00'\", 'creationDate': \"D:20220727141840+07'00'\", 'page': 46}, page_content=''),\n",
       " Document(metadata={'producer': 'ApeosPort 5570', 'creator': 'ApeosPort 5570', 'creationdate': '2022-07-27T14:18:40+07:00', 'source': 'true_test.pdf', 'file_path': 'true_test.pdf', 'total_pages': 48, 'format': 'PDF 1.3', 'title': '', 'author': '', 'subject': '', 'keywords': '', 'moddate': '2022-07-27T14:18:40+07:00', 'trapped': '', 'modDate': \"D:20220727141840+07'00'\", 'creationDate': \"D:20220727141840+07'00'\", 'page': 47}, page_content='')]"
      ]
     },
     "execution_count": 87,
     "metadata": {},
     "output_type": "execute_result"
    }
   ],
   "source": [
    "part"
   ]
  }
 ],
 "metadata": {
  "kernelspec": {
   "display_name": "Python 3",
   "language": "python",
   "name": "python3"
  },
  "language_info": {
   "codemirror_mode": {
    "name": "ipython",
    "version": 3
   },
   "file_extension": ".py",
   "mimetype": "text/x-python",
   "name": "python",
   "nbconvert_exporter": "python",
   "pygments_lexer": "ipython3",
   "version": "3.11.9"
  }
 },
 "nbformat": 4,
 "nbformat_minor": 5
}
